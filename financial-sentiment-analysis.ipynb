{
  "cells": [
    {
      "cell_type": "markdown",
      "metadata": {
        "id": "jCUXPmr9MLtD"
      },
      "source": [
        "# Google colab commands"
      ]
    },
    {
      "cell_type": "code",
      "execution_count": 1,
      "metadata": {
        "colab": {
          "base_uri": "https://localhost:8080/"
        },
        "id": "u74sT_sz2-Lm",
        "outputId": "679dea2a-3d31-4f7e-c606-9f01e964b79c"
      },
      "outputs": [
        {
          "output_type": "stream",
          "name": "stdout",
          "text": [
            "Cloning into 'financial-sentiment-analysis'...\n",
            "remote: Enumerating objects: 97, done.\u001b[K\n",
            "remote: Counting objects: 100% (55/55), done.\u001b[K\n",
            "remote: Compressing objects: 100% (42/42), done.\u001b[K\n",
            "remote: Total 97 (delta 30), reused 34 (delta 13), pack-reused 42\u001b[K\n",
            "Unpacking objects: 100% (97/97), 112.32 MiB | 11.49 MiB/s, done.\n"
          ]
        }
      ],
      "source": [
        "!git clone https://github.com/Francesco9932/financial-sentiment-analysis"
      ]
    },
    {
      "cell_type": "code",
      "execution_count": 2,
      "metadata": {
        "colab": {
          "base_uri": "https://localhost:8080/"
        },
        "id": "tAah7XGk3fcD",
        "outputId": "4061ce9c-5e1a-4dee-fc73-d626286cc8eb"
      },
      "outputs": [
        {
          "output_type": "stream",
          "name": "stdout",
          "text": [
            "/content/financial-sentiment-analysis\n"
          ]
        }
      ],
      "source": [
        "%cd financial-sentiment-analysis/"
      ]
    },
    {
      "cell_type": "code",
      "execution_count": 3,
      "metadata": {
        "colab": {
          "base_uri": "https://localhost:8080/"
        },
        "id": "CDHlnzX4l1S6",
        "outputId": "18bacd15-aea4-41e2-9607-667775251f34"
      },
      "outputs": [
        {
          "output_type": "stream",
          "name": "stdout",
          "text": [
            "--2023-06-06 11:43:05--  http://nlp.stanford.edu/data/glove.6B.zip\n",
            "Resolving nlp.stanford.edu (nlp.stanford.edu)... 171.64.67.140\n",
            "Connecting to nlp.stanford.edu (nlp.stanford.edu)|171.64.67.140|:80... connected.\n",
            "HTTP request sent, awaiting response... 302 Found\n",
            "Location: https://nlp.stanford.edu/data/glove.6B.zip [following]\n",
            "--2023-06-06 11:43:05--  https://nlp.stanford.edu/data/glove.6B.zip\n",
            "Connecting to nlp.stanford.edu (nlp.stanford.edu)|171.64.67.140|:443... connected.\n",
            "HTTP request sent, awaiting response... 301 Moved Permanently\n",
            "Location: https://downloads.cs.stanford.edu/nlp/data/glove.6B.zip [following]\n",
            "--2023-06-06 11:43:05--  https://downloads.cs.stanford.edu/nlp/data/glove.6B.zip\n",
            "Resolving downloads.cs.stanford.edu (downloads.cs.stanford.edu)... 171.64.64.22\n",
            "Connecting to downloads.cs.stanford.edu (downloads.cs.stanford.edu)|171.64.64.22|:443... connected.\n",
            "HTTP request sent, awaiting response... 200 OK\n",
            "Length: 862182613 (822M) [application/zip]\n",
            "Saving to: ‘glove.6B.zip’\n",
            "\n",
            "glove.6B.zip        100%[===================>] 822.24M  5.02MB/s    in 2m 39s  \n",
            "\n",
            "2023-06-06 11:45:45 (5.17 MB/s) - ‘glove.6B.zip’ saved [862182613/862182613]\n",
            "\n"
          ]
        }
      ],
      "source": [
        "!wget http://nlp.stanford.edu/data/glove.6B.zip"
      ]
    },
    {
      "cell_type": "code",
      "execution_count": 4,
      "metadata": {
        "colab": {
          "base_uri": "https://localhost:8080/"
        },
        "id": "6vzvVRCTl-zm",
        "outputId": "23893141-14f7-4679-f1a1-dffc373b2b77"
      },
      "outputs": [
        {
          "output_type": "stream",
          "name": "stdout",
          "text": [
            "Archive:  glove.6B.zip\n",
            "  inflating: glove.6B.50d.txt        \n",
            "  inflating: glove.6B.100d.txt       \n",
            "  inflating: glove.6B.200d.txt       \n",
            "  inflating: glove.6B.300d.txt       \n"
          ]
        }
      ],
      "source": [
        "!unzip glove*.zip"
      ]
    },
    {
      "cell_type": "code",
      "execution_count": 5,
      "metadata": {
        "colab": {
          "base_uri": "https://localhost:8080/"
        },
        "id": "OzOjYeelNqy_",
        "outputId": "2cfdfaca-4eeb-48d0-f369-62ad3c99b945"
      },
      "outputs": [
        {
          "output_type": "stream",
          "name": "stdout",
          "text": [
            "Looking in indexes: https://pypi.org/simple, https://us-python.pkg.dev/colab-wheels/public/simple/\n",
            "Collecting transformers\n",
            "  Downloading transformers-4.29.2-py3-none-any.whl (7.1 MB)\n",
            "\u001b[2K     \u001b[90m━━━━━━━━━━━━━━━━━━━━━━━━━━━━━━━━━━━━━━━━\u001b[0m \u001b[32m7.1/7.1 MB\u001b[0m \u001b[31m48.4 MB/s\u001b[0m eta \u001b[36m0:00:00\u001b[0m\n",
            "\u001b[?25hRequirement already satisfied: filelock in /usr/local/lib/python3.10/dist-packages (from transformers) (3.12.0)\n",
            "Collecting huggingface-hub<1.0,>=0.14.1 (from transformers)\n",
            "  Downloading huggingface_hub-0.15.1-py3-none-any.whl (236 kB)\n",
            "\u001b[2K     \u001b[90m━━━━━━━━━━━━━━━━━━━━━━━━━━━━━━━━━━━━━━\u001b[0m \u001b[32m236.8/236.8 kB\u001b[0m \u001b[31m28.5 MB/s\u001b[0m eta \u001b[36m0:00:00\u001b[0m\n",
            "\u001b[?25hRequirement already satisfied: numpy>=1.17 in /usr/local/lib/python3.10/dist-packages (from transformers) (1.22.4)\n",
            "Requirement already satisfied: packaging>=20.0 in /usr/local/lib/python3.10/dist-packages (from transformers) (23.1)\n",
            "Requirement already satisfied: pyyaml>=5.1 in /usr/local/lib/python3.10/dist-packages (from transformers) (6.0)\n",
            "Requirement already satisfied: regex!=2019.12.17 in /usr/local/lib/python3.10/dist-packages (from transformers) (2022.10.31)\n",
            "Requirement already satisfied: requests in /usr/local/lib/python3.10/dist-packages (from transformers) (2.27.1)\n",
            "Collecting tokenizers!=0.11.3,<0.14,>=0.11.1 (from transformers)\n",
            "  Downloading tokenizers-0.13.3-cp310-cp310-manylinux_2_17_x86_64.manylinux2014_x86_64.whl (7.8 MB)\n",
            "\u001b[2K     \u001b[90m━━━━━━━━━━━━━━━━━━━━━━━━━━━━━━━━━━━━━━━━\u001b[0m \u001b[32m7.8/7.8 MB\u001b[0m \u001b[31m106.9 MB/s\u001b[0m eta \u001b[36m0:00:00\u001b[0m\n",
            "\u001b[?25hRequirement already satisfied: tqdm>=4.27 in /usr/local/lib/python3.10/dist-packages (from transformers) (4.65.0)\n",
            "Requirement already satisfied: fsspec in /usr/local/lib/python3.10/dist-packages (from huggingface-hub<1.0,>=0.14.1->transformers) (2023.4.0)\n",
            "Requirement already satisfied: typing-extensions>=3.7.4.3 in /usr/local/lib/python3.10/dist-packages (from huggingface-hub<1.0,>=0.14.1->transformers) (4.5.0)\n",
            "Requirement already satisfied: urllib3<1.27,>=1.21.1 in /usr/local/lib/python3.10/dist-packages (from requests->transformers) (1.26.15)\n",
            "Requirement already satisfied: certifi>=2017.4.17 in /usr/local/lib/python3.10/dist-packages (from requests->transformers) (2022.12.7)\n",
            "Requirement already satisfied: charset-normalizer~=2.0.0 in /usr/local/lib/python3.10/dist-packages (from requests->transformers) (2.0.12)\n",
            "Requirement already satisfied: idna<4,>=2.5 in /usr/local/lib/python3.10/dist-packages (from requests->transformers) (3.4)\n",
            "Installing collected packages: tokenizers, huggingface-hub, transformers\n",
            "Successfully installed huggingface-hub-0.15.1 tokenizers-0.13.3 transformers-4.29.2\n"
          ]
        }
      ],
      "source": [
        "pip install transformers"
      ]
    },
    {
      "cell_type": "markdown",
      "metadata": {
        "id": "e2agdfGhMLtH"
      },
      "source": [
        "# Import"
      ]
    },
    {
      "cell_type": "code",
      "execution_count": 6,
      "metadata": {
        "colab": {
          "base_uri": "https://localhost:8080/"
        },
        "id": "9UHwVbQ72Yjh",
        "outputId": "5071e1f7-660c-4f25-dd36-c1862ee64e2a"
      },
      "outputs": [
        {
          "output_type": "stream",
          "name": "stderr",
          "text": [
            "[nltk_data] Downloading package stopwords to /root/nltk_data...\n",
            "[nltk_data]   Unzipping corpora/stopwords.zip.\n"
          ]
        }
      ],
      "source": [
        "from transformers import TFDistilBertModel\n",
        "from transformers import DistilBertTokenizer\n",
        "import pandas as pd\n",
        "import numpy as np\n",
        "\n",
        "# pre-processing\n",
        "from sklearn.preprocessing import LabelEncoder\n",
        "from nltk.stem.porter import *\n",
        "from nltk.corpus import stopwords\n",
        "import re\n",
        "import nltk \n",
        "nltk.download(\"stopwords\")\n",
        "\n",
        "from transformers import BertTokenizer\n",
        "from transformers import TFBertModel\n",
        "import tensorflow as tf\n",
        "from keras.utils import pad_sequences\n",
        "import keras\n",
        "from keras.callbacks import EarlyStopping\n",
        "from keras.callbacks import ModelCheckpoint\n",
        "from keras.models import load_model\n",
        "\n",
        "from sklearn.model_selection import train_test_split\n",
        "from sklearn.metrics import classification_report"
      ]
    },
    {
      "cell_type": "markdown",
      "metadata": {
        "id": "reGiNL57MLtJ"
      },
      "source": [
        "# Data preprocessing"
      ]
    },
    {
      "cell_type": "code",
      "execution_count": 128,
      "metadata": {
        "colab": {
          "base_uri": "https://localhost:8080/",
          "height": 206
        },
        "id": "9fcdftTO2Yjk",
        "outputId": "dfb8fa74-cc78-4118-b236-1e851d5c79c2"
      },
      "outputs": [
        {
          "output_type": "execute_result",
          "data": {
            "text/plain": [
              "  sentiment                                           headline\n",
              "0   neutral  According to Gran , the company has no plans t...\n",
              "1   neutral  Technopolis plans to develop in stages an area...\n",
              "2  negative  The international electronic industry company ...\n",
              "3  positive  With the new production plant the company woul...\n",
              "4  positive  According to the company 's updated strategy f..."
            ],
            "text/html": [
              "\n",
              "  <div id=\"df-22e80b65-0f5e-41ef-a91e-e9d9cba0d75c\">\n",
              "    <div class=\"colab-df-container\">\n",
              "      <div>\n",
              "<style scoped>\n",
              "    .dataframe tbody tr th:only-of-type {\n",
              "        vertical-align: middle;\n",
              "    }\n",
              "\n",
              "    .dataframe tbody tr th {\n",
              "        vertical-align: top;\n",
              "    }\n",
              "\n",
              "    .dataframe thead th {\n",
              "        text-align: right;\n",
              "    }\n",
              "</style>\n",
              "<table border=\"1\" class=\"dataframe\">\n",
              "  <thead>\n",
              "    <tr style=\"text-align: right;\">\n",
              "      <th></th>\n",
              "      <th>sentiment</th>\n",
              "      <th>headline</th>\n",
              "    </tr>\n",
              "  </thead>\n",
              "  <tbody>\n",
              "    <tr>\n",
              "      <th>0</th>\n",
              "      <td>neutral</td>\n",
              "      <td>According to Gran , the company has no plans t...</td>\n",
              "    </tr>\n",
              "    <tr>\n",
              "      <th>1</th>\n",
              "      <td>neutral</td>\n",
              "      <td>Technopolis plans to develop in stages an area...</td>\n",
              "    </tr>\n",
              "    <tr>\n",
              "      <th>2</th>\n",
              "      <td>negative</td>\n",
              "      <td>The international electronic industry company ...</td>\n",
              "    </tr>\n",
              "    <tr>\n",
              "      <th>3</th>\n",
              "      <td>positive</td>\n",
              "      <td>With the new production plant the company woul...</td>\n",
              "    </tr>\n",
              "    <tr>\n",
              "      <th>4</th>\n",
              "      <td>positive</td>\n",
              "      <td>According to the company 's updated strategy f...</td>\n",
              "    </tr>\n",
              "  </tbody>\n",
              "</table>\n",
              "</div>\n",
              "      <button class=\"colab-df-convert\" onclick=\"convertToInteractive('df-22e80b65-0f5e-41ef-a91e-e9d9cba0d75c')\"\n",
              "              title=\"Convert this dataframe to an interactive table.\"\n",
              "              style=\"display:none;\">\n",
              "        \n",
              "  <svg xmlns=\"http://www.w3.org/2000/svg\" height=\"24px\"viewBox=\"0 0 24 24\"\n",
              "       width=\"24px\">\n",
              "    <path d=\"M0 0h24v24H0V0z\" fill=\"none\"/>\n",
              "    <path d=\"M18.56 5.44l.94 2.06.94-2.06 2.06-.94-2.06-.94-.94-2.06-.94 2.06-2.06.94zm-11 1L8.5 8.5l.94-2.06 2.06-.94-2.06-.94L8.5 2.5l-.94 2.06-2.06.94zm10 10l.94 2.06.94-2.06 2.06-.94-2.06-.94-.94-2.06-.94 2.06-2.06.94z\"/><path d=\"M17.41 7.96l-1.37-1.37c-.4-.4-.92-.59-1.43-.59-.52 0-1.04.2-1.43.59L10.3 9.45l-7.72 7.72c-.78.78-.78 2.05 0 2.83L4 21.41c.39.39.9.59 1.41.59.51 0 1.02-.2 1.41-.59l7.78-7.78 2.81-2.81c.8-.78.8-2.07 0-2.86zM5.41 20L4 18.59l7.72-7.72 1.47 1.35L5.41 20z\"/>\n",
              "  </svg>\n",
              "      </button>\n",
              "      \n",
              "  <style>\n",
              "    .colab-df-container {\n",
              "      display:flex;\n",
              "      flex-wrap:wrap;\n",
              "      gap: 12px;\n",
              "    }\n",
              "\n",
              "    .colab-df-convert {\n",
              "      background-color: #E8F0FE;\n",
              "      border: none;\n",
              "      border-radius: 50%;\n",
              "      cursor: pointer;\n",
              "      display: none;\n",
              "      fill: #1967D2;\n",
              "      height: 32px;\n",
              "      padding: 0 0 0 0;\n",
              "      width: 32px;\n",
              "    }\n",
              "\n",
              "    .colab-df-convert:hover {\n",
              "      background-color: #E2EBFA;\n",
              "      box-shadow: 0px 1px 2px rgba(60, 64, 67, 0.3), 0px 1px 3px 1px rgba(60, 64, 67, 0.15);\n",
              "      fill: #174EA6;\n",
              "    }\n",
              "\n",
              "    [theme=dark] .colab-df-convert {\n",
              "      background-color: #3B4455;\n",
              "      fill: #D2E3FC;\n",
              "    }\n",
              "\n",
              "    [theme=dark] .colab-df-convert:hover {\n",
              "      background-color: #434B5C;\n",
              "      box-shadow: 0px 1px 3px 1px rgba(0, 0, 0, 0.15);\n",
              "      filter: drop-shadow(0px 1px 2px rgba(0, 0, 0, 0.3));\n",
              "      fill: #FFFFFF;\n",
              "    }\n",
              "  </style>\n",
              "\n",
              "      <script>\n",
              "        const buttonEl =\n",
              "          document.querySelector('#df-22e80b65-0f5e-41ef-a91e-e9d9cba0d75c button.colab-df-convert');\n",
              "        buttonEl.style.display =\n",
              "          google.colab.kernel.accessAllowed ? 'block' : 'none';\n",
              "\n",
              "        async function convertToInteractive(key) {\n",
              "          const element = document.querySelector('#df-22e80b65-0f5e-41ef-a91e-e9d9cba0d75c');\n",
              "          const dataTable =\n",
              "            await google.colab.kernel.invokeFunction('convertToInteractive',\n",
              "                                                     [key], {});\n",
              "          if (!dataTable) return;\n",
              "\n",
              "          const docLinkHtml = 'Like what you see? Visit the ' +\n",
              "            '<a target=\"_blank\" href=https://colab.research.google.com/notebooks/data_table.ipynb>data table notebook</a>'\n",
              "            + ' to learn more about interactive tables.';\n",
              "          element.innerHTML = '';\n",
              "          dataTable['output_type'] = 'display_data';\n",
              "          await google.colab.output.renderOutput(dataTable, element);\n",
              "          const docLink = document.createElement('div');\n",
              "          docLink.innerHTML = docLinkHtml;\n",
              "          element.appendChild(docLink);\n",
              "        }\n",
              "      </script>\n",
              "    </div>\n",
              "  </div>\n",
              "  "
            ]
          },
          "metadata": {},
          "execution_count": 128
        }
      ],
      "source": [
        "df = pd.read_csv('all-data.csv', encoding=\"latin-1\",\n",
        "                 names=['sentiment', 'headline'])\n",
        "df.head()"
      ]
    },
    {
      "cell_type": "code",
      "execution_count": 130,
      "metadata": {
        "colab": {
          "base_uri": "https://localhost:8080/"
        },
        "id": "mBiWrbvb2Yjl",
        "outputId": "545149b9-d98e-4a9f-b81e-266c3f8ef900"
      },
      "outputs": [
        {
          "output_type": "stream",
          "name": "stdout",
          "text": [
            "original shape:  (4840, 2)\n",
            "after drop duplicates shape:  (4840, 2)\n",
            "after drop null shape:  (4840, 2)\n"
          ]
        }
      ],
      "source": [
        "print(\"original shape: \", df.shape)\n",
        "df = df.drop_duplicates()\n",
        "print(\"after drop duplicates shape: \", df.shape)\n",
        "dd_dn = df.dropna()\n",
        "print(\"after drop null shape: \", df.shape)"
      ]
    },
    {
      "cell_type": "code",
      "execution_count": 131,
      "metadata": {
        "id": "LoCLhm9NJEQJ",
        "outputId": "545be986-4b9d-47e1-a71a-2e82609dd0ae",
        "colab": {
          "base_uri": "https://localhost:8080/"
        }
      },
      "outputs": [
        {
          "output_type": "execute_result",
          "data": {
            "text/plain": [
              "sentiment    0\n",
              "headline     0\n",
              "dtype: int64"
            ]
          },
          "metadata": {},
          "execution_count": 131
        }
      ],
      "source": [
        "df.isnull().sum() "
      ]
    },
    {
      "cell_type": "code",
      "execution_count": 132,
      "metadata": {
        "id": "6TyaeDsiJEQK",
        "outputId": "e6fc1851-e450-4ea3-ae12-de0f50a2e46b",
        "colab": {
          "base_uri": "https://localhost:8080/",
          "height": 549
        }
      },
      "outputs": [
        {
          "output_type": "stream",
          "name": "stdout",
          "text": [
            "neutral     59.4\n",
            "positive    28.2\n",
            "negative    12.5\n",
            "Name: sentiment, dtype: float64\n"
          ]
        },
        {
          "output_type": "display_data",
          "data": {
            "text/plain": [
              "<Figure size 640x480 with 1 Axes>"
            ],
            "image/png": "[encoded data removed]"
          },
          "metadata": {}
        }
      ],
      "source": [
        "df['sentiment'].value_counts().plot(kind='bar')\n",
        "class_percentage = df['sentiment'].value_counts() / len(df) * 100\n",
        "print(round(class_percentage, 1))"
      ]
    },
    {
      "cell_type": "code",
      "execution_count": 133,
      "metadata": {
        "id": "DbwWkeN6JEQK"
      },
      "outputs": [],
      "source": [
        "import string\n",
        "def preprocess(text):\n",
        "    text = text.lower()\n",
        "    text = re.sub(r\"[^a-zA-Z0-9]\", \" \", text)\n",
        "    text = re.sub('[%s]' % re.escape(string.punctuation), '', text)\n",
        "    # words = text.split()\n",
        "    # words = [w for w in words if w not in stopwords.words(\"english\")]\n",
        "    return text\n",
        "\n",
        "df['headline'] = df['headline'].apply(preprocess)\n",
        "#df.to_csv('preprocessed.csv', index=False)"
      ]
    },
    {
      "cell_type": "code",
      "execution_count": null,
      "metadata": {
        "id": "HZ7ivOkIJEQK"
      },
      "outputs": [],
      "source": [
        "# Positive tweet\n",
        "print(\"Positive news headline example :\",df[df['sentiment']=='positive']['headline'].values[1])\n",
        "#negative_text\n",
        "print(\"Negative news headline example :\",\n",
        "      df[df['sentiment'] == 'negative']['headline'].values[1])\n",
        "#neutral_text\n",
        "print(\"Neutral news headline example  :\",df[df['sentiment']=='neutral']['headline'].values[1])"
      ]
    },
    {
      "cell_type": "code",
      "execution_count": 127,
      "metadata": {
        "colab": {
          "base_uri": "https://localhost:8080/"
        },
        "id": "9nE8aAUSMLtL",
        "outputId": "f001e36f-3b27-4af8-fafa-5b2a069ffad9"
      },
      "outputs": [
        {
          "output_type": "execute_result",
          "data": {
            "text/plain": [
              "array(['negative', 'neutral', 'positive'], dtype=object)"
            ]
          },
          "metadata": {},
          "execution_count": 127
        }
      ],
      "source": [
        "sentences = df['headline'].to_list()\n",
        "\n",
        "# Encode target labels\n",
        "le = LabelEncoder()\n",
        "le.fit(df['sentiment'])\n",
        "df['sentiment'] = le.transform(df['sentiment'])\n",
        "le.classes_"
      ]
    },
    {
      "cell_type": "code",
      "source": [
        "from matplotlib import pyplot as plt\n",
        "\n",
        "def plot_train_val_acc(history, title, acc_metric):\n",
        "    plt.plot(history.history[acc_metric])\n",
        "    plt.plot(history.history[\"val_\"+acc_metric])\n",
        "    plt.title(title)\n",
        "    plt.ylabel('Accuracy')\n",
        "    plt.xlabel('Epoch')\n",
        "    plt.legend(['train', 'val'], loc='upper left')\n",
        "\n",
        "    # Ottenere il valore massimo di val_accuracy e l'epoca corrispondente\n",
        "    max_val_acc = max(history.history['val_accuracy'])\n",
        "    epoch_with_max_val_acc = history.history['val_accuracy'].index(max_val_acc)\n",
        "\n",
        "    # Aggiungere un'etichetta per il valore massimo di val_accuracy nel grafico\n",
        "    plt.annotate(f'Max Val Acc: {max_val_acc:.4f}',\n",
        "                 xy=(epoch_with_max_val_acc, max_val_acc),\n",
        "                 xytext=(epoch_with_max_val_acc, max_val_acc + 0.05),\n",
        "                 arrowprops=dict(facecolor='black', arrowstyle='->'))\n",
        "\n",
        "    # Impostare gli intervalli dell'asse x come interi\n",
        "    plt.xticks(range(len(history.history[acc_metric])))\n",
        "\n",
        "    plt.show()\n",
        "\n"
      ],
      "metadata": {
        "id": "c4rn8oCzlceC"
      },
      "execution_count": 64,
      "outputs": []
    },
    {
      "cell_type": "markdown",
      "metadata": {
        "id": "2O7R6g5DMLtL"
      },
      "source": [
        "# Tokenizer for other models"
      ]
    },
    {
      "cell_type": "code",
      "execution_count": 13,
      "metadata": {
        "colab": {
          "base_uri": "https://localhost:8080/"
        },
        "id": "wpP0FaOE2Yjl",
        "outputId": "6f179b6b-a353-4680-dbc3-e519b31b55a7"
      },
      "outputs": [
        {
          "output_type": "stream",
          "name": "stdout",
          "text": [
            "Vocab length: 10094\n",
            "Maximum sequence length: 71\n"
          ]
        }
      ],
      "source": [
        "tokenizer = keras.preprocessing.text.Tokenizer(lower=True)\n",
        "tokenizer.fit_on_texts(sentences)\n",
        "sequences = tokenizer.texts_to_sequences(sentences)\n",
        "word_index = tokenizer.word_index\n",
        "print(\"Vocab length:\", len(word_index) + 1)\n",
        "\n",
        "max_seq_length = np.max(list(map(lambda x: len(x), sequences)))\n",
        "print(\"Maximum sequence length:\", max_seq_length)\n",
        "sequences = pad_sequences(sequences, maxlen=max_seq_length, padding='post')"
      ]
    },
    {
      "cell_type": "code",
      "execution_count": 14,
      "metadata": {
        "id": "vFJ-Xwp52Yjn"
      },
      "outputs": [],
      "source": [
        "train_sequences, test_sequences, y_train, y_test = train_test_split(sequences, df['sentiment'], train_size=0.7, shuffle=True, random_state=42)"
      ]
    },
    {
      "cell_type": "code",
      "execution_count": 15,
      "metadata": {
        "colab": {
          "base_uri": "https://localhost:8080/"
        },
        "id": "Hmt1g5NA2Yjn",
        "outputId": "ee261a70-efc8-4453-c2e2-a8206f4e96fa"
      },
      "outputs": [
        {
          "output_type": "stream",
          "name": "stdout",
          "text": [
            "Train Set -> (3388, 71) (3388,)\n",
            "Test Set -> (1452, 71) (1452,)\n"
          ]
        }
      ],
      "source": [
        "print('Train Set ->', train_sequences.shape, y_train.shape)\n",
        "print('Test Set ->', test_sequences.shape, y_test.shape)"
      ]
    },
    {
      "cell_type": "markdown",
      "metadata": {
        "id": "Teue3ANqMLtM"
      },
      "source": [
        "# Global Vectors for Word Representation (GloVe)"
      ]
    },
    {
      "cell_type": "code",
      "execution_count": 16,
      "metadata": {
        "id": "LqOWdydXMLtM"
      },
      "outputs": [],
      "source": [
        "vocab_size = 10123\n",
        "embedding_size = 200\n",
        "\n",
        "embeddings_index = {}\n",
        "\n",
        "with open('glove.6B.200d.txt') as f:\n",
        "    for line in f:\n",
        "        values = line.split()\n",
        "        word = values[0]\n",
        "        coefs = np.asarray(values[1:], dtype='float32')\n",
        "        embeddings_index[word] = coefs\n",
        "\n",
        "\n",
        "embeddings_matrix = np.zeros((vocab_size+1, embedding_size))\n",
        "for word, i in word_index.items():\n",
        "    embedding_vector = embeddings_index.get(word)\n",
        "    if embedding_vector is not None:\n",
        "        embeddings_matrix[i] = embedding_vector"
      ]
    },
    {
      "cell_type": "code",
      "execution_count": 17,
      "metadata": {
        "colab": {
          "base_uri": "https://localhost:8080/"
        },
        "id": "MbYMt5uIMLtM",
        "outputId": "9def4b3a-eff5-4f65-e982-c6efbb12f0e4"
      },
      "outputs": [
        {
          "output_type": "stream",
          "name": "stdout",
          "text": [
            "(10124, 200)\n"
          ]
        }
      ],
      "source": [
        "print(embeddings_matrix.shape)"
      ]
    },
    {
      "cell_type": "markdown",
      "metadata": {
        "id": "1ol8x6WBMLtM"
      },
      "source": [
        "# CNN1d Model"
      ]
    },
    {
      "cell_type": "code",
      "execution_count": 42,
      "metadata": {
        "colab": {
          "base_uri": "https://localhost:8080/"
        },
        "id": "f7rywjUkMLtM",
        "outputId": "9bd4ee78-c759-4a8a-eae6-bf2dafb995f5"
      },
      "outputs": [
        {
          "output_type": "stream",
          "name": "stdout",
          "text": [
            "Model: \"model_2\"\n",
            "__________________________________________________________________________________________________\n",
            " Layer (type)                   Output Shape         Param #     Connected to                     \n",
            "==================================================================================================\n",
            " input_3 (InputLayer)           [(None, 71)]         0           []                               \n",
            "                                                                                                  \n",
            " embedding_2 (Embedding)        (None, 71, 200)      2024800     ['input_3[0][0]']                \n",
            "                                                                                                  \n",
            " conv1d_5 (Conv1D)              (None, 70, 200)      80200       ['embedding_2[0][0]']            \n",
            "                                                                                                  \n",
            " conv1d_6 (Conv1D)              (None, 69, 200)      120200      ['embedding_2[0][0]']            \n",
            "                                                                                                  \n",
            " conv1d_7 (Conv1D)              (None, 68, 200)      160200      ['embedding_2[0][0]']            \n",
            "                                                                                                  \n",
            " conv1d_8 (Conv1D)              (None, 67, 200)      200200      ['embedding_2[0][0]']            \n",
            "                                                                                                  \n",
            " conv1d_9 (Conv1D)              (None, 66, 200)      240200      ['embedding_2[0][0]']            \n",
            "                                                                                                  \n",
            " global_max_pooling1d_5 (Global  (None, 200)         0           ['conv1d_5[0][0]']               \n",
            " MaxPooling1D)                                                                                    \n",
            "                                                                                                  \n",
            " global_max_pooling1d_6 (Global  (None, 200)         0           ['conv1d_6[0][0]']               \n",
            " MaxPooling1D)                                                                                    \n",
            "                                                                                                  \n",
            " global_max_pooling1d_7 (Global  (None, 200)         0           ['conv1d_7[0][0]']               \n",
            " MaxPooling1D)                                                                                    \n",
            "                                                                                                  \n",
            " global_max_pooling1d_8 (Global  (None, 200)         0           ['conv1d_8[0][0]']               \n",
            " MaxPooling1D)                                                                                    \n",
            "                                                                                                  \n",
            " global_max_pooling1d_9 (Global  (None, 200)         0           ['conv1d_9[0][0]']               \n",
            " MaxPooling1D)                                                                                    \n",
            "                                                                                                  \n",
            " concatenate_1 (Concatenate)    (None, 1000)         0           ['global_max_pooling1d_5[0][0]', \n",
            "                                                                  'global_max_pooling1d_6[0][0]', \n",
            "                                                                  'global_max_pooling1d_7[0][0]', \n",
            "                                                                  'global_max_pooling1d_8[0][0]', \n",
            "                                                                  'global_max_pooling1d_9[0][0]'] \n",
            "                                                                                                  \n",
            " dropout_2 (Dropout)            (None, 1000)         0           ['concatenate_1[0][0]']          \n",
            "                                                                                                  \n",
            " dense_3 (Dense)                (None, 128)          128128      ['dropout_2[0][0]']              \n",
            "                                                                                                  \n",
            " dropout_3 (Dropout)            (None, 128)          0           ['dense_3[0][0]']                \n",
            "                                                                                                  \n",
            " dense_4 (Dense)                (None, 3)            387         ['dropout_3[0][0]']              \n",
            "                                                                                                  \n",
            "==================================================================================================\n",
            "Total params: 2,954,315\n",
            "Trainable params: 2,954,315\n",
            "Non-trainable params: 0\n",
            "__________________________________________________________________________________________________\n"
          ]
        }
      ],
      "source": [
        "inputs = tf.keras.Input(shape=(train_sequences.shape[1],))\n",
        "x = tf.keras.layers.Embedding(input_dim=vocab_size+1,\n",
        "                              output_dim=embedding_size,\n",
        "                              input_length=train_sequences.shape[1],\n",
        "                              weights=[embeddings_matrix])(inputs)\n",
        "\n",
        "convs = []\n",
        "filter_sizes = [2,3,4,5,6]\n",
        "\n",
        "for filter_size in filter_sizes:\n",
        "    l_conv = tf.keras.layers.Conv1D(filters=200, \n",
        "                        kernel_size=filter_size, \n",
        "                        activation='relu')(x)\n",
        "    l_pool = tf.keras.layers.GlobalMaxPooling1D()(l_conv)\n",
        "    convs.append(l_pool)\n",
        "\n",
        "l_merge = tf.keras.layers.concatenate(convs, axis=1)\n",
        "x = tf.keras.layers.Dropout(0.1)(l_merge)  \n",
        "x = tf.keras.layers.Dense(128, activation='relu')(x)\n",
        "x = tf.keras.layers.Dropout(0.2)(x)\n",
        "outputs = tf.keras.layers.Dense(3, activation='softmax')(x)\n",
        "\n",
        "\n",
        "model = tf.keras.Model(inputs=inputs, outputs=outputs)\n",
        "\n",
        "model.compile(optimizer='adam',\n",
        "              loss='sparse_categorical_crossentropy',\n",
        "              metrics=['accuracy'])\n",
        "model.summary()"
      ]
    },
    {
      "cell_type": "code",
      "execution_count": 43,
      "metadata": {
        "colab": {
          "base_uri": "https://localhost:8080/"
        },
        "id": "Pz-EYfmtMLtN",
        "outputId": "a246d2e6-23a7-42dc-9342-9e992f269d31"
      },
      "outputs": [
        {
          "output_type": "stream",
          "name": "stdout",
          "text": [
            "Epoch 1/100\n",
            "96/96 [==============================] - ETA: 0s - loss: 0.9026 - accuracy: 0.6245\n",
            "Epoch 1: val_accuracy improved from -inf to 0.66667, saving model to ./best_model/best_model_cnn1d.h5\n",
            "96/96 [==============================] - 22s 193ms/step - loss: 0.9026 - accuracy: 0.6245 - val_loss: 0.7138 - val_accuracy: 0.6667\n",
            "Epoch 2/100\n",
            "96/96 [==============================] - ETA: 0s - loss: 0.5430 - accuracy: 0.7809\n",
            "Epoch 2: val_accuracy did not improve from 0.66667\n",
            "96/96 [==============================] - 11s 109ms/step - loss: 0.5430 - accuracy: 0.7809 - val_loss: 0.8018 - val_accuracy: 0.6667\n",
            "Epoch 3/100\n",
            "96/96 [==============================] - ETA: 0s - loss: 0.2744 - accuracy: 0.9006\n",
            "Epoch 3: val_accuracy improved from 0.66667 to 0.70501, saving model to ./best_model/best_model_cnn1d.h5\n",
            "96/96 [==============================] - 4s 43ms/step - loss: 0.2744 - accuracy: 0.9006 - val_loss: 0.6562 - val_accuracy: 0.7050\n",
            "Epoch 4/100\n",
            "96/96 [==============================] - ETA: 0s - loss: 0.1167 - accuracy: 0.9633\n",
            "Epoch 4: val_accuracy improved from 0.70501 to 0.76991, saving model to ./best_model/best_model_cnn1d.h5\n",
            "96/96 [==============================] - 5s 49ms/step - loss: 0.1167 - accuracy: 0.9633 - val_loss: 0.7664 - val_accuracy: 0.7699\n",
            "Epoch 5/100\n",
            "96/96 [==============================] - ETA: 0s - loss: 0.0484 - accuracy: 0.9898\n",
            "Epoch 5: val_accuracy did not improve from 0.76991\n",
            "96/96 [==============================] - 3s 33ms/step - loss: 0.0484 - accuracy: 0.9898 - val_loss: 0.6448 - val_accuracy: 0.7581\n",
            "Epoch 6/100\n",
            "96/96 [==============================] - ETA: 0s - loss: 0.0367 - accuracy: 0.9898\n",
            "Epoch 6: val_accuracy improved from 0.76991 to 0.77286, saving model to ./best_model/best_model_cnn1d.h5\n",
            "96/96 [==============================] - 4s 36ms/step - loss: 0.0367 - accuracy: 0.9898 - val_loss: 0.7577 - val_accuracy: 0.7729\n",
            "Epoch 7/100\n",
            "96/96 [==============================] - ETA: 0s - loss: 0.0255 - accuracy: 0.9948\n",
            "Epoch 7: val_accuracy did not improve from 0.77286\n",
            "96/96 [==============================] - 2s 19ms/step - loss: 0.0255 - accuracy: 0.9948 - val_loss: 0.8153 - val_accuracy: 0.7699\n",
            "Epoch 8/100\n",
            "96/96 [==============================] - ETA: 0s - loss: 0.0207 - accuracy: 0.9951\n",
            "Epoch 8: val_accuracy improved from 0.77286 to 0.78171, saving model to ./best_model/best_model_cnn1d.h5\n",
            "96/96 [==============================] - 4s 39ms/step - loss: 0.0207 - accuracy: 0.9951 - val_loss: 0.9545 - val_accuracy: 0.7817\n",
            "Epoch 9/100\n",
            "96/96 [==============================] - ETA: 0s - loss: 0.0139 - accuracy: 0.9961\n",
            "Epoch 9: val_accuracy did not improve from 0.78171\n",
            "96/96 [==============================] - 3s 27ms/step - loss: 0.0139 - accuracy: 0.9961 - val_loss: 1.1050 - val_accuracy: 0.7699\n",
            "Epoch 10/100\n",
            "96/96 [==============================] - ETA: 0s - loss: 0.0084 - accuracy: 0.9974\n",
            "Epoch 10: val_accuracy did not improve from 0.78171\n",
            "96/96 [==============================] - 4s 38ms/step - loss: 0.0084 - accuracy: 0.9974 - val_loss: 0.9928 - val_accuracy: 0.7611\n",
            "Epoch 10: early stopping\n"
          ]
        }
      ],
      "source": [
        "es = EarlyStopping(monitor='val_loss', mode='min', verbose=1, patience=5)\n",
        "mc = ModelCheckpoint('./best_model/best_model_cnn1d.h5', \n",
        "                     monitor='val_accuracy', mode='max', verbose=1, \n",
        "                     save_best_only=True)\n",
        "\n",
        "history = model.fit(train_sequences,\n",
        "                    y_train,\n",
        "                    batch_size=32,\n",
        "                    epochs=100, \n",
        "                    validation_split=0.1,\n",
        "                    callbacks=[es, mc])"
      ]
    },
    {
      "cell_type": "code",
      "source": [
        "plot_train_val_acc(history, \"GloVe+CNN1d model accuracy\", \"accuracy\")"
      ],
      "metadata": {
        "id": "jYeDXtDbpBZd",
        "outputId": "30fe6d73-cc0d-4dc6-b1a9-d4eb2dc2498d",
        "colab": {
          "base_uri": "https://localhost:8080/",
          "height": 472
        }
      },
      "execution_count": 47,
      "outputs": [
        {
          "output_type": "display_data",
          "data": {
            "text/plain": [
              "<Figure size 640x480 with 1 Axes>"
            ],
            "image/png": "[encoded data removed]"
          },
          "metadata": {}
        }
      ]
    },
    {
      "cell_type": "code",
      "execution_count": 139,
      "metadata": {
        "colab": {
          "base_uri": "https://localhost:8080/"
        },
        "id": "_Ad1U9WVMLtN",
        "outputId": "e751a804-a22b-4230-d355-e473dd3dbb08"
      },
      "outputs": [
        {
          "output_type": "stream",
          "name": "stdout",
          "text": [
            "46/46 [==============================] - 0s 4ms/step\n",
            "              precision    recall  f1-score   support\n",
            "\n",
            "           0       0.76      0.66      0.71       183\n",
            "           1       0.82      0.90      0.86       839\n",
            "           2       0.74      0.65      0.69       430\n",
            "\n",
            "    accuracy                           0.79      1452\n",
            "   macro avg       0.77      0.73      0.75      1452\n",
            "weighted avg       0.79      0.79      0.79      1452\n",
            "\n"
          ]
        }
      ],
      "source": [
        "saved_model = load_model('./best_model/best_model_cnn1d.h5')\n",
        "# Classification report:\n",
        "predicted = saved_model.predict(test_sequences)\n",
        "y_predicted = np.argmax(predicted, axis=1)\n",
        "print(classification_report(y_test, y_predicted))"
      ]
    },
    {
      "cell_type": "markdown",
      "metadata": {
        "id": "COAg03yHMLtN"
      },
      "source": [
        "# LSTM Model"
      ]
    },
    {
      "cell_type": "code",
      "execution_count": 66,
      "metadata": {
        "id": "mHXxH7wo2Yjn",
        "outputId": "634d25ed-c1b5-4873-d9a8-42b1860ee9bb",
        "colab": {
          "base_uri": "https://localhost:8080/"
        }
      },
      "outputs": [
        {
          "output_type": "stream",
          "name": "stdout",
          "text": [
            "Model: \"model_7\"\n",
            "_________________________________________________________________\n",
            " Layer (type)                Output Shape              Param #   \n",
            "=================================================================\n",
            " input_6 (InputLayer)        [(None, 71)]              0         \n",
            "                                                                 \n",
            " embedding_5 (Embedding)     (None, 71, 200)           2024600   \n",
            "                                                                 \n",
            " lstm_3 (LSTM)               (None, 71, 256)           467968    \n",
            "                                                                 \n",
            " flatten_3 (Flatten)         (None, 18176)             0         \n",
            "                                                                 \n",
            " dense_13 (Dense)            (None, 3)                 54531     \n",
            "                                                                 \n",
            "=================================================================\n",
            "Total params: 2,547,099\n",
            "Trainable params: 2,547,099\n",
            "Non-trainable params: 0\n",
            "_________________________________________________________________\n"
          ]
        }
      ],
      "source": [
        "inputs = tf.keras.Input(shape=(train_sequences.shape[1],))\n",
        "x = tf.keras.layers.Embedding(input_dim=vocab_size,\n",
        "                              output_dim=embedding_size,\n",
        "                              input_length=train_sequences.shape[1])(inputs)\n",
        "x = tf.keras.layers.LSTM(256, return_sequences=True, activation='tanh')(x)\n",
        "x = tf.keras.layers.Flatten()(x)\n",
        "outputs = tf.keras.layers.Dense(3, activation='softmax')(x)\n",
        "\n",
        "model = tf.keras.Model(inputs=inputs, outputs=outputs)\n",
        "\n",
        "model.compile(optimizer='adam',\n",
        "              loss='sparse_categorical_crossentropy',\n",
        "              metrics=['accuracy'])\n",
        "model.summary()"
      ]
    },
    {
      "cell_type": "code",
      "execution_count": 51,
      "metadata": {
        "colab": {
          "base_uri": "https://localhost:8080/"
        },
        "id": "gzjHoaVhMLtN",
        "outputId": "42449e33-c5e5-4db4-d146-515c006289ec"
      },
      "outputs": [
        {
          "output_type": "stream",
          "name": "stdout",
          "text": [
            "Epoch 1/100\n",
            "96/96 [==============================] - ETA: 0s - loss: 0.8138 - accuracy: 0.6537\n",
            "Epoch 1: val_accuracy improved from -inf to 0.67257, saving model to ./best_model/best_model_lstm.h5\n",
            "96/96 [==============================] - 16s 143ms/step - loss: 0.8138 - accuracy: 0.6537 - val_loss: 0.7787 - val_accuracy: 0.6726\n",
            "Epoch 2/100\n",
            "96/96 [==============================] - ETA: 0s - loss: 0.4064 - accuracy: 0.8455\n",
            "Epoch 2: val_accuracy improved from 0.67257 to 0.70501, saving model to ./best_model/best_model_lstm.h5\n",
            "96/96 [==============================] - 5s 57ms/step - loss: 0.4064 - accuracy: 0.8455 - val_loss: 0.7525 - val_accuracy: 0.7050\n",
            "Epoch 3/100\n",
            "96/96 [==============================] - ETA: 0s - loss: 0.1301 - accuracy: 0.9567\n",
            "Epoch 3: val_accuracy improved from 0.70501 to 0.76106, saving model to ./best_model/best_model_lstm.h5\n",
            "96/96 [==============================] - 4s 41ms/step - loss: 0.1301 - accuracy: 0.9567 - val_loss: 0.8911 - val_accuracy: 0.7611\n",
            "Epoch 4/100\n",
            "96/96 [==============================] - ETA: 0s - loss: 0.0655 - accuracy: 0.9797\n",
            "Epoch 4: val_accuracy did not improve from 0.76106\n",
            "96/96 [==============================] - 5s 48ms/step - loss: 0.0655 - accuracy: 0.9797 - val_loss: 0.9768 - val_accuracy: 0.7286\n",
            "Epoch 5/100\n",
            "96/96 [==============================] - ETA: 0s - loss: 0.0414 - accuracy: 0.9875\n",
            "Epoch 5: val_accuracy did not improve from 0.76106\n",
            "96/96 [==============================] - 2s 23ms/step - loss: 0.0414 - accuracy: 0.9875 - val_loss: 1.0391 - val_accuracy: 0.7139\n",
            "Epoch 6/100\n",
            "96/96 [==============================] - ETA: 0s - loss: 0.0191 - accuracy: 0.9931\n",
            "Epoch 6: val_accuracy did not improve from 0.76106\n",
            "96/96 [==============================] - 1s 14ms/step - loss: 0.0191 - accuracy: 0.9931 - val_loss: 1.5272 - val_accuracy: 0.7227\n",
            "Epoch 7/100\n",
            "96/96 [==============================] - ETA: 0s - loss: 0.0132 - accuracy: 0.9970\n",
            "Epoch 7: val_accuracy did not improve from 0.76106\n",
            "96/96 [==============================] - 2s 24ms/step - loss: 0.0132 - accuracy: 0.9970 - val_loss: 1.4105 - val_accuracy: 0.7168\n",
            "Epoch 7: early stopping\n"
          ]
        }
      ],
      "source": [
        "es = EarlyStopping(monitor='val_loss', mode='min', verbose=1, patience=5)\n",
        "mc = ModelCheckpoint('./best_model/best_model_lstm.h5', \n",
        "                     monitor='val_accuracy', mode='max', verbose=1, \n",
        "                     save_best_only=True)\n",
        "\n",
        "history = model.fit(train_sequences,\n",
        "                    y_train,\n",
        "                    batch_size=32,\n",
        "                    epochs=100, \n",
        "                    validation_split=0.1,\n",
        "                    callbacks=[es, mc])"
      ]
    },
    {
      "cell_type": "code",
      "source": [
        "plot_train_val_acc(history, \"GloVe+LSTM model accuracy\", \"accuracy\")"
      ],
      "metadata": {
        "id": "XNYdpovJnpzG",
        "outputId": "329e323c-12d0-4fce-bf8b-32952630fb97",
        "colab": {
          "base_uri": "https://localhost:8080/",
          "height": 472
        }
      },
      "execution_count": 52,
      "outputs": [
        {
          "output_type": "display_data",
          "data": {
            "text/plain": [
              "<Figure size 640x480 with 1 Axes>"
            ],
            "image/png": "[encoded data removed]"
          },
          "metadata": {}
        }
      ]
    },
    {
      "cell_type": "code",
      "execution_count": 138,
      "metadata": {
        "colab": {
          "base_uri": "https://localhost:8080/"
        },
        "id": "syZ4FiJY2Yjn",
        "outputId": "e95e4e6a-e64c-43b0-99b9-a4873e02dfd3"
      },
      "outputs": [
        {
          "output_type": "stream",
          "name": "stdout",
          "text": [
            "Test Losss: 0.81954\n",
            "Test accuracy: 75.75758%\n",
            "46/46 [==============================] - 1s 5ms/step\n",
            "              precision    recall  f1-score   support\n",
            "\n",
            "           0       0.66      0.69      0.68       183\n",
            "           1       0.79      0.87      0.83       839\n",
            "           2       0.73      0.56      0.63       430\n",
            "\n",
            "    accuracy                           0.76      1452\n",
            "   macro avg       0.73      0.71      0.71      1452\n",
            "weighted avg       0.75      0.76      0.75      1452\n",
            "\n"
          ]
        }
      ],
      "source": [
        "saved_model = load_model('./best_model/best_model_lstm.h5')\n",
        "# Classification report:\n",
        "predicted = saved_model.predict(test_sequences)\n",
        "y_predicted = np.argmax(predicted, axis=1)\n",
        "print(classification_report(y_test, y_predicted))\n"
      ]
    },
    {
      "cell_type": "markdown",
      "metadata": {
        "id": "5cjBCbYwMLtN"
      },
      "source": [
        "# BERT Finetune"
      ]
    },
    {
      "cell_type": "code",
      "execution_count": 54,
      "metadata": {
        "colab": {
          "base_uri": "https://localhost:8080/",
          "height": 481,
          "referenced_widgets": [
            "f23dbe058eb542a3a68ee9bfa5016ab5",
            "78352e9ff5994ad391f0fb874b879c46",
            "4365177dcf1043c1866cbee3d69bd1e6",
            "f37c83ddb940476187d081ef29b653e8",
            "f852f75f1f9c409bbd0142a91cc68030",
            "6a3b0d27d289483b88a495d8b6ff88ad",
            "be7c0915f97c4c18a8d3efe14fdad24d",
            "bdec4db726c64033bc0ffc9d71919443",
            "2a949bb4dd224d238ab192ad66a11ebc",
            "a008fd3bffb14653977b156a8bf23ee3",
            "ce68f29b8d994caba69b76dd861521b9",
            "cb3773a86824408ea4a31de05d3fe571",
            "ef68d02c085f403da60e5f997d18d4da",
            "432eb8061f614d75bd5cc003490c9704",
            "5802824316b74b458f4ce1ef30a81ad4",
            "1bcb0144690f4744b5c3f074241994de",
            "ac4d780f27484a3c92768f380c917fd7",
            "66a7c0351e66432e9dca0b2b73e053ab",
            "6273b33b6a48455fbae8410c3d6fe4a0",
            "a6dfbeec1046451dab55bb04de259bb6",
            "f91e3a363b3f4705bbd58edff5801b3a",
            "eba13bb626e94a89b58ebd255098df93",
            "5ef23a51800c40cc967f083cd8b090b9",
            "a7a2fbac19e44edea16c43fa806c438f",
            "83804d4064a4428ebba9e55554435a2d",
            "d5182bf905534ddab5f98e74afce3198",
            "08a78b9cdf724817b9e8670d5368d359",
            "caa8d26d07d646209f2fee2f0b09c7af",
            "475ee9214ec447088d2ab70ab2fe771a",
            "5d90455777d1471d8e35a419e1fe9be8",
            "2316cc78524b4aa8929c21da0d34728b",
            "0b9a1022eea24791a3e63232849d456f",
            "ac0c20304b8c424694a81c6c07885887",
            "2a3112943b204ac3bcee36e9171bda1f",
            "2ddd85d4873d454c9b694d3fe9558ac2",
            "52d524dd4dc04e91b4e78c8c20e537ab",
            "dddb6ca01702490aac77bdf0214d6626",
            "645d9b170714430b9b0386b9c4b4f666",
            "01832fdcdcab4e3f87e8b7b6dcac7d75",
            "5c340370ed444059ac78144871f194fe",
            "0fa46b4c04204482a425e3554f519fc6",
            "e29312f8d9314748b445ac46f4bdb475",
            "187a43166b2a492eaa8fbabd12347720",
            "31bd55b5aea84576b36519169b7709ff",
            "6fb201588c384f6fb48a2209b9255ced",
            "4e766b40e2ea4934bb4df308ccae6757",
            "e72c2adffecb4221959b517b63e60306",
            "e894613e2a794e75a9a21f507fe0e803",
            "176859aed61e4a80b8316c266d4a37a4",
            "61e7d18dd323497cb8ad80e059018e53",
            "cf5bd82ba185412a8fe56aeb5c8ddae7",
            "cbfa0d5c042b4ad198265671627b03f2",
            "3f1a9498f94f4f1d9b6dd43d88b1f434",
            "4a8bef11a5c04a06969b9d199f4e0d99",
            "f84843a0ff194363807da188755bd8f2",
            "fdfa3dc0d6dd48be855a9c609d89bb6d",
            "3197c8cacc2440b396437622a5eb03ce",
            "04b4625b27c04ed7981664e203a47b6c",
            "92a751cd35c8403ab3f16ac7d5fa19b6",
            "ee434327463c425dad653eb82d6d6d37",
            "ddad8628ffe14eb29cab0a6c25561cf1",
            "3ceae5b86aa04a12a0021b91f0268e0c",
            "a4d656da25e64890aed08b19ff3f1287",
            "0d85cd48328642249cad79aa5ffaace4",
            "021e03f9d93e42408f53353f9ca05056",
            "e445864804b84cf78a512e279c88d4d3",
            "10ba10a250514273afb7628ecd6ad0ba",
            "d22adfb4206648ac9f3c8bc505b43d9d",
            "9dc748db457f4b93bc5b8d4654dc4570",
            "e5085058747d43aaaa6bc5d1e9e90cf7",
            "1718c90fd042475ab5af9a9de506b2ff",
            "608e410a1c6043638e1d6100ffa93206",
            "a9c2e7afb5a94b03a26a1b740ad9a535",
            "82a2c9ea2a2341efabbf3087240192c2",
            "f70399c02e224592ba4d5708c9e477e1",
            "60252eb7cc464f75bdb7c6f260e61c2c",
            "b182d65daff94f69941433046ca78dca",
            "a04f2aa123af40ffb08067ed07fda960",
            "60e64b5dc7ab4ccc92bcb8d80226cf47",
            "d8682dc664b944efafc1994d64f9ca5e",
            "4bbf243b02e045d69776ff975a7c2d49",
            "c89a40730f0f4109aa1664eb15df4517",
            "84dfeaaf27534e55b42544e65d098b60",
            "ef59d1580c4844a8b673c187a31f6b67",
            "c016106c94b648a889c457fb71d27fd5",
            "76d4e748fe8644dc8ed2d7ef818a45b4",
            "7bff79ffb9bc46eaad9cb643db302068",
            "e34421490eea45d3a0d02dd07e07f388",
            "da2b5647a42d4b3c88814cf6788aee7e",
            "4187fda5c7fb4ccabf0561404a4e2caa",
            "f276223700654fc1a486ab839760f31a",
            "54580fa0880045c39cf9a9f464ce2e09",
            "cf956f43244543f98f8c3d837032f3da",
            "da9a2a98e968429fa3a2a6211e5eb68f",
            "84157da0fcf44a7b9c9f8c5056c37b2c",
            "f9a1b9db06c645df8c1d5524f5df7f0b",
            "e7d3d0be9bd24a3c9226e4bdc3e857af",
            "a30356a322cb4efab5b4dc95117cd26a",
            "553ed6e899b54107a28648b8c44d224b"
          ]
        },
        "id": "SFvu_kUQMLtO",
        "outputId": "7b84be1e-947a-4cf0-c2b6-b51d80f926a7"
      },
      "outputs": [
        {
          "output_type": "display_data",
          "data": {
            "text/plain": [
              "Downloading (…)solve/main/vocab.txt:   0%|          | 0.00/232k [00:00<?, ?B/s]"
            ],
            "application/vnd.jupyter.widget-view+json": {
              "version_major": 2,
              "version_minor": 0,
              "model_id": "f23dbe058eb542a3a68ee9bfa5016ab5"
            }
          },
          "metadata": {}
        },
        {
          "output_type": "display_data",
          "data": {
            "text/plain": [
              "Downloading (…)cial_tokens_map.json:   0%|          | 0.00/112 [00:00<?, ?B/s]"
            ],
            "application/vnd.jupyter.widget-view+json": {
              "version_major": 2,
              "version_minor": 0,
              "model_id": "cb3773a86824408ea4a31de05d3fe571"
            }
          },
          "metadata": {}
        },
        {
          "output_type": "display_data",
          "data": {
            "text/plain": [
              "Downloading (…)okenizer_config.json:   0%|          | 0.00/252 [00:00<?, ?B/s]"
            ],
            "application/vnd.jupyter.widget-view+json": {
              "version_major": 2,
              "version_minor": 0,
              "model_id": "5ef23a51800c40cc967f083cd8b090b9"
            }
          },
          "metadata": {}
        },
        {
          "output_type": "display_data",
          "data": {
            "text/plain": [
              "Downloading (…)lve/main/config.json:   0%|          | 0.00/758 [00:00<?, ?B/s]"
            ],
            "application/vnd.jupyter.widget-view+json": {
              "version_major": 2,
              "version_minor": 0,
              "model_id": "2a3112943b204ac3bcee36e9171bda1f"
            }
          },
          "metadata": {}
        },
        {
          "output_type": "display_data",
          "data": {
            "text/plain": [
              "Downloading tf_model.h5:   0%|          | 0.00/438M [00:00<?, ?B/s]"
            ],
            "application/vnd.jupyter.widget-view+json": {
              "version_major": 2,
              "version_minor": 0,
              "model_id": "6fb201588c384f6fb48a2209b9255ced"
            }
          },
          "metadata": {}
        },
        {
          "output_type": "stream",
          "name": "stderr",
          "text": [
            "All model checkpoint layers were used when initializing TFBertModel.\n",
            "\n",
            "All the layers of TFBertModel were initialized from the model checkpoint at ProsusAI/finbert.\n",
            "If your task is similar to the task the model of the checkpoint was trained on, you can already use TFBertModel for predictions without further training.\n"
          ]
        },
        {
          "output_type": "display_data",
          "data": {
            "text/plain": [
              "Downloading (…)solve/main/vocab.txt:   0%|          | 0.00/232k [00:00<?, ?B/s]"
            ],
            "application/vnd.jupyter.widget-view+json": {
              "version_major": 2,
              "version_minor": 0,
              "model_id": "fdfa3dc0d6dd48be855a9c609d89bb6d"
            }
          },
          "metadata": {}
        },
        {
          "output_type": "display_data",
          "data": {
            "text/plain": [
              "Downloading (…)okenizer_config.json:   0%|          | 0.00/28.0 [00:00<?, ?B/s]"
            ],
            "application/vnd.jupyter.widget-view+json": {
              "version_major": 2,
              "version_minor": 0,
              "model_id": "10ba10a250514273afb7628ecd6ad0ba"
            }
          },
          "metadata": {}
        },
        {
          "output_type": "display_data",
          "data": {
            "text/plain": [
              "Downloading (…)lve/main/config.json:   0%|          | 0.00/483 [00:00<?, ?B/s]"
            ],
            "application/vnd.jupyter.widget-view+json": {
              "version_major": 2,
              "version_minor": 0,
              "model_id": "a04f2aa123af40ffb08067ed07fda960"
            }
          },
          "metadata": {}
        },
        {
          "output_type": "display_data",
          "data": {
            "text/plain": [
              "Downloading tf_model.h5:   0%|          | 0.00/363M [00:00<?, ?B/s]"
            ],
            "application/vnd.jupyter.widget-view+json": {
              "version_major": 2,
              "version_minor": 0,
              "model_id": "da2b5647a42d4b3c88814cf6788aee7e"
            }
          },
          "metadata": {}
        },
        {
          "output_type": "stream",
          "name": "stderr",
          "text": [
            "Some layers from the model checkpoint at distilbert-base-uncased were not used when initializing TFDistilBertModel: ['activation_13', 'vocab_transform', 'vocab_layer_norm', 'vocab_projector']\n",
            "- This IS expected if you are initializing TFDistilBertModel from the checkpoint of a model trained on another task or with another architecture (e.g. initializing a BertForSequenceClassification model from a BertForPreTraining model).\n",
            "- This IS NOT expected if you are initializing TFDistilBertModel from the checkpoint of a model that you expect to be exactly identical (initializing a BertForSequenceClassification model from a BertForSequenceClassification model).\n",
            "All the layers of TFDistilBertModel were initialized from the model checkpoint at distilbert-base-uncased.\n",
            "If your task is similar to the task the model of the checkpoint was trained on, you can already use TFDistilBertModel for predictions without further training.\n"
          ]
        }
      ],
      "source": [
        "finBertTokenizer = BertTokenizer.from_pretrained('ProsusAI/finbert')\n",
        "finBert = TFBertModel.from_pretrained('ProsusAI/finbert')\n",
        "\n",
        "distilBertTokenizer = DistilBertTokenizer.from_pretrained('distilbert-base-uncased')\n",
        "distilBert = TFDistilBertModel.from_pretrained('distilbert-base-uncased')"
      ]
    },
    {
      "cell_type": "code",
      "execution_count": 99,
      "metadata": {
        "id": "0EcEDBdXJEQN"
      },
      "outputs": [],
      "source": [
        "def create_BERT_wrapper(bert_embeddings, max_len):\n",
        "    input_ids = tf.keras.layers.Input(\n",
        "        shape=(max_len,), dtype=tf.int32, name=\"input_ids\")\n",
        "    input_mask = tf.keras.layers.Input(\n",
        "        shape=(max_len,), dtype=tf.int32, name=\"attention_mask\")\n",
        "\n",
        "    embeddings = bert_embeddings(input_ids, attention_mask=input_mask)[\n",
        "        0]  # 0 = last hidden state, 1 = poller_output\n",
        "\n",
        "    out = tf.keras.layers.GlobalMaxPool1D()(embeddings)\n",
        "    out = tf.keras.layers.Dense(128, activation='relu')(out)\n",
        "    out = tf.keras.layers.Dropout(0.1)(out)\n",
        "    out = tf.keras.layers.Dense(32, activation='relu')(out)\n",
        "\n",
        "    y = tf.keras.layers.Dense(3, activation='softmax')(out)\n",
        "\n",
        "    model = tf.keras.Model(inputs=[input_ids, input_mask], outputs=y)\n",
        "\n",
        "    model.layers[2].trainable = True\n",
        "    # check https://stackoverflow.com/questions/60463829/training-tfbertforsequenceclassification-with-custom-x-and-y-data\n",
        "\n",
        "    return model\n"
      ]
    },
    {
      "cell_type": "code",
      "execution_count": 56,
      "metadata": {
        "id": "rPqMvCwiMLtO"
      },
      "outputs": [],
      "source": [
        "def calculate_max_sentence_len(sentences, tokenizer):\n",
        "    max_len = 0\n",
        "\n",
        "    # For every sentence...\n",
        "    for sent in sentences:\n",
        "\n",
        "        # Tokenize the text and add `[CLS]` and `[SEP]` tokens.\n",
        "        input_ids = tokenizer.encode(sent, add_special_tokens=True)\n",
        "\n",
        "        # Update the maximum sentence length.\n",
        "        max_len = max(max_len, len(input_ids))\n",
        "\n",
        "    return max_len"
      ]
    },
    {
      "cell_type": "code",
      "execution_count": null,
      "metadata": {
        "id": "i1mWdJuHJEQN"
      },
      "outputs": [],
      "source": [
        "\"\"\"def train_test_set(tokenizer):\n",
        "    train_sentences, test_sentences, labels_train, labels_test = train_test_split(\n",
        "        sentences, df['sentiment'], train_size=0.7, shuffle=True, random_state=42)\n",
        "\n",
        "    max_len = min(calculate_max_sentence_len(train_sentences, tokenizer),\n",
        "                  calculate_max_sentence_len(test_sentences, tokenizer))\n",
        "\n",
        "    print('Max sentence length: ', max_len)\n",
        "\n",
        "    X_train = tokenizer(\n",
        "        text=train_sentences,\n",
        "        add_special_tokens=True,\n",
        "        max_length=max_len,\n",
        "        truncation=True,\n",
        "        padding=True,\n",
        "        return_tensors='tf',\n",
        "        return_token_type_ids=False,\n",
        "        return_attention_mask=True,\n",
        "        verbose=True)\n",
        "\n",
        "    X_test = tokenizer(\n",
        "        text=test_sentences,\n",
        "        add_special_tokens=True,\n",
        "        max_length=max_len,\n",
        "        truncation=True,\n",
        "        padding=True,\n",
        "        return_tensors='tf',\n",
        "        return_token_type_ids=False,\n",
        "        return_attention_mask=True,\n",
        "        verbose=True\n",
        "    )\n",
        "    # the same for attention mask\n",
        "    print(\"\\nTrain split shape: \", X_train['input_ids'].shape)\n",
        "    print(\"\\nTest split shape: \", X_test['input_ids'].shape)\n",
        "    print(X_train['input_ids'])\n",
        "    print(X_train['attention_mask'])\n",
        "\n",
        "    return X_train, X_test, labels_train, labels_test, max_len \"\"\"\n"
      ]
    },
    {
      "cell_type": "code",
      "execution_count": null,
      "metadata": {
        "id": "hwiCXZcoJEQN"
      },
      "outputs": [],
      "source": [
        "\"\"\"X_train, X_test, labels_train, labels_test, max_len_finBert = train_test_set(\n",
        "    finBertTokenizer)\"\"\"\n"
      ]
    },
    {
      "cell_type": "code",
      "execution_count": 57,
      "metadata": {
        "id": "DuBJqRLCMLtO"
      },
      "outputs": [],
      "source": [
        "def train_test_set(tokenizer):\n",
        "    max_len = calculate_max_sentence_len(sentences, tokenizer)\n",
        "    print('Max sentence length: ', max_len)\n",
        "\n",
        "    train_sentences, test_sentences, labels_train, labels_test = train_test_split(\n",
        "    sentences, df['sentiment'], train_size=0.7, shuffle=True, random_state=42)\n",
        "\n",
        "    X_train = {\"input_ids\" : [], \"attention_mask\" : []}\n",
        "    X_test = {\"input_ids\" : [], \"attention_mask\" : []}\n",
        "\n",
        "    for sentence in train_sentences:\n",
        "        \n",
        "            # `encode_plus` will:\n",
        "            #    (1) Tokenize the sentence\n",
        "            #    (2) Add the `[CLS]` and `[SEP]` token to the start and end\n",
        "            #    (3) Truncate/Pad sentence to max length\n",
        "            #    (4) Map tokens to their IDs\n",
        "            #    (5) Create attention mask\n",
        "            #    (6) Return a dictionary of outputs\n",
        "\n",
        "        encoded_sent = tokenizer.encode_plus(\n",
        "            text=sentence,  # Preprocess sentence\n",
        "            add_special_tokens=True,        # Add `[CLS]` and `[SEP]`\n",
        "            max_length=max_len,                  # Max length to truncate/pad\n",
        "            padding='max_length',\n",
        "            truncation=True,       # Pad sentence to max length\n",
        "            return_attention_mask=True,\n",
        "            return_token_type_ids=False,\n",
        "            return_tensors='tf',\n",
        "            verbose=True     # Return attention mask\n",
        "        )\n",
        "\n",
        "        # Add the outputs to the lists\n",
        "        X_train[\"input_ids\"].append(encoded_sent.get('input_ids'))\n",
        "        X_train[\"attention_mask\"].append(encoded_sent.get('attention_mask'))\n",
        "\n",
        "    for sentence in test_sentences:  \n",
        "        encoded_sent = tokenizer.encode_plus(\n",
        "            text=sentence,  # Preprocess sentence\n",
        "            add_special_tokens=True,        # Add `[CLS]` and `[SEP]`\n",
        "            max_length=max_len,                  # Max length to truncate/pad\n",
        "            padding='max_length',\n",
        "            truncation=True,       # Pad sentence to max length\n",
        "            return_attention_mask=True,\n",
        "            return_token_type_ids=False,\n",
        "            return_tensors='tf',\n",
        "            verbose=True     # Return attention mask\n",
        "        )\n",
        "\n",
        "        X_test[\"input_ids\"].append(encoded_sent.get('input_ids'))\n",
        "        X_test[\"attention_mask\"].append(encoded_sent.get('attention_mask'))\n",
        "\n",
        "    for key in [\"input_ids\", \"attention_mask\"]:\n",
        "        X_train[key] = np.array(X_train[key])\n",
        "        X_test[key] = np.array(X_test[key])\n",
        "        X_train[key] = X_train[key].reshape(X_train[key].shape[0], max_len)\n",
        "        X_test[key] = X_test[key].reshape(X_test[key].shape[0], max_len)\n",
        "\n",
        "    # the same for attention mask\n",
        "    print(\"\\nTrain split shape: \", X_train['input_ids'].shape)\n",
        "    print(\"\\nTest split shape: \", X_test['input_ids'].shape)\n",
        "\n",
        "    return X_train, X_test, labels_train, labels_test, max_len"
      ]
    },
    {
      "cell_type": "code",
      "execution_count": 58,
      "metadata": {
        "colab": {
          "base_uri": "https://localhost:8080/"
        },
        "id": "RrkluFYYMLtO",
        "outputId": "0e57450a-d53a-42e4-8a3c-b0dbda98dd73"
      },
      "outputs": [
        {
          "output_type": "stream",
          "name": "stdout",
          "text": [
            "Max sentence length:  111\n",
            "\n",
            "Train split shape:  (3388, 111)\n",
            "\n",
            "Test split shape:  (1452, 111)\n"
          ]
        }
      ],
      "source": [
        "X_train, X_test, labels_train, labels_test, max_len_finBert = train_test_set(finBertTokenizer)"
      ]
    },
    {
      "cell_type": "markdown",
      "metadata": {
        "id": "bjQiDoMtMLtO"
      },
      "source": [
        "# finBERT"
      ]
    },
    {
      "cell_type": "code",
      "execution_count": 61,
      "metadata": {
        "colab": {
          "base_uri": "https://localhost:8080/"
        },
        "id": "tF7A0aDSMLtO",
        "outputId": "e3433309-6c18-47d5-88bd-aa093649d4b8"
      },
      "outputs": [
        {
          "output_type": "stream",
          "name": "stdout",
          "text": [
            "Model: \"model_6\"\n",
            "__________________________________________________________________________________________________\n",
            " Layer (type)                   Output Shape         Param #     Connected to                     \n",
            "==================================================================================================\n",
            " input_ids (InputLayer)         [(None, 111)]        0           []                               \n",
            "                                                                                                  \n",
            " attention_mask (InputLayer)    [(None, 111)]        0           []                               \n",
            "                                                                                                  \n",
            " tf_bert_model (TFBertModel)    TFBaseModelOutputWi  109482240   ['input_ids[0][0]',              \n",
            "                                thPoolingAndCrossAt               'attention_mask[0][0]']         \n",
            "                                tentions(last_hidde                                               \n",
            "                                n_state=(None, 111,                                               \n",
            "                                 768),                                                            \n",
            "                                 pooler_output=(Non                                               \n",
            "                                e, 768),                                                          \n",
            "                                 past_key_values=No                                               \n",
            "                                ne, hidden_states=N                                               \n",
            "                                one, attentions=Non                                               \n",
            "                                e, cross_attentions                                               \n",
            "                                =None)                                                            \n",
            "                                                                                                  \n",
            " global_max_pooling1d_11 (Globa  (None, 768)         0           ['tf_bert_model[1][0]']          \n",
            " lMaxPooling1D)                                                                                   \n",
            "                                                                                                  \n",
            " dense_10 (Dense)               (None, 128)          98432       ['global_max_pooling1d_11[0][0]']\n",
            "                                                                                                  \n",
            " dropout_61 (Dropout)           (None, 128)          0           ['dense_10[0][0]']               \n",
            "                                                                                                  \n",
            " dense_11 (Dense)               (None, 32)           4128        ['dropout_61[0][0]']             \n",
            "                                                                                                  \n",
            " dense_12 (Dense)               (None, 3)            99          ['dense_11[0][0]']               \n",
            "                                                                                                  \n",
            "==================================================================================================\n",
            "Total params: 109,584,899\n",
            "Trainable params: 109,584,899\n",
            "Non-trainable params: 0\n",
            "__________________________________________________________________________________________________\n"
          ]
        }
      ],
      "source": [
        "model = create_BERT_wrapper(finBert, max_len_finBert)\n",
        "\n",
        "optimizer = tf.keras.optimizers.Adam(\n",
        "    learning_rate=5e-05,  # HF recommendation\n",
        "    epsilon=1e-08,\n",
        "    clipnorm=1.0\n",
        ")\n",
        "\n",
        "loss = tf.keras.losses.CategoricalCrossentropy(from_logits=True)\n",
        "metric = tf.keras.metrics.CategoricalAccuracy('accuracy')\n",
        "\n",
        "model.compile(\n",
        "    optimizer=optimizer,\n",
        "    loss=loss,\n",
        "    metrics=metric\n",
        ")\n",
        "\n",
        "model.summary()"
      ]
    },
    {
      "cell_type": "code",
      "execution_count": 62,
      "metadata": {
        "colab": {
          "base_uri": "https://localhost:8080/"
        },
        "id": "RwhCV6GNMLtP",
        "outputId": "05412f79-cf28-4975-9ee6-c9e0fc9271a9"
      },
      "outputs": [
        {
          "output_type": "stream",
          "name": "stdout",
          "text": [
            "Epoch 1/10\n"
          ]
        },
        {
          "output_type": "stream",
          "name": "stderr",
          "text": [
            "/usr/local/lib/python3.10/dist-packages/keras/backend.py:5561: UserWarning: \"`categorical_crossentropy` received `from_logits=True`, but the `output` argument was produced by a Softmax activation and thus does not represent logits. Was this intended?\n",
            "  output, from_logits = _get_logits(\n",
            "WARNING:tensorflow:Gradients do not exist for variables ['tf_bert_model/bert/pooler/dense/kernel:0', 'tf_bert_model/bert/pooler/dense/bias:0'] when minimizing the loss. If you're using `model.compile()`, did you forget to provide a `loss` argument?\n",
            "WARNING:tensorflow:Gradients do not exist for variables ['tf_bert_model/bert/pooler/dense/kernel:0', 'tf_bert_model/bert/pooler/dense/bias:0'] when minimizing the loss. If you're using `model.compile()`, did you forget to provide a `loss` argument?\n",
            "WARNING:tensorflow:Gradients do not exist for variables ['tf_bert_model/bert/pooler/dense/kernel:0', 'tf_bert_model/bert/pooler/dense/bias:0'] when minimizing the loss. If you're using `model.compile()`, did you forget to provide a `loss` argument?\n",
            "WARNING:tensorflow:Gradients do not exist for variables ['tf_bert_model/bert/pooler/dense/kernel:0', 'tf_bert_model/bert/pooler/dense/bias:0'] when minimizing the loss. If you're using `model.compile()`, did you forget to provide a `loss` argument?\n"
          ]
        },
        {
          "output_type": "stream",
          "name": "stdout",
          "text": [
            "96/96 [==============================] - ETA: 0s - loss: 0.2932 - accuracy: 0.8868\n",
            "Epoch 1: val_accuracy improved from -inf to 0.79941, saving model to ./best_model/finetuned_finbert.h5\n",
            "96/96 [==============================] - 158s 989ms/step - loss: 0.2932 - accuracy: 0.8868 - val_loss: 0.5130 - val_accuracy: 0.7994\n",
            "Epoch 2/10\n",
            "96/96 [==============================] - ETA: 0s - loss: 0.1315 - accuracy: 0.9583\n",
            "Epoch 2: val_accuracy improved from 0.79941 to 0.84661, saving model to ./best_model/finetuned_finbert.h5\n",
            "96/96 [==============================] - 87s 906ms/step - loss: 0.1315 - accuracy: 0.9583 - val_loss: 0.4322 - val_accuracy: 0.8466\n",
            "Epoch 3/10\n",
            "96/96 [==============================] - ETA: 0s - loss: 0.0722 - accuracy: 0.9787\n",
            "Epoch 3: val_accuracy did not improve from 0.84661\n",
            "96/96 [==============================] - 79s 826ms/step - loss: 0.0722 - accuracy: 0.9787 - val_loss: 0.5834 - val_accuracy: 0.7965\n",
            "Epoch 4/10\n",
            "96/96 [==============================] - ETA: 0s - loss: 0.0440 - accuracy: 0.9866\n",
            "Epoch 4: val_accuracy improved from 0.84661 to 0.85251, saving model to ./best_model/finetuned_finbert.h5\n",
            "96/96 [==============================] - 84s 871ms/step - loss: 0.0440 - accuracy: 0.9866 - val_loss: 0.5384 - val_accuracy: 0.8525\n",
            "Epoch 5/10\n",
            "96/96 [==============================] - ETA: 0s - loss: 0.0453 - accuracy: 0.9862\n",
            "Epoch 5: val_accuracy did not improve from 0.85251\n",
            "96/96 [==============================] - 78s 813ms/step - loss: 0.0453 - accuracy: 0.9862 - val_loss: 0.6075 - val_accuracy: 0.8171\n",
            "Epoch 5: early stopping\n"
          ]
        }
      ],
      "source": [
        "es = EarlyStopping(monitor='val_loss', mode='min', verbose=1, patience=3)\n",
        "mc = ModelCheckpoint('./best_model/finetuned_finbert.h5',\n",
        "                     monitor='val_accuracy', mode='max', verbose=1,\n",
        "                     save_best_only=True)\n",
        "\n",
        "history = model.fit(x= {'input_ids': X_train['input_ids'], 'attention_mask': X_train['attention_mask']},\n",
        "                    y= tf.keras.utils.to_categorical(labels_train),\n",
        "                    batch_size=32,\n",
        "                    epochs=10,\n",
        "                    validation_split=0.1,\n",
        "                    callbacks=[es, mc])"
      ]
    },
    {
      "cell_type": "code",
      "source": [
        "plot_train_val_acc(history, \"finBERT model accuracy\", \"accuracy\")"
      ],
      "metadata": {
        "id": "Xr-ySt2Lql0a",
        "outputId": "f97f142e-c43f-4d91-9faf-98ecad39beae",
        "colab": {
          "base_uri": "https://localhost:8080/",
          "height": 472
        }
      },
      "execution_count": 65,
      "outputs": [
        {
          "output_type": "display_data",
          "data": {
            "text/plain": [
              "<Figure size 640x480 with 1 Axes>"
            ],
            "image/png": "[encoded data removed]"
          },
          "metadata": {}
        }
      ]
    },
    {
      "cell_type": "code",
      "execution_count": 67,
      "metadata": {
        "id": "mfVuEAQAJEQV"
      },
      "outputs": [],
      "source": [
        "saved_model = load_model('./best_model/finetuned_finbert.h5',\n",
        "                         custom_objects={\"TFBertModel\": TFBertModel})\n"
      ]
    },
    {
      "cell_type": "code",
      "execution_count": 68,
      "metadata": {
        "colab": {
          "base_uri": "https://localhost:8080/"
        },
        "id": "1KWi4eNhMLtP",
        "outputId": "a10fdb80-36d0-41f2-9486-d28fadbc1e4e"
      },
      "outputs": [
        {
          "output_type": "stream",
          "name": "stdout",
          "text": [
            "46/46 [==============================] - 17s 265ms/step\n",
            "              precision    recall  f1-score   support\n",
            "\n",
            "           0       0.83      0.82      0.83       183\n",
            "           1       0.87      0.91      0.89       839\n",
            "           2       0.83      0.77      0.80       430\n",
            "\n",
            "    accuracy                           0.86      1452\n",
            "   macro avg       0.85      0.83      0.84      1452\n",
            "weighted avg       0.85      0.86      0.85      1452\n",
            "\n"
          ]
        }
      ],
      "source": [
        "# Classification report:\n",
        "predicted = saved_model.predict(\n",
        "    {'input_ids': X_test['input_ids'], 'attention_mask': X_test['attention_mask']})\n",
        "y_predicted = np.argmax(predicted, axis=1)\n",
        "print(classification_report(labels_test, y_predicted))"
      ]
    },
    {
      "cell_type": "code",
      "execution_count": 135,
      "metadata": {
        "id": "KwNzyhx_JEQW",
        "outputId": "da58f1c9-bbba-476d-bf42-3efaa3650cc3",
        "colab": {
          "base_uri": "https://localhost:8080/"
        }
      },
      "outputs": [
        {
          "output_type": "stream",
          "name": "stderr",
          "text": [
            "/usr/local/lib/python3.10/dist-packages/transformers/tokenization_utils_base.py:2364: FutureWarning: The `pad_to_max_length` argument is deprecated and will be removed in a future version, use `padding=True` or `padding='longest'` to pad to the longest sequence in the batch, or use `padding='max_length'` to pad to a max length. In this case, you can give a specific length with `max_length` (e.g. `max_length=45`) or leave max_length to None to pad to the maximal input size of the model (e.g. 512 for Bert).\n",
            "  warnings.warn(\n"
          ]
        },
        {
          "output_type": "stream",
          "name": "stdout",
          "text": [
            "1/1 [==============================] - 0s 165ms/step\n",
            "Positive sentence prediction:  positive\n",
            "Positive sentence true label:  positive\n",
            "--------------------------------------------------\n",
            "1/1 [==============================] - 0s 134ms/step\n",
            "Negative sentence prediction:  negative\n",
            "Negative sentence true label:  negative\n",
            "--------------------------------------------------\n",
            "1/1 [==============================] - 0s 133ms/step\n",
            "Neutral sentence prediction:  neutral\n",
            "Neutral sentence true label:  neutral\n",
            "--------------------------------------------------\n"
          ]
        }
      ],
      "source": [
        "# Example of prediction\n",
        "def tokenize_sentence(sentence, tokenizer):\n",
        "    tokenized_sentence = tokenizer.encode_plus(\n",
        "        text=sentence,  # Preprocess sentence\n",
        "        add_special_tokens=True,        # Add `[CLS]` and `[SEP]`\n",
        "        max_length=max_len_finBert,                  # Max length to truncate/pad\n",
        "        pad_to_max_length=True,         # Pad sentence to max length\n",
        "        return_attention_mask=True,\n",
        "        return_token_type_ids=False,\n",
        "        return_tensors='tf',\n",
        "        verbose=True     # Return attention mask\n",
        "    )\n",
        "    return tokenized_sentence\n",
        "\n",
        "tokenized_positive_sentence = tokenize_sentence(\n",
        "    df[df['sentiment'] == 'positive']['headline'].values[0], finBertTokenizer)\n",
        "tokenized_negative_sentence = tokenize_sentence(\n",
        "    df[df['sentiment'] == 'negative']['headline'].values[0], finBertTokenizer)\n",
        "tokenized_neutral_sentence = tokenize_sentence(\n",
        "    df[df['sentiment'] == 'neutral']['headline'].values[0], finBertTokenizer)\n",
        "\n",
        "predicted1 = saved_model.predict(\n",
        "    {'input_ids': tokenized_positive_sentence['input_ids'], 'attention_mask': tokenized_positive_sentence['attention_mask']})\n",
        "y_predicted1 = np.argmax(predicted1, axis=1)\n",
        "\n",
        "print(\"Positive sentence prediction: \", le.inverse_transform(y_predicted1)[0])\n",
        "print(\"Positive sentence true label: \",\n",
        "      df[df['sentiment'] == 'positive']['sentiment'].values[0])\n",
        "print(\"-\"*50)\n",
        "\n",
        "predicted2 = saved_model.predict(\n",
        "    {'input_ids': tokenized_negative_sentence['input_ids'], 'attention_mask': tokenized_negative_sentence['attention_mask']})\n",
        "y_predicted2 = np.argmax(predicted2, axis=1)\n",
        "\n",
        "print(\"Negative sentence prediction: \", le.inverse_transform(y_predicted2)[0])\n",
        "print(\"Negative sentence true label: \",\n",
        "      df[df['sentiment'] == 'negative']['sentiment'].values[0])\n",
        "print(\"-\"*50)\n",
        "\n",
        "predicted3 = saved_model.predict(\n",
        "    {'input_ids': tokenized_neutral_sentence['input_ids'], 'attention_mask': tokenized_neutral_sentence['attention_mask']})\n",
        "y_predicted3 = np.argmax(predicted3, axis=1)\n",
        "\n",
        "print(\"Neutral sentence prediction: \", le.inverse_transform(y_predicted3)[0])\n",
        "print(\"Neutral sentence true label: \",\n",
        "      df[df['sentiment'] == 'neutral']['sentiment'].values[0])\n",
        "print(\"-\"*50)\n"
      ]
    },
    {
      "cell_type": "markdown",
      "metadata": {
        "id": "Peh3uR-eMLtP"
      },
      "source": [
        "# distilBERT"
      ]
    },
    {
      "cell_type": "code",
      "execution_count": 100,
      "metadata": {
        "colab": {
          "base_uri": "https://localhost:8080/"
        },
        "id": "o8zydMXBMLtP",
        "outputId": "bd47e646-bb80-4e72-deb2-62c866685fb2"
      },
      "outputs": [
        {
          "output_type": "stream",
          "name": "stdout",
          "text": [
            "Max sentence length:  111\n",
            "\n",
            "Train split shape:  (3388, 111)\n",
            "\n",
            "Test split shape:  (1452, 111)\n"
          ]
        }
      ],
      "source": [
        "X_train, X_test, labels_train, labels_test, max_len_distilBert = train_test_set(distilBertTokenizer)"
      ]
    },
    {
      "cell_type": "code",
      "execution_count": 101,
      "metadata": {
        "colab": {
          "base_uri": "https://localhost:8080/"
        },
        "id": "3fVUuxZAMLtP",
        "outputId": "26ba92b3-abf6-4523-a24c-df87b3988c50"
      },
      "outputs": [
        {
          "output_type": "stream",
          "name": "stdout",
          "text": [
            "Model: \"model_12\"\n",
            "__________________________________________________________________________________________________\n",
            " Layer (type)                   Output Shape         Param #     Connected to                     \n",
            "==================================================================================================\n",
            " input_ids (InputLayer)         [(None, 111)]        0           []                               \n",
            "                                                                                                  \n",
            " attention_mask (InputLayer)    [(None, 111)]        0           []                               \n",
            "                                                                                                  \n",
            " tf_distil_bert_model (TFDistil  TFBaseModelOutput(l  66362880   ['input_ids[0][0]',              \n",
            " BertModel)                     ast_hidden_state=(N               'attention_mask[0][0]']         \n",
            "                                one, 111, 768),                                                   \n",
            "                                 hidden_states=None                                               \n",
            "                                , attentions=None)                                                \n",
            "                                                                                                  \n",
            " global_max_pooling1d_16 (Globa  (None, 768)         0           ['tf_distil_bert_model[0][0]']   \n",
            " lMaxPooling1D)                                                                                   \n",
            "                                                                                                  \n",
            " dense_26 (Dense)               (None, 128)          98432       ['global_max_pooling1d_16[0][0]']\n",
            "                                                                                                  \n",
            " dropout_103 (Dropout)          (None, 128)          0           ['dense_26[0][0]']               \n",
            "                                                                                                  \n",
            " dense_27 (Dense)               (None, 32)           4128        ['dropout_103[0][0]']            \n",
            "                                                                                                  \n",
            " dense_28 (Dense)               (None, 3)            99          ['dense_27[0][0]']               \n",
            "                                                                                                  \n",
            "==================================================================================================\n",
            "Total params: 66,465,539\n",
            "Trainable params: 66,465,539\n",
            "Non-trainable params: 0\n",
            "__________________________________________________________________________________________________\n"
          ]
        }
      ],
      "source": [
        "model = create_BERT_wrapper(distilBert, max_len_distilBert)\n",
        "\n",
        "optimizer = tf.keras.optimizers.Adam(\n",
        "    learning_rate=5e-05,  # HF recommendation\n",
        "    epsilon=1e-08,\n",
        "    clipnorm=1.0\n",
        ")\n",
        "\n",
        "loss = tf.keras.losses.CategoricalCrossentropy(from_logits=True)\n",
        "metric = tf.keras.metrics.CategoricalAccuracy('accuracy')\n",
        "\n",
        "model.compile(\n",
        "    optimizer=optimizer,\n",
        "    loss=loss,\n",
        "    metrics=metric\n",
        ")\n",
        "\n",
        "model.summary()"
      ]
    },
    {
      "cell_type": "code",
      "execution_count": 102,
      "metadata": {
        "colab": {
          "base_uri": "https://localhost:8080/"
        },
        "id": "2pyptRdsMLtP",
        "outputId": "1bff7c1a-6997-47eb-bf56-19d24cbfd5dc"
      },
      "outputs": [
        {
          "output_type": "stream",
          "name": "stdout",
          "text": [
            "Epoch 1/10\n"
          ]
        },
        {
          "output_type": "stream",
          "name": "stderr",
          "text": [
            "/usr/local/lib/python3.10/dist-packages/keras/backend.py:5561: UserWarning: \"`categorical_crossentropy` received `from_logits=True`, but the `output` argument was produced by a Softmax activation and thus does not represent logits. Was this intended?\n",
            "  output, from_logits = _get_logits(\n"
          ]
        },
        {
          "output_type": "stream",
          "name": "stdout",
          "text": [
            "96/96 [==============================] - ETA: 0s - loss: 0.6039 - accuracy: 0.7383\n",
            "Epoch 1: val_accuracy improved from -inf to 0.82596, saving model to ./best_model/finetuned_distilbert.h5\n",
            "96/96 [==============================] - 90s 633ms/step - loss: 0.6039 - accuracy: 0.7383 - val_loss: 0.4203 - val_accuracy: 0.8260\n",
            "Epoch 2/10\n",
            "96/96 [==============================] - ETA: 0s - loss: 0.2907 - accuracy: 0.8967\n",
            "Epoch 2: val_accuracy did not improve from 0.82596\n",
            "96/96 [==============================] - 40s 412ms/step - loss: 0.2907 - accuracy: 0.8967 - val_loss: 0.4048 - val_accuracy: 0.8201\n",
            "Epoch 3/10\n",
            "96/96 [==============================] - ETA: 0s - loss: 0.1518 - accuracy: 0.9469\n",
            "Epoch 3: val_accuracy did not improve from 0.82596\n",
            "96/96 [==============================] - 42s 438ms/step - loss: 0.1518 - accuracy: 0.9469 - val_loss: 0.5192 - val_accuracy: 0.8260\n",
            "Epoch 4/10\n",
            "96/96 [==============================] - ETA: 0s - loss: 0.0843 - accuracy: 0.9698\n",
            "Epoch 4: val_accuracy did not improve from 0.82596\n",
            "96/96 [==============================] - 38s 397ms/step - loss: 0.0843 - accuracy: 0.9698 - val_loss: 0.6693 - val_accuracy: 0.8260\n",
            "Epoch 5/10\n",
            "96/96 [==============================] - ETA: 0s - loss: 0.0434 - accuracy: 0.9849\n",
            "Epoch 5: val_accuracy improved from 0.82596 to 0.83776, saving model to ./best_model/finetuned_distilbert.h5\n",
            "96/96 [==============================] - 66s 686ms/step - loss: 0.0434 - accuracy: 0.9849 - val_loss: 0.6543 - val_accuracy: 0.8378\n",
            "Epoch 5: early stopping\n"
          ]
        }
      ],
      "source": [
        "es = EarlyStopping(monitor='val_loss', mode='min', verbose=1, patience=3)\n",
        "mc = ModelCheckpoint('./best_model/finetuned_distilbert.h5',\n",
        "                     monitor='val_accuracy', mode='max', verbose=1,\n",
        "                     save_best_only=True)\n",
        "\n",
        "history = model.fit(x= {'input_ids': X_train['input_ids'], 'attention_mask': X_train['attention_mask']},\n",
        "                    y= tf.keras.utils.to_categorical(labels_train),\n",
        "                    batch_size=32,\n",
        "                    epochs=10,\n",
        "                    validation_split=0.1,\n",
        "                    callbacks=[es, mc])"
      ]
    },
    {
      "cell_type": "code",
      "source": [
        "plot_train_val_acc(history, \"distilBERT model accuracy\", \"accuracy\")"
      ],
      "metadata": {
        "id": "NlunHXZ83G4L",
        "outputId": "f605719d-132e-4033-ace7-71f25bc817a1",
        "colab": {
          "base_uri": "https://localhost:8080/",
          "height": 472
        }
      },
      "execution_count": 103,
      "outputs": [
        {
          "output_type": "display_data",
          "data": {
            "text/plain": [
              "<Figure size 640x480 with 1 Axes>"
            ],
            "image/png": "[encoded data removed]"
          },
          "metadata": {}
        }
      ]
    },
    {
      "cell_type": "code",
      "execution_count": 104,
      "metadata": {
        "id": "0UnYFe1fJEQW"
      },
      "outputs": [],
      "source": [
        "saved_model = load_model('./best_model/finetuned_distilbert.h5',\n",
        "                         custom_objects={\"TFDistilBertModel\": TFDistilBertModel})\n"
      ]
    },
    {
      "cell_type": "code",
      "execution_count": 109,
      "metadata": {
        "colab": {
          "base_uri": "https://localhost:8080/"
        },
        "id": "fqKyS0flMLtP",
        "outputId": "9cdec9ba-08c4-46c0-ae6b-711b46e5daf8"
      },
      "outputs": [
        {
          "output_type": "stream",
          "name": "stdout",
          "text": [
            "46/46 [==============================] - 6s 133ms/step\n",
            "              precision    recall  f1-score   support\n",
            "\n",
            "           0       0.87      0.78      0.82       183\n",
            "           1       0.86      0.91      0.88       839\n",
            "           2       0.81      0.75      0.78       430\n",
            "\n",
            "    accuracy                           0.84      1452\n",
            "   macro avg       0.84      0.81      0.83      1452\n",
            "weighted avg       0.84      0.84      0.84      1452\n",
            "\n",
            "0.8443526170798898\n"
          ]
        }
      ],
      "source": [
        "from sklearn.metrics import accuracy_score\n",
        "# Classification report:\n",
        "predicted = saved_model.predict(\n",
        "    {'input_ids': X_test['input_ids'], 'attention_mask': X_test['attention_mask']})\n",
        "y_predicted = np.argmax(predicted, axis=1)\n",
        "print(classification_report(labels_test, y_predicted))\n",
        "\n",
        "accuracy = accuracy_score(labels_test, y_predicted)\n",
        "print(accuracy)"
      ]
    },
    {
      "cell_type": "code",
      "execution_count": null,
      "metadata": {
        "id": "PsAqhLrLJEQX"
      },
      "outputs": [],
      "source": [
        "# Example of prediction\n",
        "def tokenize_sentence(sentence, tokenizer=distilBertTokenizer):\n",
        "    tokenized_sentence = tokenizer.encode_plus(\n",
        "        text=sentence,  # Preprocess sentence\n",
        "        add_special_tokens=True,        # Add `[CLS]` and `[SEP]`\n",
        "        max_length=120,                  # Max length to truncate/pad\n",
        "        pad_to_max_length=True,         # Pad sentence to max length        \n",
        "        return_attention_mask=True,\n",
        "        return_token_type_ids=False,\n",
        "        return_tensors='tf',\n",
        "        verbose=True     # Return attention mask\n",
        "    )\n",
        "    return tokenized_sentence\n",
        "\n",
        "tokenized_positive_sentence = tokenize_sentence(df[df['sentiment']=='positive']['headline'].values[0])\n",
        "tokenized_negative_sentence = tokenize_sentence(df[df['sentiment'] == 'negative']['headline'].values[0])\n",
        "tokenized_neutral_sentence = tokenize_sentence(df[df['sentiment']=='neutral']['headline'].values[0])\n",
        "\n",
        "predicted1 = saved_model.predict(\n",
        "    {'input_ids': tokenized_positive_sentence['input_ids'], 'attention_mask': tokenized_positive_sentence['attention_mask']})\n",
        "y_predicted1 = np.argmax(predicted1, axis=1)\n",
        "\n",
        "print(\"Positive sentence prediction: \", le.inverse_transform(y_predicted1)[0])\n",
        "print(\"Positive sentence true label: \", df[df['sentiment']=='positive']['sentiment'].values[0])\n",
        "print(\"-\"*50)\n",
        "\n",
        "predicted2 = saved_model.predict(\n",
        "    {'input_ids': tokenized_negative_sentence['input_ids'], 'attention_mask': tokenized_negative_sentence['attention_mask']})\n",
        "y_predicted2 = np.argmax(predicted2, axis=1)\n",
        "\n",
        "print(\"Negative sentence prediction: \", le.inverse_transform(y_predicted2)[0])\n",
        "print(\"Negative sentence true label: \", df[df['sentiment']=='negative']['sentiment'].values[0])\n",
        "print(\"-\"*50)\n",
        "\n",
        "predicted3 = saved_model.predict({'input_ids': tokenized_neutral_sentence['input_ids'], 'attention_mask': tokenized_neutral_sentence['attention_mask']})\n",
        "y_predicted3 = np.argmax(predicted3, axis=1)\n",
        "\n",
        "print(\"Neutral sentence prediction: \", le.inverse_transform(y_predicted3)[0])\n",
        "print(\"Neutral sentence true label: \", df[df['sentiment']=='neutral']['sentiment'].values[0])\n",
        "print(\"-\"*50)\n"
      ]
    }
  ],
  "metadata": {
    "accelerator": "GPU",
    "colab": {
      "provenance": [],
      "gpuType": "T4"
    },
    "kernelspec": {
      "display_name": "Python 3",
      "name": "python3"
    },
    "language_info": {
      "codemirror_mode": {
        "name": "ipython",
        "version": 3
      },
      "file_extension": ".py",
      "mimetype": "text/x-python",
      "name": "python",
      "nbconvert_exporter": "python",
      "pygments_lexer": "ipython3",
      "version": "3.10.11"
    },
    "orig_nbformat": 4,
    "widgets": {
      "application/vnd.jupyter.widget-state+json": {
        "f23dbe058eb542a3a68ee9bfa5016ab5": {
          "model_module": "@jupyter-widgets/controls",
          "model_name": "HBoxModel",
          "model_module_version": "1.5.0",
          "state": {
            "_dom_classes": [],
            "_model_module": "@jupyter-widgets/controls",
            "_model_module_version": "1.5.0",
            "_model_name": "HBoxModel",
            "_view_count": null,
            "_view_module": "@jupyter-widgets/controls",
            "_view_module_version": "1.5.0",
            "_view_name": "HBoxView",
            "box_style": "",
            "children": [
              "IPY_MODEL_78352e9ff5994ad391f0fb874b879c46",
              "IPY_MODEL_4365177dcf1043c1866cbee3d69bd1e6",
              "IPY_MODEL_f37c83ddb940476187d081ef29b653e8"
            ],
            "layout": "IPY_MODEL_f852f75f1f9c409bbd0142a91cc68030"
          }
        },
        "78352e9ff5994ad391f0fb874b879c46": {
          "model_module": "@jupyter-widgets/controls",
          "model_name": "HTMLModel",
          "model_module_version": "1.5.0",
          "state": {
            "_dom_classes": [],
            "_model_module": "@jupyter-widgets/controls",
            "_model_module_version": "1.5.0",
            "_model_name": "HTMLModel",
            "_view_count": null,
            "_view_module": "@jupyter-widgets/controls",
            "_view_module_version": "1.5.0",
            "_view_name": "HTMLView",
            "description": "",
            "description_tooltip": null,
            "layout": "IPY_MODEL_6a3b0d27d289483b88a495d8b6ff88ad",
            "placeholder": "​",
            "style": "IPY_MODEL_be7c0915f97c4c18a8d3efe14fdad24d",
            "value": "Downloading (…)solve/main/vocab.txt: 100%"
          }
        },
        "4365177dcf1043c1866cbee3d69bd1e6": {
          "model_module": "@jupyter-widgets/controls",
          "model_name": "FloatProgressModel",
          "model_module_version": "1.5.0",
          "state": {
            "_dom_classes": [],
            "_model_module": "@jupyter-widgets/controls",
            "_model_module_version": "1.5.0",
            "_model_name": "FloatProgressModel",
            "_view_count": null,
            "_view_module": "@jupyter-widgets/controls",
            "_view_module_version": "1.5.0",
            "_view_name": "ProgressView",
            "bar_style": "success",
            "description": "",
            "description_tooltip": null,
            "layout": "IPY_MODEL_bdec4db726c64033bc0ffc9d71919443",
            "max": 231508,
            "min": 0,
            "orientation": "horizontal",
            "style": "IPY_MODEL_2a949bb4dd224d238ab192ad66a11ebc",
            "value": 231508
          }
        },
        "f37c83ddb940476187d081ef29b653e8": {
          "model_module": "@jupyter-widgets/controls",
          "model_name": "HTMLModel",
          "model_module_version": "1.5.0",
          "state": {
            "_dom_classes": [],
            "_model_module": "@jupyter-widgets/controls",
            "_model_module_version": "1.5.0",
            "_model_name": "HTMLModel",
            "_view_count": null,
            "_view_module": "@jupyter-widgets/controls",
            "_view_module_version": "1.5.0",
            "_view_name": "HTMLView",
            "description": "",
            "description_tooltip": null,
            "layout": "IPY_MODEL_a008fd3bffb14653977b156a8bf23ee3",
            "placeholder": "​",
            "style": "IPY_MODEL_ce68f29b8d994caba69b76dd861521b9",
            "value": " 232k/232k [00:00&lt;00:00, 2.75MB/s]"
          }
        },
        "f852f75f1f9c409bbd0142a91cc68030": {
          "model_module": "@jupyter-widgets/base",
          "model_name": "LayoutModel",
          "model_module_version": "1.2.0",
          "state": {
            "_model_module": "@jupyter-widgets/base",
            "_model_module_version": "1.2.0",
            "_model_name": "LayoutModel",
            "_view_count": null,
            "_view_module": "@jupyter-widgets/base",
            "_view_module_version": "1.2.0",
            "_view_name": "LayoutView",
            "align_content": null,
            "align_items": null,
            "align_self": null,
            "border": null,
            "bottom": null,
            "display": null,
            "flex": null,
            "flex_flow": null,
            "grid_area": null,
            "grid_auto_columns": null,
            "grid_auto_flow": null,
            "grid_auto_rows": null,
            "grid_column": null,
            "grid_gap": null,
            "grid_row": null,
            "grid_template_areas": null,
            "grid_template_columns": null,
            "grid_template_rows": null,
            "height": null,
            "justify_content": null,
            "justify_items": null,
            "left": null,
            "margin": null,
            "max_height": null,
            "max_width": null,
            "min_height": null,
            "min_width": null,
            "object_fit": null,
            "object_position": null,
            "order": null,
            "overflow": null,
            "overflow_x": null,
            "overflow_y": null,
            "padding": null,
            "right": null,
            "top": null,
            "visibility": null,
            "width": null
          }
        },
        "6a3b0d27d289483b88a495d8b6ff88ad": {
          "model_module": "@jupyter-widgets/base",
          "model_name": "LayoutModel",
          "model_module_version": "1.2.0",
          "state": {
            "_model_module": "@jupyter-widgets/base",
            "_model_module_version": "1.2.0",
            "_model_name": "LayoutModel",
            "_view_count": null,
            "_view_module": "@jupyter-widgets/base",
            "_view_module_version": "1.2.0",
            "_view_name": "LayoutView",
            "align_content": null,
            "align_items": null,
            "align_self": null,
            "border": null,
            "bottom": null,
            "display": null,
            "flex": null,
            "flex_flow": null,
            "grid_area": null,
            "grid_auto_columns": null,
            "grid_auto_flow": null,
            "grid_auto_rows": null,
            "grid_column": null,
            "grid_gap": null,
            "grid_row": null,
            "grid_template_areas": null,
            "grid_template_columns": null,
            "grid_template_rows": null,
            "height": null,
            "justify_content": null,
            "justify_items": null,
            "left": null,
            "margin": null,
            "max_height": null,
            "max_width": null,
            "min_height": null,
            "min_width": null,
            "object_fit": null,
            "object_position": null,
            "order": null,
            "overflow": null,
            "overflow_x": null,
            "overflow_y": null,
            "padding": null,
            "right": null,
            "top": null,
            "visibility": null,
            "width": null
          }
        },
        "be7c0915f97c4c18a8d3efe14fdad24d": {
          "model_module": "@jupyter-widgets/controls",
          "model_name": "DescriptionStyleModel",
          "model_module_version": "1.5.0",
          "state": {
            "_model_module": "@jupyter-widgets/controls",
            "_model_module_version": "1.5.0",
            "_model_name": "DescriptionStyleModel",
            "_view_count": null,
            "_view_module": "@jupyter-widgets/base",
            "_view_module_version": "1.2.0",
            "_view_name": "StyleView",
            "description_width": ""
          }
        },
        "bdec4db726c64033bc0ffc9d71919443": {
          "model_module": "@jupyter-widgets/base",
          "model_name": "LayoutModel",
          "model_module_version": "1.2.0",
          "state": {
            "_model_module": "@jupyter-widgets/base",
            "_model_module_version": "1.2.0",
            "_model_name": "LayoutModel",
            "_view_count": null,
            "_view_module": "@jupyter-widgets/base",
            "_view_module_version": "1.2.0",
            "_view_name": "LayoutView",
            "align_content": null,
            "align_items": null,
            "align_self": null,
            "border": null,
            "bottom": null,
            "display": null,
            "flex": null,
            "flex_flow": null,
            "grid_area": null,
            "grid_auto_columns": null,
            "grid_auto_flow": null,
            "grid_auto_rows": null,
            "grid_column": null,
            "grid_gap": null,
            "grid_row": null,
            "grid_template_areas": null,
            "grid_template_columns": null,
            "grid_template_rows": null,
            "height": null,
            "justify_content": null,
            "justify_items": null,
            "left": null,
            "margin": null,
            "max_height": null,
            "max_width": null,
            "min_height": null,
            "min_width": null,
            "object_fit": null,
            "object_position": null,
            "order": null,
            "overflow": null,
            "overflow_x": null,
            "overflow_y": null,
            "padding": null,
            "right": null,
            "top": null,
            "visibility": null,
            "width": null
          }
        },
        "2a949bb4dd224d238ab192ad66a11ebc": {
          "model_module": "@jupyter-widgets/controls",
          "model_name": "ProgressStyleModel",
          "model_module_version": "1.5.0",
          "state": {
            "_model_module": "@jupyter-widgets/controls",
            "_model_module_version": "1.5.0",
            "_model_name": "ProgressStyleModel",
            "_view_count": null,
            "_view_module": "@jupyter-widgets/base",
            "_view_module_version": "1.2.0",
            "_view_name": "StyleView",
            "bar_color": null,
            "description_width": ""
          }
        },
        "a008fd3bffb14653977b156a8bf23ee3": {
          "model_module": "@jupyter-widgets/base",
          "model_name": "LayoutModel",
          "model_module_version": "1.2.0",
          "state": {
            "_model_module": "@jupyter-widgets/base",
            "_model_module_version": "1.2.0",
            "_model_name": "LayoutModel",
            "_view_count": null,
            "_view_module": "@jupyter-widgets/base",
            "_view_module_version": "1.2.0",
            "_view_name": "LayoutView",
            "align_content": null,
            "align_items": null,
            "align_self": null,
            "border": null,
            "bottom": null,
            "display": null,
            "flex": null,
            "flex_flow": null,
            "grid_area": null,
            "grid_auto_columns": null,
            "grid_auto_flow": null,
            "grid_auto_rows": null,
            "grid_column": null,
            "grid_gap": null,
            "grid_row": null,
            "grid_template_areas": null,
            "grid_template_columns": null,
            "grid_template_rows": null,
            "height": null,
            "justify_content": null,
            "justify_items": null,
            "left": null,
            "margin": null,
            "max_height": null,
            "max_width": null,
            "min_height": null,
            "min_width": null,
            "object_fit": null,
            "object_position": null,
            "order": null,
            "overflow": null,
            "overflow_x": null,
            "overflow_y": null,
            "padding": null,
            "right": null,
            "top": null,
            "visibility": null,
            "width": null
          }
        },
        "ce68f29b8d994caba69b76dd861521b9": {
          "model_module": "@jupyter-widgets/controls",
          "model_name": "DescriptionStyleModel",
          "model_module_version": "1.5.0",
          "state": {
            "_model_module": "@jupyter-widgets/controls",
            "_model_module_version": "1.5.0",
            "_model_name": "DescriptionStyleModel",
            "_view_count": null,
            "_view_module": "@jupyter-widgets/base",
            "_view_module_version": "1.2.0",
            "_view_name": "StyleView",
            "description_width": ""
          }
        },
        "cb3773a86824408ea4a31de05d3fe571": {
          "model_module": "@jupyter-widgets/controls",
          "model_name": "HBoxModel",
          "model_module_version": "1.5.0",
          "state": {
            "_dom_classes": [],
            "_model_module": "@jupyter-widgets/controls",
            "_model_module_version": "1.5.0",
            "_model_name": "HBoxModel",
            "_view_count": null,
            "_view_module": "@jupyter-widgets/controls",
            "_view_module_version": "1.5.0",
            "_view_name": "HBoxView",
            "box_style": "",
            "children": [
              "IPY_MODEL_ef68d02c085f403da60e5f997d18d4da",
              "IPY_MODEL_432eb8061f614d75bd5cc003490c9704",
              "IPY_MODEL_5802824316b74b458f4ce1ef30a81ad4"
            ],
            "layout": "IPY_MODEL_1bcb0144690f4744b5c3f074241994de"
          }
        },
        "ef68d02c085f403da60e5f997d18d4da": {
          "model_module": "@jupyter-widgets/controls",
          "model_name": "HTMLModel",
          "model_module_version": "1.5.0",
          "state": {
            "_dom_classes": [],
            "_model_module": "@jupyter-widgets/controls",
            "_model_module_version": "1.5.0",
            "_model_name": "HTMLModel",
            "_view_count": null,
            "_view_module": "@jupyter-widgets/controls",
            "_view_module_version": "1.5.0",
            "_view_name": "HTMLView",
            "description": "",
            "description_tooltip": null,
            "layout": "IPY_MODEL_ac4d780f27484a3c92768f380c917fd7",
            "placeholder": "​",
            "style": "IPY_MODEL_66a7c0351e66432e9dca0b2b73e053ab",
            "value": "Downloading (…)cial_tokens_map.json: 100%"
          }
        },
        "432eb8061f614d75bd5cc003490c9704": {
          "model_module": "@jupyter-widgets/controls",
          "model_name": "FloatProgressModel",
          "model_module_version": "1.5.0",
          "state": {
            "_dom_classes": [],
            "_model_module": "@jupyter-widgets/controls",
            "_model_module_version": "1.5.0",
            "_model_name": "FloatProgressModel",
            "_view_count": null,
            "_view_module": "@jupyter-widgets/controls",
            "_view_module_version": "1.5.0",
            "_view_name": "ProgressView",
            "bar_style": "success",
            "description": "",
            "description_tooltip": null,
            "layout": "IPY_MODEL_6273b33b6a48455fbae8410c3d6fe4a0",
            "max": 112,
            "min": 0,
            "orientation": "horizontal",
            "style": "IPY_MODEL_a6dfbeec1046451dab55bb04de259bb6",
            "value": 112
          }
        },
        "5802824316b74b458f4ce1ef30a81ad4": {
          "model_module": "@jupyter-widgets/controls",
          "model_name": "HTMLModel",
          "model_module_version": "1.5.0",
          "state": {
            "_dom_classes": [],
            "_model_module": "@jupyter-widgets/controls",
            "_model_module_version": "1.5.0",
            "_model_name": "HTMLModel",
            "_view_count": null,
            "_view_module": "@jupyter-widgets/controls",
            "_view_module_version": "1.5.0",
            "_view_name": "HTMLView",
            "description": "",
            "description_tooltip": null,
            "layout": "IPY_MODEL_f91e3a363b3f4705bbd58edff5801b3a",
            "placeholder": "​",
            "style": "IPY_MODEL_eba13bb626e94a89b58ebd255098df93",
            "value": " 112/112 [00:00&lt;00:00, 4.72kB/s]"
          }
        },
        "1bcb0144690f4744b5c3f074241994de": {
          "model_module": "@jupyter-widgets/base",
          "model_name": "LayoutModel",
          "model_module_version": "1.2.0",
          "state": {
            "_model_module": "@jupyter-widgets/base",
            "_model_module_version": "1.2.0",
            "_model_name": "LayoutModel",
            "_view_count": null,
            "_view_module": "@jupyter-widgets/base",
            "_view_module_version": "1.2.0",
            "_view_name": "LayoutView",
            "align_content": null,
            "align_items": null,
            "align_self": null,
            "border": null,
            "bottom": null,
            "display": null,
            "flex": null,
            "flex_flow": null,
            "grid_area": null,
            "grid_auto_columns": null,
            "grid_auto_flow": null,
            "grid_auto_rows": null,
            "grid_column": null,
            "grid_gap": null,
            "grid_row": null,
            "grid_template_areas": null,
            "grid_template_columns": null,
            "grid_template_rows": null,
            "height": null,
            "justify_content": null,
            "justify_items": null,
            "left": null,
            "margin": null,
            "max_height": null,
            "max_width": null,
            "min_height": null,
            "min_width": null,
            "object_fit": null,
            "object_position": null,
            "order": null,
            "overflow": null,
            "overflow_x": null,
            "overflow_y": null,
            "padding": null,
            "right": null,
            "top": null,
            "visibility": null,
            "width": null
          }
        },
        "ac4d780f27484a3c92768f380c917fd7": {
          "model_module": "@jupyter-widgets/base",
          "model_name": "LayoutModel",
          "model_module_version": "1.2.0",
          "state": {
            "_model_module": "@jupyter-widgets/base",
            "_model_module_version": "1.2.0",
            "_model_name": "LayoutModel",
            "_view_count": null,
            "_view_module": "@jupyter-widgets/base",
            "_view_module_version": "1.2.0",
            "_view_name": "LayoutView",
            "align_content": null,
            "align_items": null,
            "align_self": null,
            "border": null,
            "bottom": null,
            "display": null,
            "flex": null,
            "flex_flow": null,
            "grid_area": null,
            "grid_auto_columns": null,
            "grid_auto_flow": null,
            "grid_auto_rows": null,
            "grid_column": null,
            "grid_gap": null,
            "grid_row": null,
            "grid_template_areas": null,
            "grid_template_columns": null,
            "grid_template_rows": null,
            "height": null,
            "justify_content": null,
            "justify_items": null,
            "left": null,
            "margin": null,
            "max_height": null,
            "max_width": null,
            "min_height": null,
            "min_width": null,
            "object_fit": null,
            "object_position": null,
            "order": null,
            "overflow": null,
            "overflow_x": null,
            "overflow_y": null,
            "padding": null,
            "right": null,
            "top": null,
            "visibility": null,
            "width": null
          }
        },
        "66a7c0351e66432e9dca0b2b73e053ab": {
          "model_module": "@jupyter-widgets/controls",
          "model_name": "DescriptionStyleModel",
          "model_module_version": "1.5.0",
          "state": {
            "_model_module": "@jupyter-widgets/controls",
            "_model_module_version": "1.5.0",
            "_model_name": "DescriptionStyleModel",
            "_view_count": null,
            "_view_module": "@jupyter-widgets/base",
            "_view_module_version": "1.2.0",
            "_view_name": "StyleView",
            "description_width": ""
          }
        },
        "6273b33b6a48455fbae8410c3d6fe4a0": {
          "model_module": "@jupyter-widgets/base",
          "model_name": "LayoutModel",
          "model_module_version": "1.2.0",
          "state": {
            "_model_module": "@jupyter-widgets/base",
            "_model_module_version": "1.2.0",
            "_model_name": "LayoutModel",
            "_view_count": null,
            "_view_module": "@jupyter-widgets/base",
            "_view_module_version": "1.2.0",
            "_view_name": "LayoutView",
            "align_content": null,
            "align_items": null,
            "align_self": null,
            "border": null,
            "bottom": null,
            "display": null,
            "flex": null,
            "flex_flow": null,
            "grid_area": null,
            "grid_auto_columns": null,
            "grid_auto_flow": null,
            "grid_auto_rows": null,
            "grid_column": null,
            "grid_gap": null,
            "grid_row": null,
            "grid_template_areas": null,
            "grid_template_columns": null,
            "grid_template_rows": null,
            "height": null,
            "justify_content": null,
            "justify_items": null,
            "left": null,
            "margin": null,
            "max_height": null,
            "max_width": null,
            "min_height": null,
            "min_width": null,
            "object_fit": null,
            "object_position": null,
            "order": null,
            "overflow": null,
            "overflow_x": null,
            "overflow_y": null,
            "padding": null,
            "right": null,
            "top": null,
            "visibility": null,
            "width": null
          }
        },
        "a6dfbeec1046451dab55bb04de259bb6": {
          "model_module": "@jupyter-widgets/controls",
          "model_name": "ProgressStyleModel",
          "model_module_version": "1.5.0",
          "state": {
            "_model_module": "@jupyter-widgets/controls",
            "_model_module_version": "1.5.0",
            "_model_name": "ProgressStyleModel",
            "_view_count": null,
            "_view_module": "@jupyter-widgets/base",
            "_view_module_version": "1.2.0",
            "_view_name": "StyleView",
            "bar_color": null,
            "description_width": ""
          }
        },
        "f91e3a363b3f4705bbd58edff5801b3a": {
          "model_module": "@jupyter-widgets/base",
          "model_name": "LayoutModel",
          "model_module_version": "1.2.0",
          "state": {
            "_model_module": "@jupyter-widgets/base",
            "_model_module_version": "1.2.0",
            "_model_name": "LayoutModel",
            "_view_count": null,
            "_view_module": "@jupyter-widgets/base",
            "_view_module_version": "1.2.0",
            "_view_name": "LayoutView",
            "align_content": null,
            "align_items": null,
            "align_self": null,
            "border": null,
            "bottom": null,
            "display": null,
            "flex": null,
            "flex_flow": null,
            "grid_area": null,
            "grid_auto_columns": null,
            "grid_auto_flow": null,
            "grid_auto_rows": null,
            "grid_column": null,
            "grid_gap": null,
            "grid_row": null,
            "grid_template_areas": null,
            "grid_template_columns": null,
            "grid_template_rows": null,
            "height": null,
            "justify_content": null,
            "justify_items": null,
            "left": null,
            "margin": null,
            "max_height": null,
            "max_width": null,
            "min_height": null,
            "min_width": null,
            "object_fit": null,
            "object_position": null,
            "order": null,
            "overflow": null,
            "overflow_x": null,
            "overflow_y": null,
            "padding": null,
            "right": null,
            "top": null,
            "visibility": null,
            "width": null
          }
        },
        "eba13bb626e94a89b58ebd255098df93": {
          "model_module": "@jupyter-widgets/controls",
          "model_name": "DescriptionStyleModel",
          "model_module_version": "1.5.0",
          "state": {
            "_model_module": "@jupyter-widgets/controls",
            "_model_module_version": "1.5.0",
            "_model_name": "DescriptionStyleModel",
            "_view_count": null,
            "_view_module": "@jupyter-widgets/base",
            "_view_module_version": "1.2.0",
            "_view_name": "StyleView",
            "description_width": ""
          }
        },
        "5ef23a51800c40cc967f083cd8b090b9": {
          "model_module": "@jupyter-widgets/controls",
          "model_name": "HBoxModel",
          "model_module_version": "1.5.0",
          "state": {
            "_dom_classes": [],
            "_model_module": "@jupyter-widgets/controls",
            "_model_module_version": "1.5.0",
            "_model_name": "HBoxModel",
            "_view_count": null,
            "_view_module": "@jupyter-widgets/controls",
            "_view_module_version": "1.5.0",
            "_view_name": "HBoxView",
            "box_style": "",
            "children": [
              "IPY_MODEL_a7a2fbac19e44edea16c43fa806c438f",
              "IPY_MODEL_83804d4064a4428ebba9e55554435a2d",
              "IPY_MODEL_d5182bf905534ddab5f98e74afce3198"
            ],
            "layout": "IPY_MODEL_08a78b9cdf724817b9e8670d5368d359"
          }
        },
        "a7a2fbac19e44edea16c43fa806c438f": {
          "model_module": "@jupyter-widgets/controls",
          "model_name": "HTMLModel",
          "model_module_version": "1.5.0",
          "state": {
            "_dom_classes": [],
            "_model_module": "@jupyter-widgets/controls",
            "_model_module_version": "1.5.0",
            "_model_name": "HTMLModel",
            "_view_count": null,
            "_view_module": "@jupyter-widgets/controls",
            "_view_module_version": "1.5.0",
            "_view_name": "HTMLView",
            "description": "",
            "description_tooltip": null,
            "layout": "IPY_MODEL_caa8d26d07d646209f2fee2f0b09c7af",
            "placeholder": "​",
            "style": "IPY_MODEL_475ee9214ec447088d2ab70ab2fe771a",
            "value": "Downloading (…)okenizer_config.json: 100%"
          }
        },
        "83804d4064a4428ebba9e55554435a2d": {
          "model_module": "@jupyter-widgets/controls",
          "model_name": "FloatProgressModel",
          "model_module_version": "1.5.0",
          "state": {
            "_dom_classes": [],
            "_model_module": "@jupyter-widgets/controls",
            "_model_module_version": "1.5.0",
            "_model_name": "FloatProgressModel",
            "_view_count": null,
            "_view_module": "@jupyter-widgets/controls",
            "_view_module_version": "1.5.0",
            "_view_name": "ProgressView",
            "bar_style": "success",
            "description": "",
            "description_tooltip": null,
            "layout": "IPY_MODEL_5d90455777d1471d8e35a419e1fe9be8",
            "max": 252,
            "min": 0,
            "orientation": "horizontal",
            "style": "IPY_MODEL_2316cc78524b4aa8929c21da0d34728b",
            "value": 252
          }
        },
        "d5182bf905534ddab5f98e74afce3198": {
          "model_module": "@jupyter-widgets/controls",
          "model_name": "HTMLModel",
          "model_module_version": "1.5.0",
          "state": {
            "_dom_classes": [],
            "_model_module": "@jupyter-widgets/controls",
            "_model_module_version": "1.5.0",
            "_model_name": "HTMLModel",
            "_view_count": null,
            "_view_module": "@jupyter-widgets/controls",
            "_view_module_version": "1.5.0",
            "_view_name": "HTMLView",
            "description": "",
            "description_tooltip": null,
            "layout": "IPY_MODEL_0b9a1022eea24791a3e63232849d456f",
            "placeholder": "​",
            "style": "IPY_MODEL_ac0c20304b8c424694a81c6c07885887",
            "value": " 252/252 [00:00&lt;00:00, 20.3kB/s]"
          }
        },
        "08a78b9cdf724817b9e8670d5368d359": {
          "model_module": "@jupyter-widgets/base",
          "model_name": "LayoutModel",
          "model_module_version": "1.2.0",
          "state": {
            "_model_module": "@jupyter-widgets/base",
            "_model_module_version": "1.2.0",
            "_model_name": "LayoutModel",
            "_view_count": null,
            "_view_module": "@jupyter-widgets/base",
            "_view_module_version": "1.2.0",
            "_view_name": "LayoutView",
            "align_content": null,
            "align_items": null,
            "align_self": null,
            "border": null,
            "bottom": null,
            "display": null,
            "flex": null,
            "flex_flow": null,
            "grid_area": null,
            "grid_auto_columns": null,
            "grid_auto_flow": null,
            "grid_auto_rows": null,
            "grid_column": null,
            "grid_gap": null,
            "grid_row": null,
            "grid_template_areas": null,
            "grid_template_columns": null,
            "grid_template_rows": null,
            "height": null,
            "justify_content": null,
            "justify_items": null,
            "left": null,
            "margin": null,
            "max_height": null,
            "max_width": null,
            "min_height": null,
            "min_width": null,
            "object_fit": null,
            "object_position": null,
            "order": null,
            "overflow": null,
            "overflow_x": null,
            "overflow_y": null,
            "padding": null,
            "right": null,
            "top": null,
            "visibility": null,
            "width": null
          }
        },
        "caa8d26d07d646209f2fee2f0b09c7af": {
          "model_module": "@jupyter-widgets/base",
          "model_name": "LayoutModel",
          "model_module_version": "1.2.0",
          "state": {
            "_model_module": "@jupyter-widgets/base",
            "_model_module_version": "1.2.0",
            "_model_name": "LayoutModel",
            "_view_count": null,
            "_view_module": "@jupyter-widgets/base",
            "_view_module_version": "1.2.0",
            "_view_name": "LayoutView",
            "align_content": null,
            "align_items": null,
            "align_self": null,
            "border": null,
            "bottom": null,
            "display": null,
            "flex": null,
            "flex_flow": null,
            "grid_area": null,
            "grid_auto_columns": null,
            "grid_auto_flow": null,
            "grid_auto_rows": null,
            "grid_column": null,
            "grid_gap": null,
            "grid_row": null,
            "grid_template_areas": null,
            "grid_template_columns": null,
            "grid_template_rows": null,
            "height": null,
            "justify_content": null,
            "justify_items": null,
            "left": null,
            "margin": null,
            "max_height": null,
            "max_width": null,
            "min_height": null,
            "min_width": null,
            "object_fit": null,
            "object_position": null,
            "order": null,
            "overflow": null,
            "overflow_x": null,
            "overflow_y": null,
            "padding": null,
            "right": null,
            "top": null,
            "visibility": null,
            "width": null
          }
        },
        "475ee9214ec447088d2ab70ab2fe771a": {
          "model_module": "@jupyter-widgets/controls",
          "model_name": "DescriptionStyleModel",
          "model_module_version": "1.5.0",
          "state": {
            "_model_module": "@jupyter-widgets/controls",
            "_model_module_version": "1.5.0",
            "_model_name": "DescriptionStyleModel",
            "_view_count": null,
            "_view_module": "@jupyter-widgets/base",
            "_view_module_version": "1.2.0",
            "_view_name": "StyleView",
            "description_width": ""
          }
        },
        "5d90455777d1471d8e35a419e1fe9be8": {
          "model_module": "@jupyter-widgets/base",
          "model_name": "LayoutModel",
          "model_module_version": "1.2.0",
          "state": {
            "_model_module": "@jupyter-widgets/base",
            "_model_module_version": "1.2.0",
            "_model_name": "LayoutModel",
            "_view_count": null,
            "_view_module": "@jupyter-widgets/base",
            "_view_module_version": "1.2.0",
            "_view_name": "LayoutView",
            "align_content": null,
            "align_items": null,
            "align_self": null,
            "border": null,
            "bottom": null,
            "display": null,
            "flex": null,
            "flex_flow": null,
            "grid_area": null,
            "grid_auto_columns": null,
            "grid_auto_flow": null,
            "grid_auto_rows": null,
            "grid_column": null,
            "grid_gap": null,
            "grid_row": null,
            "grid_template_areas": null,
            "grid_template_columns": null,
            "grid_template_rows": null,
            "height": null,
            "justify_content": null,
            "justify_items": null,
            "left": null,
            "margin": null,
            "max_height": null,
            "max_width": null,
            "min_height": null,
            "min_width": null,
            "object_fit": null,
            "object_position": null,
            "order": null,
            "overflow": null,
            "overflow_x": null,
            "overflow_y": null,
            "padding": null,
            "right": null,
            "top": null,
            "visibility": null,
            "width": null
          }
        },
        "2316cc78524b4aa8929c21da0d34728b": {
          "model_module": "@jupyter-widgets/controls",
          "model_name": "ProgressStyleModel",
          "model_module_version": "1.5.0",
          "state": {
            "_model_module": "@jupyter-widgets/controls",
            "_model_module_version": "1.5.0",
            "_model_name": "ProgressStyleModel",
            "_view_count": null,
            "_view_module": "@jupyter-widgets/base",
            "_view_module_version": "1.2.0",
            "_view_name": "StyleView",
            "bar_color": null,
            "description_width": ""
          }
        },
        "0b9a1022eea24791a3e63232849d456f": {
          "model_module": "@jupyter-widgets/base",
          "model_name": "LayoutModel",
          "model_module_version": "1.2.0",
          "state": {
            "_model_module": "@jupyter-widgets/base",
            "_model_module_version": "1.2.0",
            "_model_name": "LayoutModel",
            "_view_count": null,
            "_view_module": "@jupyter-widgets/base",
            "_view_module_version": "1.2.0",
            "_view_name": "LayoutView",
            "align_content": null,
            "align_items": null,
            "align_self": null,
            "border": null,
            "bottom": null,
            "display": null,
            "flex": null,
            "flex_flow": null,
            "grid_area": null,
            "grid_auto_columns": null,
            "grid_auto_flow": null,
            "grid_auto_rows": null,
            "grid_column": null,
            "grid_gap": null,
            "grid_row": null,
            "grid_template_areas": null,
            "grid_template_columns": null,
            "grid_template_rows": null,
            "height": null,
            "justify_content": null,
            "justify_items": null,
            "left": null,
            "margin": null,
            "max_height": null,
            "max_width": null,
            "min_height": null,
            "min_width": null,
            "object_fit": null,
            "object_position": null,
            "order": null,
            "overflow": null,
            "overflow_x": null,
            "overflow_y": null,
            "padding": null,
            "right": null,
            "top": null,
            "visibility": null,
            "width": null
          }
        },
        "ac0c20304b8c424694a81c6c07885887": {
          "model_module": "@jupyter-widgets/controls",
          "model_name": "DescriptionStyleModel",
          "model_module_version": "1.5.0",
          "state": {
            "_model_module": "@jupyter-widgets/controls",
            "_model_module_version": "1.5.0",
            "_model_name": "DescriptionStyleModel",
            "_view_count": null,
            "_view_module": "@jupyter-widgets/base",
            "_view_module_version": "1.2.0",
            "_view_name": "StyleView",
            "description_width": ""
          }
        },
        "2a3112943b204ac3bcee36e9171bda1f": {
          "model_module": "@jupyter-widgets/controls",
          "model_name": "HBoxModel",
          "model_module_version": "1.5.0",
          "state": {
            "_dom_classes": [],
            "_model_module": "@jupyter-widgets/controls",
            "_model_module_version": "1.5.0",
            "_model_name": "HBoxModel",
            "_view_count": null,
            "_view_module": "@jupyter-widgets/controls",
            "_view_module_version": "1.5.0",
            "_view_name": "HBoxView",
            "box_style": "",
            "children": [
              "IPY_MODEL_2ddd85d4873d454c9b694d3fe9558ac2",
              "IPY_MODEL_52d524dd4dc04e91b4e78c8c20e537ab",
              "IPY_MODEL_dddb6ca01702490aac77bdf0214d6626"
            ],
            "layout": "IPY_MODEL_645d9b170714430b9b0386b9c4b4f666"
          }
        },
        "2ddd85d4873d454c9b694d3fe9558ac2": {
          "model_module": "@jupyter-widgets/controls",
          "model_name": "HTMLModel",
          "model_module_version": "1.5.0",
          "state": {
            "_dom_classes": [],
            "_model_module": "@jupyter-widgets/controls",
            "_model_module_version": "1.5.0",
            "_model_name": "HTMLModel",
            "_view_count": null,
            "_view_module": "@jupyter-widgets/controls",
            "_view_module_version": "1.5.0",
            "_view_name": "HTMLView",
            "description": "",
            "description_tooltip": null,
            "layout": "IPY_MODEL_01832fdcdcab4e3f87e8b7b6dcac7d75",
            "placeholder": "​",
            "style": "IPY_MODEL_5c340370ed444059ac78144871f194fe",
            "value": "Downloading (…)lve/main/config.json: 100%"
          }
        },
        "52d524dd4dc04e91b4e78c8c20e537ab": {
          "model_module": "@jupyter-widgets/controls",
          "model_name": "FloatProgressModel",
          "model_module_version": "1.5.0",
          "state": {
            "_dom_classes": [],
            "_model_module": "@jupyter-widgets/controls",
            "_model_module_version": "1.5.0",
            "_model_name": "FloatProgressModel",
            "_view_count": null,
            "_view_module": "@jupyter-widgets/controls",
            "_view_module_version": "1.5.0",
            "_view_name": "ProgressView",
            "bar_style": "success",
            "description": "",
            "description_tooltip": null,
            "layout": "IPY_MODEL_0fa46b4c04204482a425e3554f519fc6",
            "max": 758,
            "min": 0,
            "orientation": "horizontal",
            "style": "IPY_MODEL_e29312f8d9314748b445ac46f4bdb475",
            "value": 758
          }
        },
        "dddb6ca01702490aac77bdf0214d6626": {
          "model_module": "@jupyter-widgets/controls",
          "model_name": "HTMLModel",
          "model_module_version": "1.5.0",
          "state": {
            "_dom_classes": [],
            "_model_module": "@jupyter-widgets/controls",
            "_model_module_version": "1.5.0",
            "_model_name": "HTMLModel",
            "_view_count": null,
            "_view_module": "@jupyter-widgets/controls",
            "_view_module_version": "1.5.0",
            "_view_name": "HTMLView",
            "description": "",
            "description_tooltip": null,
            "layout": "IPY_MODEL_187a43166b2a492eaa8fbabd12347720",
            "placeholder": "​",
            "style": "IPY_MODEL_31bd55b5aea84576b36519169b7709ff",
            "value": " 758/758 [00:00&lt;00:00, 10.8kB/s]"
          }
        },
        "645d9b170714430b9b0386b9c4b4f666": {
          "model_module": "@jupyter-widgets/base",
          "model_name": "LayoutModel",
          "model_module_version": "1.2.0",
          "state": {
            "_model_module": "@jupyter-widgets/base",
            "_model_module_version": "1.2.0",
            "_model_name": "LayoutModel",
            "_view_count": null,
            "_view_module": "@jupyter-widgets/base",
            "_view_module_version": "1.2.0",
            "_view_name": "LayoutView",
            "align_content": null,
            "align_items": null,
            "align_self": null,
            "border": null,
            "bottom": null,
            "display": null,
            "flex": null,
            "flex_flow": null,
            "grid_area": null,
            "grid_auto_columns": null,
            "grid_auto_flow": null,
            "grid_auto_rows": null,
            "grid_column": null,
            "grid_gap": null,
            "grid_row": null,
            "grid_template_areas": null,
            "grid_template_columns": null,
            "grid_template_rows": null,
            "height": null,
            "justify_content": null,
            "justify_items": null,
            "left": null,
            "margin": null,
            "max_height": null,
            "max_width": null,
            "min_height": null,
            "min_width": null,
            "object_fit": null,
            "object_position": null,
            "order": null,
            "overflow": null,
            "overflow_x": null,
            "overflow_y": null,
            "padding": null,
            "right": null,
            "top": null,
            "visibility": null,
            "width": null
          }
        },
        "01832fdcdcab4e3f87e8b7b6dcac7d75": {
          "model_module": "@jupyter-widgets/base",
          "model_name": "LayoutModel",
          "model_module_version": "1.2.0",
          "state": {
            "_model_module": "@jupyter-widgets/base",
            "_model_module_version": "1.2.0",
            "_model_name": "LayoutModel",
            "_view_count": null,
            "_view_module": "@jupyter-widgets/base",
            "_view_module_version": "1.2.0",
            "_view_name": "LayoutView",
            "align_content": null,
            "align_items": null,
            "align_self": null,
            "border": null,
            "bottom": null,
            "display": null,
            "flex": null,
            "flex_flow": null,
            "grid_area": null,
            "grid_auto_columns": null,
            "grid_auto_flow": null,
            "grid_auto_rows": null,
            "grid_column": null,
            "grid_gap": null,
            "grid_row": null,
            "grid_template_areas": null,
            "grid_template_columns": null,
            "grid_template_rows": null,
            "height": null,
            "justify_content": null,
            "justify_items": null,
            "left": null,
            "margin": null,
            "max_height": null,
            "max_width": null,
            "min_height": null,
            "min_width": null,
            "object_fit": null,
            "object_position": null,
            "order": null,
            "overflow": null,
            "overflow_x": null,
            "overflow_y": null,
            "padding": null,
            "right": null,
            "top": null,
            "visibility": null,
            "width": null
          }
        },
        "5c340370ed444059ac78144871f194fe": {
          "model_module": "@jupyter-widgets/controls",
          "model_name": "DescriptionStyleModel",
          "model_module_version": "1.5.0",
          "state": {
            "_model_module": "@jupyter-widgets/controls",
            "_model_module_version": "1.5.0",
            "_model_name": "DescriptionStyleModel",
            "_view_count": null,
            "_view_module": "@jupyter-widgets/base",
            "_view_module_version": "1.2.0",
            "_view_name": "StyleView",
            "description_width": ""
          }
        },
        "0fa46b4c04204482a425e3554f519fc6": {
          "model_module": "@jupyter-widgets/base",
          "model_name": "LayoutModel",
          "model_module_version": "1.2.0",
          "state": {
            "_model_module": "@jupyter-widgets/base",
            "_model_module_version": "1.2.0",
            "_model_name": "LayoutModel",
            "_view_count": null,
            "_view_module": "@jupyter-widgets/base",
            "_view_module_version": "1.2.0",
            "_view_name": "LayoutView",
            "align_content": null,
            "align_items": null,
            "align_self": null,
            "border": null,
            "bottom": null,
            "display": null,
            "flex": null,
            "flex_flow": null,
            "grid_area": null,
            "grid_auto_columns": null,
            "grid_auto_flow": null,
            "grid_auto_rows": null,
            "grid_column": null,
            "grid_gap": null,
            "grid_row": null,
            "grid_template_areas": null,
            "grid_template_columns": null,
            "grid_template_rows": null,
            "height": null,
            "justify_content": null,
            "justify_items": null,
            "left": null,
            "margin": null,
            "max_height": null,
            "max_width": null,
            "min_height": null,
            "min_width": null,
            "object_fit": null,
            "object_position": null,
            "order": null,
            "overflow": null,
            "overflow_x": null,
            "overflow_y": null,
            "padding": null,
            "right": null,
            "top": null,
            "visibility": null,
            "width": null
          }
        },
        "e29312f8d9314748b445ac46f4bdb475": {
          "model_module": "@jupyter-widgets/controls",
          "model_name": "ProgressStyleModel",
          "model_module_version": "1.5.0",
          "state": {
            "_model_module": "@jupyter-widgets/controls",
            "_model_module_version": "1.5.0",
            "_model_name": "ProgressStyleModel",
            "_view_count": null,
            "_view_module": "@jupyter-widgets/base",
            "_view_module_version": "1.2.0",
            "_view_name": "StyleView",
            "bar_color": null,
            "description_width": ""
          }
        },
        "187a43166b2a492eaa8fbabd12347720": {
          "model_module": "@jupyter-widgets/base",
          "model_name": "LayoutModel",
          "model_module_version": "1.2.0",
          "state": {
            "_model_module": "@jupyter-widgets/base",
            "_model_module_version": "1.2.0",
            "_model_name": "LayoutModel",
            "_view_count": null,
            "_view_module": "@jupyter-widgets/base",
            "_view_module_version": "1.2.0",
            "_view_name": "LayoutView",
            "align_content": null,
            "align_items": null,
            "align_self": null,
            "border": null,
            "bottom": null,
            "display": null,
            "flex": null,
            "flex_flow": null,
            "grid_area": null,
            "grid_auto_columns": null,
            "grid_auto_flow": null,
            "grid_auto_rows": null,
            "grid_column": null,
            "grid_gap": null,
            "grid_row": null,
            "grid_template_areas": null,
            "grid_template_columns": null,
            "grid_template_rows": null,
            "height": null,
            "justify_content": null,
            "justify_items": null,
            "left": null,
            "margin": null,
            "max_height": null,
            "max_width": null,
            "min_height": null,
            "min_width": null,
            "object_fit": null,
            "object_position": null,
            "order": null,
            "overflow": null,
            "overflow_x": null,
            "overflow_y": null,
            "padding": null,
            "right": null,
            "top": null,
            "visibility": null,
            "width": null
          }
        },
        "31bd55b5aea84576b36519169b7709ff": {
          "model_module": "@jupyter-widgets/controls",
          "model_name": "DescriptionStyleModel",
          "model_module_version": "1.5.0",
          "state": {
            "_model_module": "@jupyter-widgets/controls",
            "_model_module_version": "1.5.0",
            "_model_name": "DescriptionStyleModel",
            "_view_count": null,
            "_view_module": "@jupyter-widgets/base",
            "_view_module_version": "1.2.0",
            "_view_name": "StyleView",
            "description_width": ""
          }
        },
        "6fb201588c384f6fb48a2209b9255ced": {
          "model_module": "@jupyter-widgets/controls",
          "model_name": "HBoxModel",
          "model_module_version": "1.5.0",
          "state": {
            "_dom_classes": [],
            "_model_module": "@jupyter-widgets/controls",
            "_model_module_version": "1.5.0",
            "_model_name": "HBoxModel",
            "_view_count": null,
            "_view_module": "@jupyter-widgets/controls",
            "_view_module_version": "1.5.0",
            "_view_name": "HBoxView",
            "box_style": "",
            "children": [
              "IPY_MODEL_4e766b40e2ea4934bb4df308ccae6757",
              "IPY_MODEL_e72c2adffecb4221959b517b63e60306",
              "IPY_MODEL_e894613e2a794e75a9a21f507fe0e803"
            ],
            "layout": "IPY_MODEL_176859aed61e4a80b8316c266d4a37a4"
          }
        },
        "4e766b40e2ea4934bb4df308ccae6757": {
          "model_module": "@jupyter-widgets/controls",
          "model_name": "HTMLModel",
          "model_module_version": "1.5.0",
          "state": {
            "_dom_classes": [],
            "_model_module": "@jupyter-widgets/controls",
            "_model_module_version": "1.5.0",
            "_model_name": "HTMLModel",
            "_view_count": null,
            "_view_module": "@jupyter-widgets/controls",
            "_view_module_version": "1.5.0",
            "_view_name": "HTMLView",
            "description": "",
            "description_tooltip": null,
            "layout": "IPY_MODEL_61e7d18dd323497cb8ad80e059018e53",
            "placeholder": "​",
            "style": "IPY_MODEL_cf5bd82ba185412a8fe56aeb5c8ddae7",
            "value": "Downloading tf_model.h5: 100%"
          }
        },
        "e72c2adffecb4221959b517b63e60306": {
          "model_module": "@jupyter-widgets/controls",
          "model_name": "FloatProgressModel",
          "model_module_version": "1.5.0",
          "state": {
            "_dom_classes": [],
            "_model_module": "@jupyter-widgets/controls",
            "_model_module_version": "1.5.0",
            "_model_name": "FloatProgressModel",
            "_view_count": null,
            "_view_module": "@jupyter-widgets/controls",
            "_view_module_version": "1.5.0",
            "_view_name": "ProgressView",
            "bar_style": "success",
            "description": "",
            "description_tooltip": null,
            "layout": "IPY_MODEL_cbfa0d5c042b4ad198265671627b03f2",
            "max": 438196200,
            "min": 0,
            "orientation": "horizontal",
            "style": "IPY_MODEL_3f1a9498f94f4f1d9b6dd43d88b1f434",
            "value": 438196200
          }
        },
        "e894613e2a794e75a9a21f507fe0e803": {
          "model_module": "@jupyter-widgets/controls",
          "model_name": "HTMLModel",
          "model_module_version": "1.5.0",
          "state": {
            "_dom_classes": [],
            "_model_module": "@jupyter-widgets/controls",
            "_model_module_version": "1.5.0",
            "_model_name": "HTMLModel",
            "_view_count": null,
            "_view_module": "@jupyter-widgets/controls",
            "_view_module_version": "1.5.0",
            "_view_name": "HTMLView",
            "description": "",
            "description_tooltip": null,
            "layout": "IPY_MODEL_4a8bef11a5c04a06969b9d199f4e0d99",
            "placeholder": "​",
            "style": "IPY_MODEL_f84843a0ff194363807da188755bd8f2",
            "value": " 438M/438M [00:06&lt;00:00, 98.1MB/s]"
          }
        },
        "176859aed61e4a80b8316c266d4a37a4": {
          "model_module": "@jupyter-widgets/base",
          "model_name": "LayoutModel",
          "model_module_version": "1.2.0",
          "state": {
            "_model_module": "@jupyter-widgets/base",
            "_model_module_version": "1.2.0",
            "_model_name": "LayoutModel",
            "_view_count": null,
            "_view_module": "@jupyter-widgets/base",
            "_view_module_version": "1.2.0",
            "_view_name": "LayoutView",
            "align_content": null,
            "align_items": null,
            "align_self": null,
            "border": null,
            "bottom": null,
            "display": null,
            "flex": null,
            "flex_flow": null,
            "grid_area": null,
            "grid_auto_columns": null,
            "grid_auto_flow": null,
            "grid_auto_rows": null,
            "grid_column": null,
            "grid_gap": null,
            "grid_row": null,
            "grid_template_areas": null,
            "grid_template_columns": null,
            "grid_template_rows": null,
            "height": null,
            "justify_content": null,
            "justify_items": null,
            "left": null,
            "margin": null,
            "max_height": null,
            "max_width": null,
            "min_height": null,
            "min_width": null,
            "object_fit": null,
            "object_position": null,
            "order": null,
            "overflow": null,
            "overflow_x": null,
            "overflow_y": null,
            "padding": null,
            "right": null,
            "top": null,
            "visibility": null,
            "width": null
          }
        },
        "61e7d18dd323497cb8ad80e059018e53": {
          "model_module": "@jupyter-widgets/base",
          "model_name": "LayoutModel",
          "model_module_version": "1.2.0",
          "state": {
            "_model_module": "@jupyter-widgets/base",
            "_model_module_version": "1.2.0",
            "_model_name": "LayoutModel",
            "_view_count": null,
            "_view_module": "@jupyter-widgets/base",
            "_view_module_version": "1.2.0",
            "_view_name": "LayoutView",
            "align_content": null,
            "align_items": null,
            "align_self": null,
            "border": null,
            "bottom": null,
            "display": null,
            "flex": null,
            "flex_flow": null,
            "grid_area": null,
            "grid_auto_columns": null,
            "grid_auto_flow": null,
            "grid_auto_rows": null,
            "grid_column": null,
            "grid_gap": null,
            "grid_row": null,
            "grid_template_areas": null,
            "grid_template_columns": null,
            "grid_template_rows": null,
            "height": null,
            "justify_content": null,
            "justify_items": null,
            "left": null,
            "margin": null,
            "max_height": null,
            "max_width": null,
            "min_height": null,
            "min_width": null,
            "object_fit": null,
            "object_position": null,
            "order": null,
            "overflow": null,
            "overflow_x": null,
            "overflow_y": null,
            "padding": null,
            "right": null,
            "top": null,
            "visibility": null,
            "width": null
          }
        },
        "cf5bd82ba185412a8fe56aeb5c8ddae7": {
          "model_module": "@jupyter-widgets/controls",
          "model_name": "DescriptionStyleModel",
          "model_module_version": "1.5.0",
          "state": {
            "_model_module": "@jupyter-widgets/controls",
            "_model_module_version": "1.5.0",
            "_model_name": "DescriptionStyleModel",
            "_view_count": null,
            "_view_module": "@jupyter-widgets/base",
            "_view_module_version": "1.2.0",
            "_view_name": "StyleView",
            "description_width": ""
          }
        },
        "cbfa0d5c042b4ad198265671627b03f2": {
          "model_module": "@jupyter-widgets/base",
          "model_name": "LayoutModel",
          "model_module_version": "1.2.0",
          "state": {
            "_model_module": "@jupyter-widgets/base",
            "_model_module_version": "1.2.0",
            "_model_name": "LayoutModel",
            "_view_count": null,
            "_view_module": "@jupyter-widgets/base",
            "_view_module_version": "1.2.0",
            "_view_name": "LayoutView",
            "align_content": null,
            "align_items": null,
            "align_self": null,
            "border": null,
            "bottom": null,
            "display": null,
            "flex": null,
            "flex_flow": null,
            "grid_area": null,
            "grid_auto_columns": null,
            "grid_auto_flow": null,
            "grid_auto_rows": null,
            "grid_column": null,
            "grid_gap": null,
            "grid_row": null,
            "grid_template_areas": null,
            "grid_template_columns": null,
            "grid_template_rows": null,
            "height": null,
            "justify_content": null,
            "justify_items": null,
            "left": null,
            "margin": null,
            "max_height": null,
            "max_width": null,
            "min_height": null,
            "min_width": null,
            "object_fit": null,
            "object_position": null,
            "order": null,
            "overflow": null,
            "overflow_x": null,
            "overflow_y": null,
            "padding": null,
            "right": null,
            "top": null,
            "visibility": null,
            "width": null
          }
        },
        "3f1a9498f94f4f1d9b6dd43d88b1f434": {
          "model_module": "@jupyter-widgets/controls",
          "model_name": "ProgressStyleModel",
          "model_module_version": "1.5.0",
          "state": {
            "_model_module": "@jupyter-widgets/controls",
            "_model_module_version": "1.5.0",
            "_model_name": "ProgressStyleModel",
            "_view_count": null,
            "_view_module": "@jupyter-widgets/base",
            "_view_module_version": "1.2.0",
            "_view_name": "StyleView",
            "bar_color": null,
            "description_width": ""
          }
        },
        "4a8bef11a5c04a06969b9d199f4e0d99": {
          "model_module": "@jupyter-widgets/base",
          "model_name": "LayoutModel",
          "model_module_version": "1.2.0",
          "state": {
            "_model_module": "@jupyter-widgets/base",
            "_model_module_version": "1.2.0",
            "_model_name": "LayoutModel",
            "_view_count": null,
            "_view_module": "@jupyter-widgets/base",
            "_view_module_version": "1.2.0",
            "_view_name": "LayoutView",
            "align_content": null,
            "align_items": null,
            "align_self": null,
            "border": null,
            "bottom": null,
            "display": null,
            "flex": null,
            "flex_flow": null,
            "grid_area": null,
            "grid_auto_columns": null,
            "grid_auto_flow": null,
            "grid_auto_rows": null,
            "grid_column": null,
            "grid_gap": null,
            "grid_row": null,
            "grid_template_areas": null,
            "grid_template_columns": null,
            "grid_template_rows": null,
            "height": null,
            "justify_content": null,
            "justify_items": null,
            "left": null,
            "margin": null,
            "max_height": null,
            "max_width": null,
            "min_height": null,
            "min_width": null,
            "object_fit": null,
            "object_position": null,
            "order": null,
            "overflow": null,
            "overflow_x": null,
            "overflow_y": null,
            "padding": null,
            "right": null,
            "top": null,
            "visibility": null,
            "width": null
          }
        },
        "f84843a0ff194363807da188755bd8f2": {
          "model_module": "@jupyter-widgets/controls",
          "model_name": "DescriptionStyleModel",
          "model_module_version": "1.5.0",
          "state": {
            "_model_module": "@jupyter-widgets/controls",
            "_model_module_version": "1.5.0",
            "_model_name": "DescriptionStyleModel",
            "_view_count": null,
            "_view_module": "@jupyter-widgets/base",
            "_view_module_version": "1.2.0",
            "_view_name": "StyleView",
            "description_width": ""
          }
        },
        "fdfa3dc0d6dd48be855a9c609d89bb6d": {
          "model_module": "@jupyter-widgets/controls",
          "model_name": "HBoxModel",
          "model_module_version": "1.5.0",
          "state": {
            "_dom_classes": [],
            "_model_module": "@jupyter-widgets/controls",
            "_model_module_version": "1.5.0",
            "_model_name": "HBoxModel",
            "_view_count": null,
            "_view_module": "@jupyter-widgets/controls",
            "_view_module_version": "1.5.0",
            "_view_name": "HBoxView",
            "box_style": "",
            "children": [
              "IPY_MODEL_3197c8cacc2440b396437622a5eb03ce",
              "IPY_MODEL_04b4625b27c04ed7981664e203a47b6c",
              "IPY_MODEL_92a751cd35c8403ab3f16ac7d5fa19b6"
            ],
            "layout": "IPY_MODEL_ee434327463c425dad653eb82d6d6d37"
          }
        },
        "3197c8cacc2440b396437622a5eb03ce": {
          "model_module": "@jupyter-widgets/controls",
          "model_name": "HTMLModel",
          "model_module_version": "1.5.0",
          "state": {
            "_dom_classes": [],
            "_model_module": "@jupyter-widgets/controls",
            "_model_module_version": "1.5.0",
            "_model_name": "HTMLModel",
            "_view_count": null,
            "_view_module": "@jupyter-widgets/controls",
            "_view_module_version": "1.5.0",
            "_view_name": "HTMLView",
            "description": "",
            "description_tooltip": null,
            "layout": "IPY_MODEL_ddad8628ffe14eb29cab0a6c25561cf1",
            "placeholder": "​",
            "style": "IPY_MODEL_3ceae5b86aa04a12a0021b91f0268e0c",
            "value": "Downloading (…)solve/main/vocab.txt: 100%"
          }
        },
        "04b4625b27c04ed7981664e203a47b6c": {
          "model_module": "@jupyter-widgets/controls",
          "model_name": "FloatProgressModel",
          "model_module_version": "1.5.0",
          "state": {
            "_dom_classes": [],
            "_model_module": "@jupyter-widgets/controls",
            "_model_module_version": "1.5.0",
            "_model_name": "FloatProgressModel",
            "_view_count": null,
            "_view_module": "@jupyter-widgets/controls",
            "_view_module_version": "1.5.0",
            "_view_name": "ProgressView",
            "bar_style": "success",
            "description": "",
            "description_tooltip": null,
            "layout": "IPY_MODEL_a4d656da25e64890aed08b19ff3f1287",
            "max": 231508,
            "min": 0,
            "orientation": "horizontal",
            "style": "IPY_MODEL_0d85cd48328642249cad79aa5ffaace4",
            "value": 231508
          }
        },
        "92a751cd35c8403ab3f16ac7d5fa19b6": {
          "model_module": "@jupyter-widgets/controls",
          "model_name": "HTMLModel",
          "model_module_version": "1.5.0",
          "state": {
            "_dom_classes": [],
            "_model_module": "@jupyter-widgets/controls",
            "_model_module_version": "1.5.0",
            "_model_name": "HTMLModel",
            "_view_count": null,
            "_view_module": "@jupyter-widgets/controls",
            "_view_module_version": "1.5.0",
            "_view_name": "HTMLView",
            "description": "",
            "description_tooltip": null,
            "layout": "IPY_MODEL_021e03f9d93e42408f53353f9ca05056",
            "placeholder": "​",
            "style": "IPY_MODEL_e445864804b84cf78a512e279c88d4d3",
            "value": " 232k/232k [00:00&lt;00:00, 1.47MB/s]"
          }
        },
        "ee434327463c425dad653eb82d6d6d37": {
          "model_module": "@jupyter-widgets/base",
          "model_name": "LayoutModel",
          "model_module_version": "1.2.0",
          "state": {
            "_model_module": "@jupyter-widgets/base",
            "_model_module_version": "1.2.0",
            "_model_name": "LayoutModel",
            "_view_count": null,
            "_view_module": "@jupyter-widgets/base",
            "_view_module_version": "1.2.0",
            "_view_name": "LayoutView",
            "align_content": null,
            "align_items": null,
            "align_self": null,
            "border": null,
            "bottom": null,
            "display": null,
            "flex": null,
            "flex_flow": null,
            "grid_area": null,
            "grid_auto_columns": null,
            "grid_auto_flow": null,
            "grid_auto_rows": null,
            "grid_column": null,
            "grid_gap": null,
            "grid_row": null,
            "grid_template_areas": null,
            "grid_template_columns": null,
            "grid_template_rows": null,
            "height": null,
            "justify_content": null,
            "justify_items": null,
            "left": null,
            "margin": null,
            "max_height": null,
            "max_width": null,
            "min_height": null,
            "min_width": null,
            "object_fit": null,
            "object_position": null,
            "order": null,
            "overflow": null,
            "overflow_x": null,
            "overflow_y": null,
            "padding": null,
            "right": null,
            "top": null,
            "visibility": null,
            "width": null
          }
        },
        "ddad8628ffe14eb29cab0a6c25561cf1": {
          "model_module": "@jupyter-widgets/base",
          "model_name": "LayoutModel",
          "model_module_version": "1.2.0",
          "state": {
            "_model_module": "@jupyter-widgets/base",
            "_model_module_version": "1.2.0",
            "_model_name": "LayoutModel",
            "_view_count": null,
            "_view_module": "@jupyter-widgets/base",
            "_view_module_version": "1.2.0",
            "_view_name": "LayoutView",
            "align_content": null,
            "align_items": null,
            "align_self": null,
            "border": null,
            "bottom": null,
            "display": null,
            "flex": null,
            "flex_flow": null,
            "grid_area": null,
            "grid_auto_columns": null,
            "grid_auto_flow": null,
            "grid_auto_rows": null,
            "grid_column": null,
            "grid_gap": null,
            "grid_row": null,
            "grid_template_areas": null,
            "grid_template_columns": null,
            "grid_template_rows": null,
            "height": null,
            "justify_content": null,
            "justify_items": null,
            "left": null,
            "margin": null,
            "max_height": null,
            "max_width": null,
            "min_height": null,
            "min_width": null,
            "object_fit": null,
            "object_position": null,
            "order": null,
            "overflow": null,
            "overflow_x": null,
            "overflow_y": null,
            "padding": null,
            "right": null,
            "top": null,
            "visibility": null,
            "width": null
          }
        },
        "3ceae5b86aa04a12a0021b91f0268e0c": {
          "model_module": "@jupyter-widgets/controls",
          "model_name": "DescriptionStyleModel",
          "model_module_version": "1.5.0",
          "state": {
            "_model_module": "@jupyter-widgets/controls",
            "_model_module_version": "1.5.0",
            "_model_name": "DescriptionStyleModel",
            "_view_count": null,
            "_view_module": "@jupyter-widgets/base",
            "_view_module_version": "1.2.0",
            "_view_name": "StyleView",
            "description_width": ""
          }
        },
        "a4d656da25e64890aed08b19ff3f1287": {
          "model_module": "@jupyter-widgets/base",
          "model_name": "LayoutModel",
          "model_module_version": "1.2.0",
          "state": {
            "_model_module": "@jupyter-widgets/base",
            "_model_module_version": "1.2.0",
            "_model_name": "LayoutModel",
            "_view_count": null,
            "_view_module": "@jupyter-widgets/base",
            "_view_module_version": "1.2.0",
            "_view_name": "LayoutView",
            "align_content": null,
            "align_items": null,
            "align_self": null,
            "border": null,
            "bottom": null,
            "display": null,
            "flex": null,
            "flex_flow": null,
            "grid_area": null,
            "grid_auto_columns": null,
            "grid_auto_flow": null,
            "grid_auto_rows": null,
            "grid_column": null,
            "grid_gap": null,
            "grid_row": null,
            "grid_template_areas": null,
            "grid_template_columns": null,
            "grid_template_rows": null,
            "height": null,
            "justify_content": null,
            "justify_items": null,
            "left": null,
            "margin": null,
            "max_height": null,
            "max_width": null,
            "min_height": null,
            "min_width": null,
            "object_fit": null,
            "object_position": null,
            "order": null,
            "overflow": null,
            "overflow_x": null,
            "overflow_y": null,
            "padding": null,
            "right": null,
            "top": null,
            "visibility": null,
            "width": null
          }
        },
        "0d85cd48328642249cad79aa5ffaace4": {
          "model_module": "@jupyter-widgets/controls",
          "model_name": "ProgressStyleModel",
          "model_module_version": "1.5.0",
          "state": {
            "_model_module": "@jupyter-widgets/controls",
            "_model_module_version": "1.5.0",
            "_model_name": "ProgressStyleModel",
            "_view_count": null,
            "_view_module": "@jupyter-widgets/base",
            "_view_module_version": "1.2.0",
            "_view_name": "StyleView",
            "bar_color": null,
            "description_width": ""
          }
        },
        "021e03f9d93e42408f53353f9ca05056": {
          "model_module": "@jupyter-widgets/base",
          "model_name": "LayoutModel",
          "model_module_version": "1.2.0",
          "state": {
            "_model_module": "@jupyter-widgets/base",
            "_model_module_version": "1.2.0",
            "_model_name": "LayoutModel",
            "_view_count": null,
            "_view_module": "@jupyter-widgets/base",
            "_view_module_version": "1.2.0",
            "_view_name": "LayoutView",
            "align_content": null,
            "align_items": null,
            "align_self": null,
            "border": null,
            "bottom": null,
            "display": null,
            "flex": null,
            "flex_flow": null,
            "grid_area": null,
            "grid_auto_columns": null,
            "grid_auto_flow": null,
            "grid_auto_rows": null,
            "grid_column": null,
            "grid_gap": null,
            "grid_row": null,
            "grid_template_areas": null,
            "grid_template_columns": null,
            "grid_template_rows": null,
            "height": null,
            "justify_content": null,
            "justify_items": null,
            "left": null,
            "margin": null,
            "max_height": null,
            "max_width": null,
            "min_height": null,
            "min_width": null,
            "object_fit": null,
            "object_position": null,
            "order": null,
            "overflow": null,
            "overflow_x": null,
            "overflow_y": null,
            "padding": null,
            "right": null,
            "top": null,
            "visibility": null,
            "width": null
          }
        },
        "e445864804b84cf78a512e279c88d4d3": {
          "model_module": "@jupyter-widgets/controls",
          "model_name": "DescriptionStyleModel",
          "model_module_version": "1.5.0",
          "state": {
            "_model_module": "@jupyter-widgets/controls",
            "_model_module_version": "1.5.0",
            "_model_name": "DescriptionStyleModel",
            "_view_count": null,
            "_view_module": "@jupyter-widgets/base",
            "_view_module_version": "1.2.0",
            "_view_name": "StyleView",
            "description_width": ""
          }
        },
        "10ba10a250514273afb7628ecd6ad0ba": {
          "model_module": "@jupyter-widgets/controls",
          "model_name": "HBoxModel",
          "model_module_version": "1.5.0",
          "state": {
            "_dom_classes": [],
            "_model_module": "@jupyter-widgets/controls",
            "_model_module_version": "1.5.0",
            "_model_name": "HBoxModel",
            "_view_count": null,
            "_view_module": "@jupyter-widgets/controls",
            "_view_module_version": "1.5.0",
            "_view_name": "HBoxView",
            "box_style": "",
            "children": [
              "IPY_MODEL_d22adfb4206648ac9f3c8bc505b43d9d",
              "IPY_MODEL_9dc748db457f4b93bc5b8d4654dc4570",
              "IPY_MODEL_e5085058747d43aaaa6bc5d1e9e90cf7"
            ],
            "layout": "IPY_MODEL_1718c90fd042475ab5af9a9de506b2ff"
          }
        },
        "d22adfb4206648ac9f3c8bc505b43d9d": {
          "model_module": "@jupyter-widgets/controls",
          "model_name": "HTMLModel",
          "model_module_version": "1.5.0",
          "state": {
            "_dom_classes": [],
            "_model_module": "@jupyter-widgets/controls",
            "_model_module_version": "1.5.0",
            "_model_name": "HTMLModel",
            "_view_count": null,
            "_view_module": "@jupyter-widgets/controls",
            "_view_module_version": "1.5.0",
            "_view_name": "HTMLView",
            "description": "",
            "description_tooltip": null,
            "layout": "IPY_MODEL_608e410a1c6043638e1d6100ffa93206",
            "placeholder": "​",
            "style": "IPY_MODEL_a9c2e7afb5a94b03a26a1b740ad9a535",
            "value": "Downloading (…)okenizer_config.json: 100%"
          }
        },
        "9dc748db457f4b93bc5b8d4654dc4570": {
          "model_module": "@jupyter-widgets/controls",
          "model_name": "FloatProgressModel",
          "model_module_version": "1.5.0",
          "state": {
            "_dom_classes": [],
            "_model_module": "@jupyter-widgets/controls",
            "_model_module_version": "1.5.0",
            "_model_name": "FloatProgressModel",
            "_view_count": null,
            "_view_module": "@jupyter-widgets/controls",
            "_view_module_version": "1.5.0",
            "_view_name": "ProgressView",
            "bar_style": "success",
            "description": "",
            "description_tooltip": null,
            "layout": "IPY_MODEL_82a2c9ea2a2341efabbf3087240192c2",
            "max": 28,
            "min": 0,
            "orientation": "horizontal",
            "style": "IPY_MODEL_f70399c02e224592ba4d5708c9e477e1",
            "value": 28
          }
        },
        "e5085058747d43aaaa6bc5d1e9e90cf7": {
          "model_module": "@jupyter-widgets/controls",
          "model_name": "HTMLModel",
          "model_module_version": "1.5.0",
          "state": {
            "_dom_classes": [],
            "_model_module": "@jupyter-widgets/controls",
            "_model_module_version": "1.5.0",
            "_model_name": "HTMLModel",
            "_view_count": null,
            "_view_module": "@jupyter-widgets/controls",
            "_view_module_version": "1.5.0",
            "_view_name": "HTMLView",
            "description": "",
            "description_tooltip": null,
            "layout": "IPY_MODEL_60252eb7cc464f75bdb7c6f260e61c2c",
            "placeholder": "​",
            "style": "IPY_MODEL_b182d65daff94f69941433046ca78dca",
            "value": " 28.0/28.0 [00:00&lt;00:00, 1.53kB/s]"
          }
        },
        "1718c90fd042475ab5af9a9de506b2ff": {
          "model_module": "@jupyter-widgets/base",
          "model_name": "LayoutModel",
          "model_module_version": "1.2.0",
          "state": {
            "_model_module": "@jupyter-widgets/base",
            "_model_module_version": "1.2.0",
            "_model_name": "LayoutModel",
            "_view_count": null,
            "_view_module": "@jupyter-widgets/base",
            "_view_module_version": "1.2.0",
            "_view_name": "LayoutView",
            "align_content": null,
            "align_items": null,
            "align_self": null,
            "border": null,
            "bottom": null,
            "display": null,
            "flex": null,
            "flex_flow": null,
            "grid_area": null,
            "grid_auto_columns": null,
            "grid_auto_flow": null,
            "grid_auto_rows": null,
            "grid_column": null,
            "grid_gap": null,
            "grid_row": null,
            "grid_template_areas": null,
            "grid_template_columns": null,
            "grid_template_rows": null,
            "height": null,
            "justify_content": null,
            "justify_items": null,
            "left": null,
            "margin": null,
            "max_height": null,
            "max_width": null,
            "min_height": null,
            "min_width": null,
            "object_fit": null,
            "object_position": null,
            "order": null,
            "overflow": null,
            "overflow_x": null,
            "overflow_y": null,
            "padding": null,
            "right": null,
            "top": null,
            "visibility": null,
            "width": null
          }
        },
        "608e410a1c6043638e1d6100ffa93206": {
          "model_module": "@jupyter-widgets/base",
          "model_name": "LayoutModel",
          "model_module_version": "1.2.0",
          "state": {
            "_model_module": "@jupyter-widgets/base",
            "_model_module_version": "1.2.0",
            "_model_name": "LayoutModel",
            "_view_count": null,
            "_view_module": "@jupyter-widgets/base",
            "_view_module_version": "1.2.0",
            "_view_name": "LayoutView",
            "align_content": null,
            "align_items": null,
            "align_self": null,
            "border": null,
            "bottom": null,
            "display": null,
            "flex": null,
            "flex_flow": null,
            "grid_area": null,
            "grid_auto_columns": null,
            "grid_auto_flow": null,
            "grid_auto_rows": null,
            "grid_column": null,
            "grid_gap": null,
            "grid_row": null,
            "grid_template_areas": null,
            "grid_template_columns": null,
            "grid_template_rows": null,
            "height": null,
            "justify_content": null,
            "justify_items": null,
            "left": null,
            "margin": null,
            "max_height": null,
            "max_width": null,
            "min_height": null,
            "min_width": null,
            "object_fit": null,
            "object_position": null,
            "order": null,
            "overflow": null,
            "overflow_x": null,
            "overflow_y": null,
            "padding": null,
            "right": null,
            "top": null,
            "visibility": null,
            "width": null
          }
        },
        "a9c2e7afb5a94b03a26a1b740ad9a535": {
          "model_module": "@jupyter-widgets/controls",
          "model_name": "DescriptionStyleModel",
          "model_module_version": "1.5.0",
          "state": {
            "_model_module": "@jupyter-widgets/controls",
            "_model_module_version": "1.5.0",
            "_model_name": "DescriptionStyleModel",
            "_view_count": null,
            "_view_module": "@jupyter-widgets/base",
            "_view_module_version": "1.2.0",
            "_view_name": "StyleView",
            "description_width": ""
          }
        },
        "82a2c9ea2a2341efabbf3087240192c2": {
          "model_module": "@jupyter-widgets/base",
          "model_name": "LayoutModel",
          "model_module_version": "1.2.0",
          "state": {
            "_model_module": "@jupyter-widgets/base",
            "_model_module_version": "1.2.0",
            "_model_name": "LayoutModel",
            "_view_count": null,
            "_view_module": "@jupyter-widgets/base",
            "_view_module_version": "1.2.0",
            "_view_name": "LayoutView",
            "align_content": null,
            "align_items": null,
            "align_self": null,
            "border": null,
            "bottom": null,
            "display": null,
            "flex": null,
            "flex_flow": null,
            "grid_area": null,
            "grid_auto_columns": null,
            "grid_auto_flow": null,
            "grid_auto_rows": null,
            "grid_column": null,
            "grid_gap": null,
            "grid_row": null,
            "grid_template_areas": null,
            "grid_template_columns": null,
            "grid_template_rows": null,
            "height": null,
            "justify_content": null,
            "justify_items": null,
            "left": null,
            "margin": null,
            "max_height": null,
            "max_width": null,
            "min_height": null,
            "min_width": null,
            "object_fit": null,
            "object_position": null,
            "order": null,
            "overflow": null,
            "overflow_x": null,
            "overflow_y": null,
            "padding": null,
            "right": null,
            "top": null,
            "visibility": null,
            "width": null
          }
        },
        "f70399c02e224592ba4d5708c9e477e1": {
          "model_module": "@jupyter-widgets/controls",
          "model_name": "ProgressStyleModel",
          "model_module_version": "1.5.0",
          "state": {
            "_model_module": "@jupyter-widgets/controls",
            "_model_module_version": "1.5.0",
            "_model_name": "ProgressStyleModel",
            "_view_count": null,
            "_view_module": "@jupyter-widgets/base",
            "_view_module_version": "1.2.0",
            "_view_name": "StyleView",
            "bar_color": null,
            "description_width": ""
          }
        },
        "60252eb7cc464f75bdb7c6f260e61c2c": {
          "model_module": "@jupyter-widgets/base",
          "model_name": "LayoutModel",
          "model_module_version": "1.2.0",
          "state": {
            "_model_module": "@jupyter-widgets/base",
            "_model_module_version": "1.2.0",
            "_model_name": "LayoutModel",
            "_view_count": null,
            "_view_module": "@jupyter-widgets/base",
            "_view_module_version": "1.2.0",
            "_view_name": "LayoutView",
            "align_content": null,
            "align_items": null,
            "align_self": null,
            "border": null,
            "bottom": null,
            "display": null,
            "flex": null,
            "flex_flow": null,
            "grid_area": null,
            "grid_auto_columns": null,
            "grid_auto_flow": null,
            "grid_auto_rows": null,
            "grid_column": null,
            "grid_gap": null,
            "grid_row": null,
            "grid_template_areas": null,
            "grid_template_columns": null,
            "grid_template_rows": null,
            "height": null,
            "justify_content": null,
            "justify_items": null,
            "left": null,
            "margin": null,
            "max_height": null,
            "max_width": null,
            "min_height": null,
            "min_width": null,
            "object_fit": null,
            "object_position": null,
            "order": null,
            "overflow": null,
            "overflow_x": null,
            "overflow_y": null,
            "padding": null,
            "right": null,
            "top": null,
            "visibility": null,
            "width": null
          }
        },
        "b182d65daff94f69941433046ca78dca": {
          "model_module": "@jupyter-widgets/controls",
          "model_name": "DescriptionStyleModel",
          "model_module_version": "1.5.0",
          "state": {
            "_model_module": "@jupyter-widgets/controls",
            "_model_module_version": "1.5.0",
            "_model_name": "DescriptionStyleModel",
            "_view_count": null,
            "_view_module": "@jupyter-widgets/base",
            "_view_module_version": "1.2.0",
            "_view_name": "StyleView",
            "description_width": ""
          }
        },
        "a04f2aa123af40ffb08067ed07fda960": {
          "model_module": "@jupyter-widgets/controls",
          "model_name": "HBoxModel",
          "model_module_version": "1.5.0",
          "state": {
            "_dom_classes": [],
            "_model_module": "@jupyter-widgets/controls",
            "_model_module_version": "1.5.0",
            "_model_name": "HBoxModel",
            "_view_count": null,
            "_view_module": "@jupyter-widgets/controls",
            "_view_module_version": "1.5.0",
            "_view_name": "HBoxView",
            "box_style": "",
            "children": [
              "IPY_MODEL_60e64b5dc7ab4ccc92bcb8d80226cf47",
              "IPY_MODEL_d8682dc664b944efafc1994d64f9ca5e",
              "IPY_MODEL_4bbf243b02e045d69776ff975a7c2d49"
            ],
            "layout": "IPY_MODEL_c89a40730f0f4109aa1664eb15df4517"
          }
        },
        "60e64b5dc7ab4ccc92bcb8d80226cf47": {
          "model_module": "@jupyter-widgets/controls",
          "model_name": "HTMLModel",
          "model_module_version": "1.5.0",
          "state": {
            "_dom_classes": [],
            "_model_module": "@jupyter-widgets/controls",
            "_model_module_version": "1.5.0",
            "_model_name": "HTMLModel",
            "_view_count": null,
            "_view_module": "@jupyter-widgets/controls",
            "_view_module_version": "1.5.0",
            "_view_name": "HTMLView",
            "description": "",
            "description_tooltip": null,
            "layout": "IPY_MODEL_84dfeaaf27534e55b42544e65d098b60",
            "placeholder": "​",
            "style": "IPY_MODEL_ef59d1580c4844a8b673c187a31f6b67",
            "value": "Downloading (…)lve/main/config.json: 100%"
          }
        },
        "d8682dc664b944efafc1994d64f9ca5e": {
          "model_module": "@jupyter-widgets/controls",
          "model_name": "FloatProgressModel",
          "model_module_version": "1.5.0",
          "state": {
            "_dom_classes": [],
            "_model_module": "@jupyter-widgets/controls",
            "_model_module_version": "1.5.0",
            "_model_name": "FloatProgressModel",
            "_view_count": null,
            "_view_module": "@jupyter-widgets/controls",
            "_view_module_version": "1.5.0",
            "_view_name": "ProgressView",
            "bar_style": "success",
            "description": "",
            "description_tooltip": null,
            "layout": "IPY_MODEL_c016106c94b648a889c457fb71d27fd5",
            "max": 483,
            "min": 0,
            "orientation": "horizontal",
            "style": "IPY_MODEL_76d4e748fe8644dc8ed2d7ef818a45b4",
            "value": 483
          }
        },
        "4bbf243b02e045d69776ff975a7c2d49": {
          "model_module": "@jupyter-widgets/controls",
          "model_name": "HTMLModel",
          "model_module_version": "1.5.0",
          "state": {
            "_dom_classes": [],
            "_model_module": "@jupyter-widgets/controls",
            "_model_module_version": "1.5.0",
            "_model_name": "HTMLModel",
            "_view_count": null,
            "_view_module": "@jupyter-widgets/controls",
            "_view_module_version": "1.5.0",
            "_view_name": "HTMLView",
            "description": "",
            "description_tooltip": null,
            "layout": "IPY_MODEL_7bff79ffb9bc46eaad9cb643db302068",
            "placeholder": "​",
            "style": "IPY_MODEL_e34421490eea45d3a0d02dd07e07f388",
            "value": " 483/483 [00:00&lt;00:00, 32.3kB/s]"
          }
        },
        "c89a40730f0f4109aa1664eb15df4517": {
          "model_module": "@jupyter-widgets/base",
          "model_name": "LayoutModel",
          "model_module_version": "1.2.0",
          "state": {
            "_model_module": "@jupyter-widgets/base",
            "_model_module_version": "1.2.0",
            "_model_name": "LayoutModel",
            "_view_count": null,
            "_view_module": "@jupyter-widgets/base",
            "_view_module_version": "1.2.0",
            "_view_name": "LayoutView",
            "align_content": null,
            "align_items": null,
            "align_self": null,
            "border": null,
            "bottom": null,
            "display": null,
            "flex": null,
            "flex_flow": null,
            "grid_area": null,
            "grid_auto_columns": null,
            "grid_auto_flow": null,
            "grid_auto_rows": null,
            "grid_column": null,
            "grid_gap": null,
            "grid_row": null,
            "grid_template_areas": null,
            "grid_template_columns": null,
            "grid_template_rows": null,
            "height": null,
            "justify_content": null,
            "justify_items": null,
            "left": null,
            "margin": null,
            "max_height": null,
            "max_width": null,
            "min_height": null,
            "min_width": null,
            "object_fit": null,
            "object_position": null,
            "order": null,
            "overflow": null,
            "overflow_x": null,
            "overflow_y": null,
            "padding": null,
            "right": null,
            "top": null,
            "visibility": null,
            "width": null
          }
        },
        "84dfeaaf27534e55b42544e65d098b60": {
          "model_module": "@jupyter-widgets/base",
          "model_name": "LayoutModel",
          "model_module_version": "1.2.0",
          "state": {
            "_model_module": "@jupyter-widgets/base",
            "_model_module_version": "1.2.0",
            "_model_name": "LayoutModel",
            "_view_count": null,
            "_view_module": "@jupyter-widgets/base",
            "_view_module_version": "1.2.0",
            "_view_name": "LayoutView",
            "align_content": null,
            "align_items": null,
            "align_self": null,
            "border": null,
            "bottom": null,
            "display": null,
            "flex": null,
            "flex_flow": null,
            "grid_area": null,
            "grid_auto_columns": null,
            "grid_auto_flow": null,
            "grid_auto_rows": null,
            "grid_column": null,
            "grid_gap": null,
            "grid_row": null,
            "grid_template_areas": null,
            "grid_template_columns": null,
            "grid_template_rows": null,
            "height": null,
            "justify_content": null,
            "justify_items": null,
            "left": null,
            "margin": null,
            "max_height": null,
            "max_width": null,
            "min_height": null,
            "min_width": null,
            "object_fit": null,
            "object_position": null,
            "order": null,
            "overflow": null,
            "overflow_x": null,
            "overflow_y": null,
            "padding": null,
            "right": null,
            "top": null,
            "visibility": null,
            "width": null
          }
        },
        "ef59d1580c4844a8b673c187a31f6b67": {
          "model_module": "@jupyter-widgets/controls",
          "model_name": "DescriptionStyleModel",
          "model_module_version": "1.5.0",
          "state": {
            "_model_module": "@jupyter-widgets/controls",
            "_model_module_version": "1.5.0",
            "_model_name": "DescriptionStyleModel",
            "_view_count": null,
            "_view_module": "@jupyter-widgets/base",
            "_view_module_version": "1.2.0",
            "_view_name": "StyleView",
            "description_width": ""
          }
        },
        "c016106c94b648a889c457fb71d27fd5": {
          "model_module": "@jupyter-widgets/base",
          "model_name": "LayoutModel",
          "model_module_version": "1.2.0",
          "state": {
            "_model_module": "@jupyter-widgets/base",
            "_model_module_version": "1.2.0",
            "_model_name": "LayoutModel",
            "_view_count": null,
            "_view_module": "@jupyter-widgets/base",
            "_view_module_version": "1.2.0",
            "_view_name": "LayoutView",
            "align_content": null,
            "align_items": null,
            "align_self": null,
            "border": null,
            "bottom": null,
            "display": null,
            "flex": null,
            "flex_flow": null,
            "grid_area": null,
            "grid_auto_columns": null,
            "grid_auto_flow": null,
            "grid_auto_rows": null,
            "grid_column": null,
            "grid_gap": null,
            "grid_row": null,
            "grid_template_areas": null,
            "grid_template_columns": null,
            "grid_template_rows": null,
            "height": null,
            "justify_content": null,
            "justify_items": null,
            "left": null,
            "margin": null,
            "max_height": null,
            "max_width": null,
            "min_height": null,
            "min_width": null,
            "object_fit": null,
            "object_position": null,
            "order": null,
            "overflow": null,
            "overflow_x": null,
            "overflow_y": null,
            "padding": null,
            "right": null,
            "top": null,
            "visibility": null,
            "width": null
          }
        },
        "76d4e748fe8644dc8ed2d7ef818a45b4": {
          "model_module": "@jupyter-widgets/controls",
          "model_name": "ProgressStyleModel",
          "model_module_version": "1.5.0",
          "state": {
            "_model_module": "@jupyter-widgets/controls",
            "_model_module_version": "1.5.0",
            "_model_name": "ProgressStyleModel",
            "_view_count": null,
            "_view_module": "@jupyter-widgets/base",
            "_view_module_version": "1.2.0",
            "_view_name": "StyleView",
            "bar_color": null,
            "description_width": ""
          }
        },
        "7bff79ffb9bc46eaad9cb643db302068": {
          "model_module": "@jupyter-widgets/base",
          "model_name": "LayoutModel",
          "model_module_version": "1.2.0",
          "state": {
            "_model_module": "@jupyter-widgets/base",
            "_model_module_version": "1.2.0",
            "_model_name": "LayoutModel",
            "_view_count": null,
            "_view_module": "@jupyter-widgets/base",
            "_view_module_version": "1.2.0",
            "_view_name": "LayoutView",
            "align_content": null,
            "align_items": null,
            "align_self": null,
            "border": null,
            "bottom": null,
            "display": null,
            "flex": null,
            "flex_flow": null,
            "grid_area": null,
            "grid_auto_columns": null,
            "grid_auto_flow": null,
            "grid_auto_rows": null,
            "grid_column": null,
            "grid_gap": null,
            "grid_row": null,
            "grid_template_areas": null,
            "grid_template_columns": null,
            "grid_template_rows": null,
            "height": null,
            "justify_content": null,
            "justify_items": null,
            "left": null,
            "margin": null,
            "max_height": null,
            "max_width": null,
            "min_height": null,
            "min_width": null,
            "object_fit": null,
            "object_position": null,
            "order": null,
            "overflow": null,
            "overflow_x": null,
            "overflow_y": null,
            "padding": null,
            "right": null,
            "top": null,
            "visibility": null,
            "width": null
          }
        },
        "e34421490eea45d3a0d02dd07e07f388": {
          "model_module": "@jupyter-widgets/controls",
          "model_name": "DescriptionStyleModel",
          "model_module_version": "1.5.0",
          "state": {
            "_model_module": "@jupyter-widgets/controls",
            "_model_module_version": "1.5.0",
            "_model_name": "DescriptionStyleModel",
            "_view_count": null,
            "_view_module": "@jupyter-widgets/base",
            "_view_module_version": "1.2.0",
            "_view_name": "StyleView",
            "description_width": ""
          }
        },
        "da2b5647a42d4b3c88814cf6788aee7e": {
          "model_module": "@jupyter-widgets/controls",
          "model_name": "HBoxModel",
          "model_module_version": "1.5.0",
          "state": {
            "_dom_classes": [],
            "_model_module": "@jupyter-widgets/controls",
            "_model_module_version": "1.5.0",
            "_model_name": "HBoxModel",
            "_view_count": null,
            "_view_module": "@jupyter-widgets/controls",
            "_view_module_version": "1.5.0",
            "_view_name": "HBoxView",
            "box_style": "",
            "children": [
              "IPY_MODEL_4187fda5c7fb4ccabf0561404a4e2caa",
              "IPY_MODEL_f276223700654fc1a486ab839760f31a",
              "IPY_MODEL_54580fa0880045c39cf9a9f464ce2e09"
            ],
            "layout": "IPY_MODEL_cf956f43244543f98f8c3d837032f3da"
          }
        },
        "4187fda5c7fb4ccabf0561404a4e2caa": {
          "model_module": "@jupyter-widgets/controls",
          "model_name": "HTMLModel",
          "model_module_version": "1.5.0",
          "state": {
            "_dom_classes": [],
            "_model_module": "@jupyter-widgets/controls",
            "_model_module_version": "1.5.0",
            "_model_name": "HTMLModel",
            "_view_count": null,
            "_view_module": "@jupyter-widgets/controls",
            "_view_module_version": "1.5.0",
            "_view_name": "HTMLView",
            "description": "",
            "description_tooltip": null,
            "layout": "IPY_MODEL_da9a2a98e968429fa3a2a6211e5eb68f",
            "placeholder": "​",
            "style": "IPY_MODEL_84157da0fcf44a7b9c9f8c5056c37b2c",
            "value": "Downloading tf_model.h5: 100%"
          }
        },
        "f276223700654fc1a486ab839760f31a": {
          "model_module": "@jupyter-widgets/controls",
          "model_name": "FloatProgressModel",
          "model_module_version": "1.5.0",
          "state": {
            "_dom_classes": [],
            "_model_module": "@jupyter-widgets/controls",
            "_model_module_version": "1.5.0",
            "_model_name": "FloatProgressModel",
            "_view_count": null,
            "_view_module": "@jupyter-widgets/controls",
            "_view_module_version": "1.5.0",
            "_view_name": "ProgressView",
            "bar_style": "success",
            "description": "",
            "description_tooltip": null,
            "layout": "IPY_MODEL_f9a1b9db06c645df8c1d5524f5df7f0b",
            "max": 363423424,
            "min": 0,
            "orientation": "horizontal",
            "style": "IPY_MODEL_e7d3d0be9bd24a3c9226e4bdc3e857af",
            "value": 363423424
          }
        },
        "54580fa0880045c39cf9a9f464ce2e09": {
          "model_module": "@jupyter-widgets/controls",
          "model_name": "HTMLModel",
          "model_module_version": "1.5.0",
          "state": {
            "_dom_classes": [],
            "_model_module": "@jupyter-widgets/controls",
            "_model_module_version": "1.5.0",
            "_model_name": "HTMLModel",
            "_view_count": null,
            "_view_module": "@jupyter-widgets/controls",
            "_view_module_version": "1.5.0",
            "_view_name": "HTMLView",
            "description": "",
            "description_tooltip": null,
            "layout": "IPY_MODEL_a30356a322cb4efab5b4dc95117cd26a",
            "placeholder": "​",
            "style": "IPY_MODEL_553ed6e899b54107a28648b8c44d224b",
            "value": " 363M/363M [00:05&lt;00:00, 42.0MB/s]"
          }
        },
        "cf956f43244543f98f8c3d837032f3da": {
          "model_module": "@jupyter-widgets/base",
          "model_name": "LayoutModel",
          "model_module_version": "1.2.0",
          "state": {
            "_model_module": "@jupyter-widgets/base",
            "_model_module_version": "1.2.0",
            "_model_name": "LayoutModel",
            "_view_count": null,
            "_view_module": "@jupyter-widgets/base",
            "_view_module_version": "1.2.0",
            "_view_name": "LayoutView",
            "align_content": null,
            "align_items": null,
            "align_self": null,
            "border": null,
            "bottom": null,
            "display": null,
            "flex": null,
            "flex_flow": null,
            "grid_area": null,
            "grid_auto_columns": null,
            "grid_auto_flow": null,
            "grid_auto_rows": null,
            "grid_column": null,
            "grid_gap": null,
            "grid_row": null,
            "grid_template_areas": null,
            "grid_template_columns": null,
            "grid_template_rows": null,
            "height": null,
            "justify_content": null,
            "justify_items": null,
            "left": null,
            "margin": null,
            "max_height": null,
            "max_width": null,
            "min_height": null,
            "min_width": null,
            "object_fit": null,
            "object_position": null,
            "order": null,
            "overflow": null,
            "overflow_x": null,
            "overflow_y": null,
            "padding": null,
            "right": null,
            "top": null,
            "visibility": null,
            "width": null
          }
        },
        "da9a2a98e968429fa3a2a6211e5eb68f": {
          "model_module": "@jupyter-widgets/base",
          "model_name": "LayoutModel",
          "model_module_version": "1.2.0",
          "state": {
            "_model_module": "@jupyter-widgets/base",
            "_model_module_version": "1.2.0",
            "_model_name": "LayoutModel",
            "_view_count": null,
            "_view_module": "@jupyter-widgets/base",
            "_view_module_version": "1.2.0",
            "_view_name": "LayoutView",
            "align_content": null,
            "align_items": null,
            "align_self": null,
            "border": null,
            "bottom": null,
            "display": null,
            "flex": null,
            "flex_flow": null,
            "grid_area": null,
            "grid_auto_columns": null,
            "grid_auto_flow": null,
            "grid_auto_rows": null,
            "grid_column": null,
            "grid_gap": null,
            "grid_row": null,
            "grid_template_areas": null,
            "grid_template_columns": null,
            "grid_template_rows": null,
            "height": null,
            "justify_content": null,
            "justify_items": null,
            "left": null,
            "margin": null,
            "max_height": null,
            "max_width": null,
            "min_height": null,
            "min_width": null,
            "object_fit": null,
            "object_position": null,
            "order": null,
            "overflow": null,
            "overflow_x": null,
            "overflow_y": null,
            "padding": null,
            "right": null,
            "top": null,
            "visibility": null,
            "width": null
          }
        },
        "84157da0fcf44a7b9c9f8c5056c37b2c": {
          "model_module": "@jupyter-widgets/controls",
          "model_name": "DescriptionStyleModel",
          "model_module_version": "1.5.0",
          "state": {
            "_model_module": "@jupyter-widgets/controls",
            "_model_module_version": "1.5.0",
            "_model_name": "DescriptionStyleModel",
            "_view_count": null,
            "_view_module": "@jupyter-widgets/base",
            "_view_module_version": "1.2.0",
            "_view_name": "StyleView",
            "description_width": ""
          }
        },
        "f9a1b9db06c645df8c1d5524f5df7f0b": {
          "model_module": "@jupyter-widgets/base",
          "model_name": "LayoutModel",
          "model_module_version": "1.2.0",
          "state": {
            "_model_module": "@jupyter-widgets/base",
            "_model_module_version": "1.2.0",
            "_model_name": "LayoutModel",
            "_view_count": null,
            "_view_module": "@jupyter-widgets/base",
            "_view_module_version": "1.2.0",
            "_view_name": "LayoutView",
            "align_content": null,
            "align_items": null,
            "align_self": null,
            "border": null,
            "bottom": null,
            "display": null,
            "flex": null,
            "flex_flow": null,
            "grid_area": null,
            "grid_auto_columns": null,
            "grid_auto_flow": null,
            "grid_auto_rows": null,
            "grid_column": null,
            "grid_gap": null,
            "grid_row": null,
            "grid_template_areas": null,
            "grid_template_columns": null,
            "grid_template_rows": null,
            "height": null,
            "justify_content": null,
            "justify_items": null,
            "left": null,
            "margin": null,
            "max_height": null,
            "max_width": null,
            "min_height": null,
            "min_width": null,
            "object_fit": null,
            "object_position": null,
            "order": null,
            "overflow": null,
            "overflow_x": null,
            "overflow_y": null,
            "padding": null,
            "right": null,
            "top": null,
            "visibility": null,
            "width": null
          }
        },
        "e7d3d0be9bd24a3c9226e4bdc3e857af": {
          "model_module": "@jupyter-widgets/controls",
          "model_name": "ProgressStyleModel",
          "model_module_version": "1.5.0",
          "state": {
            "_model_module": "@jupyter-widgets/controls",
            "_model_module_version": "1.5.0",
            "_model_name": "ProgressStyleModel",
            "_view_count": null,
            "_view_module": "@jupyter-widgets/base",
            "_view_module_version": "1.2.0",
            "_view_name": "StyleView",
            "bar_color": null,
            "description_width": ""
          }
        },
        "a30356a322cb4efab5b4dc95117cd26a": {
          "model_module": "@jupyter-widgets/base",
          "model_name": "LayoutModel",
          "model_module_version": "1.2.0",
          "state": {
            "_model_module": "@jupyter-widgets/base",
            "_model_module_version": "1.2.0",
            "_model_name": "LayoutModel",
            "_view_count": null,
            "_view_module": "@jupyter-widgets/base",
            "_view_module_version": "1.2.0",
            "_view_name": "LayoutView",
            "align_content": null,
            "align_items": null,
            "align_self": null,
            "border": null,
            "bottom": null,
            "display": null,
            "flex": null,
            "flex_flow": null,
            "grid_area": null,
            "grid_auto_columns": null,
            "grid_auto_flow": null,
            "grid_auto_rows": null,
            "grid_column": null,
            "grid_gap": null,
            "grid_row": null,
            "grid_template_areas": null,
            "grid_template_columns": null,
            "grid_template_rows": null,
            "height": null,
            "justify_content": null,
            "justify_items": null,
            "left": null,
            "margin": null,
            "max_height": null,
            "max_width": null,
            "min_height": null,
            "min_width": null,
            "object_fit": null,
            "object_position": null,
            "order": null,
            "overflow": null,
            "overflow_x": null,
            "overflow_y": null,
            "padding": null,
            "right": null,
            "top": null,
            "visibility": null,
            "width": null
          }
        },
        "553ed6e899b54107a28648b8c44d224b": {
          "model_module": "@jupyter-widgets/controls",
          "model_name": "DescriptionStyleModel",
          "model_module_version": "1.5.0",
          "state": {
            "_model_module": "@jupyter-widgets/controls",
            "_model_module_version": "1.5.0",
            "_model_name": "DescriptionStyleModel",
            "_view_count": null,
            "_view_module": "@jupyter-widgets/base",
            "_view_module_version": "1.2.0",
            "_view_name": "StyleView",
            "description_width": ""
          }
        }
      }
    }
  },
  "nbformat": 4,
  "nbformat_minor": 0
}