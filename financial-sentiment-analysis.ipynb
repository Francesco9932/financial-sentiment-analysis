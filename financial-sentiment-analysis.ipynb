{
  "cells": [
    {
      "attachments": {},
      "cell_type": "markdown",
      "metadata": {},
      "source": [
        "# Google colab commands"
      ]
    },
    {
      "cell_type": "code",
      "execution_count": 1,
      "metadata": {
        "colab": {
          "base_uri": "https://localhost:8080/"
        },
        "id": "u74sT_sz2-Lm",
        "outputId": "e990ba55-0532-47df-da2e-e72ab1d662aa"
      },
      "outputs": [],
      "source": [
        "# !git clone https://github.com/Francesco9932/financial-sentiment-analysis"
      ]
    },
    {
      "cell_type": "code",
      "execution_count": 2,
      "metadata": {
        "colab": {
          "base_uri": "https://localhost:8080/"
        },
        "id": "tAah7XGk3fcD",
        "outputId": "3d2df4ac-017c-4f41-966b-5d799b803a2b"
      },
      "outputs": [],
      "source": [
        "# %cd financial-sentiment-analysis/"
      ]
    },
    {
      "cell_type": "code",
      "execution_count": 3,
      "metadata": {},
      "outputs": [],
      "source": [
        "# !unzip glove.6B.200d.txt.zip"
      ]
    },
    {
      "attachments": {},
      "cell_type": "markdown",
      "metadata": {},
      "source": [
        "# Import"
      ]
    },
    {
      "cell_type": "code",
      "execution_count": 4,
      "metadata": {
        "id": "9UHwVbQ72Yjh"
      },
      "outputs": [
        {
          "name": "stderr",
          "output_type": "stream",
          "text": [
            "[nltk_data] Downloading package stopwords to\n",
            "[nltk_data]     /home/francesco/nltk_data...\n",
            "[nltk_data]   Package stopwords is already up-to-date!\n",
            "/home/francesco/.local/lib/python3.10/site-packages/tqdm/auto.py:21: TqdmWarning: IProgress not found. Please update jupyter and ipywidgets. See https://ipywidgets.readthedocs.io/en/stable/user_install.html\n",
            "  from .autonotebook import tqdm as notebook_tqdm\n",
            "2023-04-23 19:23:38.217970: I tensorflow/core/util/port.cc:110] oneDNN custom operations are on. You may see slightly different numerical results due to floating-point round-off errors from different computation orders. To turn them off, set the environment variable `TF_ENABLE_ONEDNN_OPTS=0`.\n",
            "2023-04-23 19:23:38.259345: I tensorflow/core/platform/cpu_feature_guard.cc:182] This TensorFlow binary is optimized to use available CPU instructions in performance-critical operations.\n",
            "To enable the following instructions: AVX2 AVX512F AVX512_VNNI FMA, in other operations, rebuild TensorFlow with the appropriate compiler flags.\n",
            "2023-04-23 19:23:38.820114: W tensorflow/compiler/tf2tensorrt/utils/py_utils.cc:38] TF-TRT Warning: Could not find TensorRT\n"
          ]
        }
      ],
      "source": [
        "import pandas as pd\n",
        "import numpy as np\n",
        "\n",
        "# pre-processing\n",
        "from sklearn.preprocessing import LabelEncoder\n",
        "from nltk.stem.porter import *\n",
        "from nltk.corpus import stopwords\n",
        "import re\n",
        "import nltk \n",
        "nltk.download(\"stopwords\")\n",
        "\n",
        "from transformers import BertTokenizer\n",
        "from transformers import TFBertModel\n",
        "import tensorflow as tf\n",
        "from keras.utils import pad_sequences\n",
        "from keras.preprocessing.text import Tokenizer\n",
        "from keras.callbacks import EarlyStopping\n",
        "from keras.callbacks import ModelCheckpoint\n",
        "from keras.models import load_model\n",
        "\n",
        "from sklearn.model_selection import train_test_split\n",
        "from sklearn.metrics import classification_report"
      ]
    },
    {
      "attachments": {},
      "cell_type": "markdown",
      "metadata": {},
      "source": [
        "# Data preprocessing"
      ]
    },
    {
      "cell_type": "code",
      "execution_count": 5,
      "metadata": {
        "colab": {
          "base_uri": "https://localhost:8080/",
          "height": 206
        },
        "id": "9fcdftTO2Yjk",
        "outputId": "6611b847-77f1-4f8b-c165-a8e9eb9a4c7a"
      },
      "outputs": [
        {
          "data": {
            "text/html": [
              "<div>\n",
              "<style scoped>\n",
              "    .dataframe tbody tr th:only-of-type {\n",
              "        vertical-align: middle;\n",
              "    }\n",
              "\n",
              "    .dataframe tbody tr th {\n",
              "        vertical-align: top;\n",
              "    }\n",
              "\n",
              "    .dataframe thead th {\n",
              "        text-align: right;\n",
              "    }\n",
              "</style>\n",
              "<table border=\"1\" class=\"dataframe\">\n",
              "  <thead>\n",
              "    <tr style=\"text-align: right;\">\n",
              "      <th></th>\n",
              "      <th>sentiment</th>\n",
              "      <th>headline</th>\n",
              "    </tr>\n",
              "  </thead>\n",
              "  <tbody>\n",
              "    <tr>\n",
              "      <th>0</th>\n",
              "      <td>neutral</td>\n",
              "      <td>According to Gran , the company has no plans t...</td>\n",
              "    </tr>\n",
              "    <tr>\n",
              "      <th>1</th>\n",
              "      <td>neutral</td>\n",
              "      <td>Technopolis plans to develop in stages an area...</td>\n",
              "    </tr>\n",
              "    <tr>\n",
              "      <th>2</th>\n",
              "      <td>negative</td>\n",
              "      <td>The international electronic industry company ...</td>\n",
              "    </tr>\n",
              "    <tr>\n",
              "      <th>3</th>\n",
              "      <td>positive</td>\n",
              "      <td>With the new production plant the company woul...</td>\n",
              "    </tr>\n",
              "    <tr>\n",
              "      <th>4</th>\n",
              "      <td>positive</td>\n",
              "      <td>According to the company 's updated strategy f...</td>\n",
              "    </tr>\n",
              "  </tbody>\n",
              "</table>\n",
              "</div>"
            ],
            "text/plain": [
              "  sentiment                                           headline\n",
              "0   neutral  According to Gran , the company has no plans t...\n",
              "1   neutral  Technopolis plans to develop in stages an area...\n",
              "2  negative  The international electronic industry company ...\n",
              "3  positive  With the new production plant the company woul...\n",
              "4  positive  According to the company 's updated strategy f..."
            ]
          },
          "execution_count": 5,
          "metadata": {},
          "output_type": "execute_result"
        }
      ],
      "source": [
        "df = pd.read_csv('all-data.csv', encoding=\"latin-1\",\n",
        "                 names=['sentiment', 'headline'])\n",
        "df.head()"
      ]
    },
    {
      "cell_type": "code",
      "execution_count": 6,
      "metadata": {
        "colab": {
          "base_uri": "https://localhost:8080/",
          "height": 497
        },
        "id": "pfrwFBDm2Yjk",
        "outputId": "1e202535-e00d-4169-ea43-ef02e97edf0c"
      },
      "outputs": [
        {
          "data": {
            "text/plain": [
              "<Axes: xlabel='sentiment'>"
            ]
          },
          "execution_count": 6,
          "metadata": {},
          "output_type": "execute_result"
        },
        {
          "data": {
            "image/png": "[encoded data removed]",
            "text/plain": [
              "<Figure size 640x480 with 1 Axes>"
            ]
          },
          "metadata": {},
          "output_type": "display_data"
        }
      ],
      "source": [
        "df['sentiment'].value_counts().plot(kind='bar')"
      ]
    },
    {
      "cell_type": "code",
      "execution_count": 7,
      "metadata": {
        "colab": {
          "base_uri": "https://localhost:8080/"
        },
        "id": "mBiWrbvb2Yjl",
        "outputId": "050ed99d-52db-4642-e8b0-5fdcb8599a91"
      },
      "outputs": [
        {
          "name": "stdout",
          "output_type": "stream",
          "text": [
            "original shape:  (4846, 2)\n",
            "after drop duplicates shape:  (4840, 2)\n",
            "after drop null shape:  (4840, 2)\n"
          ]
        }
      ],
      "source": [
        "print(\"original shape: \", df.shape)\n",
        "df = df.drop_duplicates()\n",
        "print(\"after drop duplicates shape: \", df.shape)\n",
        "dd_dn = df.dropna()\n",
        "print(\"after drop null shape: \", df.shape)"
      ]
    },
    {
      "cell_type": "code",
      "execution_count": 8,
      "metadata": {
        "colab": {
          "base_uri": "https://localhost:8080/",
          "height": 54
        },
        "id": "Ej9YDwzj2Yjl",
        "outputId": "ab2f006e-b388-4aa0-86e3-c71d47997abe"
      },
      "outputs": [
        {
          "data": {
            "text/plain": [
              "'Technopolis plans to develop in stages an area of no less than 100,000 square meters in order to host companies working in computer technologies and telecommunications , the statement said .'"
            ]
          },
          "execution_count": 8,
          "metadata": {},
          "output_type": "execute_result"
        }
      ],
      "source": [
        "df['headline'][1]"
      ]
    },
    {
      "cell_type": "code",
      "execution_count": 9,
      "metadata": {},
      "outputs": [],
      "source": [
        "def headline_to_words(headline):\n",
        "    ''' Convert headline text into a sequence of words '''\n",
        "    \n",
        "    # convert to lowercase\n",
        "    text = headline.lower()\n",
        "    # remove non letters\n",
        "    text = re.sub(r\"[^a-zA-Z0-9]\", \" \", text)\n",
        "    # tokenize\n",
        "    words = text.split()\n",
        "    # remove stopwords\n",
        "    words = [w for w in words if w not in stopwords.words(\"english\")]\n",
        "\n",
        "    ## apply stemming\n",
        "    # words = [PorterStemmer().stem(w) for w in words]\n",
        "    ## return list\n",
        "\n",
        "    return  ' '.join(map(str, words))\n",
        "\n",
        "#print(\"\\nOriginal headline ->\", df['headline'][0])\n",
        "\n",
        "#df['headline'] = df['headline'].apply(headline_to_words)\n",
        "\n",
        "#print(\"\\nProcessed headline ->\", df['headline'][0])\n",
        "\n",
        "# not used nltk preprocessing"
      ]
    },
    {
      "cell_type": "code",
      "execution_count": 10,
      "metadata": {},
      "outputs": [],
      "source": [
        "sentences = df['headline'].to_list()\n",
        "\n",
        "# Encode target labels\n",
        "le = LabelEncoder()\n",
        "le.fit(df['sentiment'])\n",
        "df['sentiment'] = le.transform(df['sentiment'])"
      ]
    },
    {
      "attachments": {},
      "cell_type": "markdown",
      "metadata": {},
      "source": [
        "# Tokenizer for other models"
      ]
    },
    {
      "cell_type": "code",
      "execution_count": 11,
      "metadata": {
        "colab": {
          "base_uri": "https://localhost:8080/"
        },
        "id": "wpP0FaOE2Yjl",
        "outputId": "63ef8ae1-f4c7-4c6b-c874-5590d0a8a91a"
      },
      "outputs": [
        {
          "name": "stdout",
          "output_type": "stream",
          "text": [
            "Vocab length: 10123\n",
            "Maximum sequence length: 71\n"
          ]
        }
      ],
      "source": [
        "tokenizer = Tokenizer(lower=True)\n",
        "tokenizer.fit_on_texts(sentences)\n",
        "sequences = tokenizer.texts_to_sequences(sentences)\n",
        "word_index = tokenizer.word_index\n",
        "print(\"Vocab length:\", len(word_index) + 1)\n",
        "\n",
        "max_seq_length = np.max(list(map(lambda x: len(x), sequences)))\n",
        "print(\"Maximum sequence length:\", max_seq_length)\n",
        "sequences = pad_sequences(sequences, maxlen=max_seq_length, padding='post')"
      ]
    },
    {
      "cell_type": "code",
      "execution_count": 12,
      "metadata": {
        "id": "vFJ-Xwp52Yjn"
      },
      "outputs": [],
      "source": [
        "train_sequences, test_sequences, y_train, y_test = train_test_split(sequences, df['sentiment'], train_size=0.7, shuffle=True, random_state=1)"
      ]
    },
    {
      "cell_type": "code",
      "execution_count": 13,
      "metadata": {
        "colab": {
          "base_uri": "https://localhost:8080/"
        },
        "id": "Hmt1g5NA2Yjn",
        "outputId": "c8375944-f65b-43d4-c51a-3354c24475e7"
      },
      "outputs": [
        {
          "name": "stdout",
          "output_type": "stream",
          "text": [
            "Train Set -> (3388, 71) (3388,)\n",
            "Test Set -> (1452, 71) (1452,)\n"
          ]
        }
      ],
      "source": [
        "print('Train Set ->', train_sequences.shape, y_train.shape)\n",
        "print('Test Set ->', test_sequences.shape, y_test.shape)"
      ]
    },
    {
      "attachments": {},
      "cell_type": "markdown",
      "metadata": {},
      "source": [
        "# Global Vectors for Word Representation (GloVe)"
      ]
    },
    {
      "cell_type": "code",
      "execution_count": 14,
      "metadata": {},
      "outputs": [],
      "source": [
        "vocab_size = 10123\n",
        "embedding_size = 200\n",
        "\n",
        "embeddings_index = {}\n",
        "\n",
        "with open('glove.6B.200d.txt') as f:\n",
        "    for line in f:\n",
        "        values = line.split()\n",
        "        word = values[0]\n",
        "        coefs = np.asarray(values[1:], dtype='float32')\n",
        "        embeddings_index[word] = coefs\n",
        "\n",
        "\n",
        "embeddings_matrix = np.zeros((vocab_size+1, embedding_size))\n",
        "for word, i in word_index.items():\n",
        "    embedding_vector = embeddings_index.get(word)\n",
        "    if embedding_vector is not None:\n",
        "        embeddings_matrix[i] = embedding_vector"
      ]
    },
    {
      "cell_type": "code",
      "execution_count": 15,
      "metadata": {},
      "outputs": [
        {
          "name": "stdout",
          "output_type": "stream",
          "text": [
            "(10124, 200)\n"
          ]
        }
      ],
      "source": [
        "print(embeddings_matrix.shape)"
      ]
    },
    {
      "attachments": {},
      "cell_type": "markdown",
      "metadata": {},
      "source": [
        "# CNN1d Model"
      ]
    },
    {
      "cell_type": "code",
      "execution_count": 16,
      "metadata": {},
      "outputs": [
        {
          "name": "stdout",
          "output_type": "stream",
          "text": [
            "Model: \"model\"\n",
            "__________________________________________________________________________________________________\n",
            " Layer (type)                   Output Shape         Param #     Connected to                     \n",
            "==================================================================================================\n",
            " input_1 (InputLayer)           [(None, 71)]         0           []                               \n",
            "                                                                                                  \n",
            " embedding (Embedding)          (None, 71, 200)      2024800     ['input_1[0][0]']                \n",
            "                                                                                                  \n",
            " conv1d (Conv1D)                (None, 70, 200)      80200       ['embedding[0][0]']              \n",
            "                                                                                                  \n",
            " conv1d_1 (Conv1D)              (None, 69, 200)      120200      ['embedding[0][0]']              \n",
            "                                                                                                  \n",
            " conv1d_2 (Conv1D)              (None, 68, 200)      160200      ['embedding[0][0]']              \n",
            "                                                                                                  \n",
            " conv1d_3 (Conv1D)              (None, 67, 200)      200200      ['embedding[0][0]']              \n",
            "                                                                                                  \n",
            " conv1d_4 (Conv1D)              (None, 66, 200)      240200      ['embedding[0][0]']              \n",
            "                                                                                                  \n",
            " global_max_pooling1d (GlobalMa  (None, 200)         0           ['conv1d[0][0]']                 \n",
            " xPooling1D)                                                                                      \n",
            "                                                                                                  \n",
            " global_max_pooling1d_1 (Global  (None, 200)         0           ['conv1d_1[0][0]']               \n",
            " MaxPooling1D)                                                                                    \n",
            "                                                                                                  \n",
            " global_max_pooling1d_2 (Global  (None, 200)         0           ['conv1d_2[0][0]']               \n",
            " MaxPooling1D)                                                                                    \n",
            "                                                                                                  \n",
            " global_max_pooling1d_3 (Global  (None, 200)         0           ['conv1d_3[0][0]']               \n",
            " MaxPooling1D)                                                                                    \n",
            "                                                                                                  \n",
            " global_max_pooling1d_4 (Global  (None, 200)         0           ['conv1d_4[0][0]']               \n",
            " MaxPooling1D)                                                                                    \n",
            "                                                                                                  \n",
            " concatenate (Concatenate)      (None, 1000)         0           ['global_max_pooling1d[0][0]',   \n",
            "                                                                  'global_max_pooling1d_1[0][0]', \n",
            "                                                                  'global_max_pooling1d_2[0][0]', \n",
            "                                                                  'global_max_pooling1d_3[0][0]', \n",
            "                                                                  'global_max_pooling1d_4[0][0]'] \n",
            "                                                                                                  \n",
            " dropout (Dropout)              (None, 1000)         0           ['concatenate[0][0]']            \n",
            "                                                                                                  \n",
            " dense (Dense)                  (None, 128)          128128      ['dropout[0][0]']                \n",
            "                                                                                                  \n",
            " dropout_1 (Dropout)            (None, 128)          0           ['dense[0][0]']                  \n",
            "                                                                                                  \n",
            " dense_1 (Dense)                (None, 3)            387         ['dropout_1[0][0]']              \n",
            "                                                                                                  \n",
            "==================================================================================================\n",
            "Total params: 2,954,315\n",
            "Trainable params: 2,954,315\n",
            "Non-trainable params: 0\n",
            "__________________________________________________________________________________________________\n"
          ]
        }
      ],
      "source": [
        "inputs = tf.keras.Input(shape=(train_sequences.shape[1],))\n",
        "x = tf.keras.layers.Embedding(input_dim=vocab_size+1,\n",
        "                              output_dim=embedding_size,\n",
        "                              input_length=train_sequences.shape[1],\n",
        "                              weights=[embeddings_matrix])(inputs)\n",
        "\n",
        "convs = []\n",
        "filter_sizes = [2,3,4,5,6]\n",
        "\n",
        "for filter_size in filter_sizes:\n",
        "    l_conv = tf.keras.layers.Conv1D(filters=200, \n",
        "                        kernel_size=filter_size, \n",
        "                        activation='relu')(x)\n",
        "    l_pool = tf.keras.layers.GlobalMaxPooling1D()(l_conv)\n",
        "    convs.append(l_pool)\n",
        "\n",
        "l_merge = tf.keras.layers.concatenate(convs, axis=1)\n",
        "x = tf.keras.layers.Dropout(0.1)(l_merge)  \n",
        "x = tf.keras.layers.Dense(128, activation='relu')(x)\n",
        "x = tf.keras.layers.Dropout(0.2)(x)\n",
        "outputs = tf.keras.layers.Dense(3, activation='softmax')(x)\n",
        "\n",
        "\n",
        "model = tf.keras.Model(inputs=inputs, outputs=outputs)\n",
        "\n",
        "model.compile(optimizer='adam',\n",
        "              loss='sparse_categorical_crossentropy',\n",
        "              metrics=['accuracy'])\n",
        "model.summary()"
      ]
    },
    {
      "cell_type": "code",
      "execution_count": 17,
      "metadata": {},
      "outputs": [
        {
          "name": "stdout",
          "output_type": "stream",
          "text": [
            "Epoch 1/100\n",
            "96/96 [==============================] - ETA: 0s - loss: 0.8990 - accuracy: 0.6150\n",
            "Epoch 1: val_accuracy improved from -inf to 0.66962, saving model to ./best_model/best_model_cnn1d.h5\n",
            "96/96 [==============================] - 5s 47ms/step - loss: 0.8990 - accuracy: 0.6150 - val_loss: 0.7562 - val_accuracy: 0.6696\n",
            "Epoch 2/100\n",
            "95/96 [============================>.] - ETA: 0s - loss: 0.5297 - accuracy: 0.7819\n",
            "Epoch 2: val_accuracy improved from 0.66962 to 0.73746, saving model to ./best_model/best_model_cnn1d.h5\n",
            "96/96 [==============================] - 4s 47ms/step - loss: 0.5292 - accuracy: 0.7822 - val_loss: 0.6001 - val_accuracy: 0.7375\n",
            "Epoch 3/100\n",
            "95/96 [============================>.] - ETA: 0s - loss: 0.2588 - accuracy: 0.9109\n",
            "Epoch 3: val_accuracy improved from 0.73746 to 0.76991, saving model to ./best_model/best_model_cnn1d.h5\n",
            "96/96 [==============================] - 4s 47ms/step - loss: 0.2587 - accuracy: 0.9108 - val_loss: 0.5691 - val_accuracy: 0.7699\n",
            "Epoch 4/100\n",
            "96/96 [==============================] - ETA: 0s - loss: 0.0961 - accuracy: 0.9711\n",
            "Epoch 4: val_accuracy improved from 0.76991 to 0.78466, saving model to ./best_model/best_model_cnn1d.h5\n",
            "96/96 [==============================] - 5s 48ms/step - loss: 0.0961 - accuracy: 0.9711 - val_loss: 0.6477 - val_accuracy: 0.7847\n",
            "Epoch 5/100\n",
            "95/96 [============================>.] - ETA: 0s - loss: 0.0513 - accuracy: 0.9888\n",
            "Epoch 5: val_accuracy did not improve from 0.78466\n",
            "96/96 [==============================] - 4s 46ms/step - loss: 0.0513 - accuracy: 0.9888 - val_loss: 0.7153 - val_accuracy: 0.7758\n",
            "Epoch 6/100\n",
            "95/96 [============================>.] - ETA: 0s - loss: 0.0462 - accuracy: 0.9865\n",
            "Epoch 6: val_accuracy did not improve from 0.78466\n",
            "96/96 [==============================] - 5s 49ms/step - loss: 0.0461 - accuracy: 0.9866 - val_loss: 0.8330 - val_accuracy: 0.7434\n",
            "Epoch 7/100\n",
            "95/96 [============================>.] - ETA: 0s - loss: 0.0338 - accuracy: 0.9908\n",
            "Epoch 7: val_accuracy did not improve from 0.78466\n",
            "96/96 [==============================] - 5s 51ms/step - loss: 0.0344 - accuracy: 0.9905 - val_loss: 0.9951 - val_accuracy: 0.7345\n",
            "Epoch 8/100\n",
            "95/96 [============================>.] - ETA: 0s - loss: 0.0478 - accuracy: 0.9868\n",
            "Epoch 8: val_accuracy did not improve from 0.78466\n",
            "96/96 [==============================] - 5s 48ms/step - loss: 0.0476 - accuracy: 0.9869 - val_loss: 0.9785 - val_accuracy: 0.7581\n",
            "Epoch 8: early stopping\n"
          ]
        }
      ],
      "source": [
        "es = EarlyStopping(monitor='val_loss', mode='min', verbose=1, patience=5)\n",
        "mc = ModelCheckpoint('./best_model/best_model_cnn1d.h5', \n",
        "                     monitor='val_accuracy', mode='max', verbose=1, \n",
        "                     save_best_only=True)\n",
        "\n",
        "history = model.fit(train_sequences,\n",
        "                    y_train,\n",
        "                    batch_size=32,\n",
        "                    epochs=100, \n",
        "                    validation_split=0.1,\n",
        "                    callbacks=[es, mc])"
      ]
    },
    {
      "cell_type": "code",
      "execution_count": 18,
      "metadata": {},
      "outputs": [
        {
          "name": "stdout",
          "output_type": "stream",
          "text": [
            "Test Losss: 0.58487\n",
            "Test accuracy: 78.92562%\n"
          ]
        }
      ],
      "source": [
        "saved_model = load_model('./best_model/best_model_cnn1d.h5')\n",
        "\n",
        "results = saved_model.evaluate(test_sequences, y_test, verbose =  0)\n",
        "\n",
        "print(\"Test Losss: {:.5f}\".format(results[0]))\n",
        "print(\"Test accuracy: {:.5f}%\".format(results[1]  * 100))"
      ]
    },
    {
      "attachments": {},
      "cell_type": "markdown",
      "metadata": {},
      "source": [
        "# LSTM Model"
      ]
    },
    {
      "cell_type": "code",
      "execution_count": 19,
      "metadata": {
        "colab": {
          "base_uri": "https://localhost:8080/",
          "height": 429
        },
        "id": "mHXxH7wo2Yjn",
        "outputId": "df828a91-b0bc-4f0b-e40d-79dde7835e7e"
      },
      "outputs": [
        {
          "name": "stderr",
          "output_type": "stream",
          "text": [
            "2023-04-23 19:24:28.711543: I tensorflow/core/common_runtime/executor.cc:1197] [/device:CPU:0] (DEBUG INFO) Executor start aborting (this does not indicate an error and you can ignore this message): INVALID_ARGUMENT: You must feed a value for placeholder tensor 'gradients/split_2_grad/concat/split_2/split_dim' with dtype int32\n",
            "\t [[{{node gradients/split_2_grad/concat/split_2/split_dim}}]]\n",
            "2023-04-23 19:24:28.712665: I tensorflow/core/common_runtime/executor.cc:1197] [/device:CPU:0] (DEBUG INFO) Executor start aborting (this does not indicate an error and you can ignore this message): INVALID_ARGUMENT: You must feed a value for placeholder tensor 'gradients/split_grad/concat/split/split_dim' with dtype int32\n",
            "\t [[{{node gradients/split_grad/concat/split/split_dim}}]]\n",
            "2023-04-23 19:24:28.713405: I tensorflow/core/common_runtime/executor.cc:1197] [/device:CPU:0] (DEBUG INFO) Executor start aborting (this does not indicate an error and you can ignore this message): INVALID_ARGUMENT: You must feed a value for placeholder tensor 'gradients/split_1_grad/concat/split_1/split_dim' with dtype int32\n",
            "\t [[{{node gradients/split_1_grad/concat/split_1/split_dim}}]]\n"
          ]
        }
      ],
      "source": [
        "inputs = tf.keras.Input(shape=(train_sequences.shape[1],))\n",
        "x = tf.keras.layers.Embedding(input_dim=vocab_size,\n",
        "                              output_dim=embedding_size,\n",
        "                              input_length=train_sequences.shape[1])(inputs)\n",
        "x = tf.keras.layers.LSTM(256, return_sequences=True, activation='tanh')(x)\n",
        "x = tf.keras.layers.Flatten()(x)\n",
        "outputs = tf.keras.layers.Dense(3, activation='softmax')(x)\n",
        "\n",
        "model = tf.keras.Model(inputs=inputs, outputs=outputs)\n",
        "\n",
        "model.compile(optimizer='adam',\n",
        "              loss='sparse_categorical_crossentropy',\n",
        "              metrics=['accuracy'])\n"
      ]
    },
    {
      "cell_type": "code",
      "execution_count": 20,
      "metadata": {},
      "outputs": [
        {
          "name": "stdout",
          "output_type": "stream",
          "text": [
            "Epoch 1/100\n"
          ]
        },
        {
          "name": "stderr",
          "output_type": "stream",
          "text": [
            "2023-04-23 19:24:28.902359: I tensorflow/core/common_runtime/executor.cc:1197] [/device:CPU:0] (DEBUG INFO) Executor start aborting (this does not indicate an error and you can ignore this message): INVALID_ARGUMENT: You must feed a value for placeholder tensor 'gradients/split_2_grad/concat/split_2/split_dim' with dtype int32\n",
            "\t [[{{node gradients/split_2_grad/concat/split_2/split_dim}}]]\n",
            "2023-04-23 19:24:28.904064: I tensorflow/core/common_runtime/executor.cc:1197] [/device:CPU:0] (DEBUG INFO) Executor start aborting (this does not indicate an error and you can ignore this message): INVALID_ARGUMENT: You must feed a value for placeholder tensor 'gradients/split_grad/concat/split/split_dim' with dtype int32\n",
            "\t [[{{node gradients/split_grad/concat/split/split_dim}}]]\n",
            "2023-04-23 19:24:28.905233: I tensorflow/core/common_runtime/executor.cc:1197] [/device:CPU:0] (DEBUG INFO) Executor start aborting (this does not indicate an error and you can ignore this message): INVALID_ARGUMENT: You must feed a value for placeholder tensor 'gradients/split_1_grad/concat/split_1/split_dim' with dtype int32\n",
            "\t [[{{node gradients/split_1_grad/concat/split_1/split_dim}}]]\n",
            "2023-04-23 19:24:29.384098: I tensorflow/core/common_runtime/executor.cc:1197] [/device:CPU:0] (DEBUG INFO) Executor start aborting (this does not indicate an error and you can ignore this message): INVALID_ARGUMENT: You must feed a value for placeholder tensor 'gradients/split_2_grad/concat/split_2/split_dim' with dtype int32\n",
            "\t [[{{node gradients/split_2_grad/concat/split_2/split_dim}}]]\n",
            "2023-04-23 19:24:29.385427: I tensorflow/core/common_runtime/executor.cc:1197] [/device:CPU:0] (DEBUG INFO) Executor start aborting (this does not indicate an error and you can ignore this message): INVALID_ARGUMENT: You must feed a value for placeholder tensor 'gradients/split_grad/concat/split/split_dim' with dtype int32\n",
            "\t [[{{node gradients/split_grad/concat/split/split_dim}}]]\n",
            "2023-04-23 19:24:29.386517: I tensorflow/core/common_runtime/executor.cc:1197] [/device:CPU:0] (DEBUG INFO) Executor start aborting (this does not indicate an error and you can ignore this message): INVALID_ARGUMENT: You must feed a value for placeholder tensor 'gradients/split_1_grad/concat/split_1/split_dim' with dtype int32\n",
            "\t [[{{node gradients/split_1_grad/concat/split_1/split_dim}}]]\n"
          ]
        },
        {
          "name": "stdout",
          "output_type": "stream",
          "text": [
            "95/96 [============================>.] - ETA: 0s - loss: 0.8157 - accuracy: 0.6454"
          ]
        },
        {
          "name": "stderr",
          "output_type": "stream",
          "text": [
            "2023-04-23 19:24:37.543487: I tensorflow/core/common_runtime/executor.cc:1197] [/device:CPU:0] (DEBUG INFO) Executor start aborting (this does not indicate an error and you can ignore this message): INVALID_ARGUMENT: You must feed a value for placeholder tensor 'gradients/split_2_grad/concat/split_2/split_dim' with dtype int32\n",
            "\t [[{{node gradients/split_2_grad/concat/split_2/split_dim}}]]\n",
            "2023-04-23 19:24:37.544843: I tensorflow/core/common_runtime/executor.cc:1197] [/device:CPU:0] (DEBUG INFO) Executor start aborting (this does not indicate an error and you can ignore this message): INVALID_ARGUMENT: You must feed a value for placeholder tensor 'gradients/split_grad/concat/split/split_dim' with dtype int32\n",
            "\t [[{{node gradients/split_grad/concat/split/split_dim}}]]\n",
            "2023-04-23 19:24:37.545736: I tensorflow/core/common_runtime/executor.cc:1197] [/device:CPU:0] (DEBUG INFO) Executor start aborting (this does not indicate an error and you can ignore this message): INVALID_ARGUMENT: You must feed a value for placeholder tensor 'gradients/split_1_grad/concat/split_1/split_dim' with dtype int32\n",
            "\t [[{{node gradients/split_1_grad/concat/split_1/split_dim}}]]\n"
          ]
        },
        {
          "name": "stdout",
          "output_type": "stream",
          "text": [
            "\n",
            "Epoch 1: val_accuracy improved from -inf to 0.67552, saving model to ./best_model/best_model_lstm.h5\n",
            "96/96 [==============================] - 9s 83ms/step - loss: 0.8158 - accuracy: 0.6451 - val_loss: 0.7150 - val_accuracy: 0.6755\n",
            "Epoch 2/100\n",
            "95/96 [============================>.] - ETA: 0s - loss: 0.4211 - accuracy: 0.8352\n",
            "Epoch 2: val_accuracy improved from 0.67552 to 0.71386, saving model to ./best_model/best_model_lstm.h5\n",
            "96/96 [==============================] - 8s 80ms/step - loss: 0.4204 - accuracy: 0.8354 - val_loss: 0.7400 - val_accuracy: 0.7139\n",
            "Epoch 3/100\n",
            "95/96 [============================>.] - ETA: 0s - loss: 0.1283 - accuracy: 0.9579\n",
            "Epoch 3: val_accuracy did not improve from 0.71386\n",
            "96/96 [==============================] - 8s 80ms/step - loss: 0.1280 - accuracy: 0.9580 - val_loss: 1.0367 - val_accuracy: 0.7109\n",
            "Epoch 4/100\n",
            "95/96 [============================>.] - ETA: 0s - loss: 0.0585 - accuracy: 0.9842\n",
            "Epoch 4: val_accuracy improved from 0.71386 to 0.72271, saving model to ./best_model/best_model_lstm.h5\n",
            "96/96 [==============================] - 8s 81ms/step - loss: 0.0583 - accuracy: 0.9843 - val_loss: 1.0883 - val_accuracy: 0.7227\n",
            "Epoch 5/100\n",
            "95/96 [============================>.] - ETA: 0s - loss: 0.0253 - accuracy: 0.9944\n",
            "Epoch 5: val_accuracy did not improve from 0.72271\n",
            "96/96 [==============================] - 8s 81ms/step - loss: 0.0252 - accuracy: 0.9944 - val_loss: 1.1229 - val_accuracy: 0.7080\n",
            "Epoch 6/100\n",
            "95/96 [============================>.] - ETA: 0s - loss: 0.0180 - accuracy: 0.9961\n",
            "Epoch 6: val_accuracy improved from 0.72271 to 0.73451, saving model to ./best_model/best_model_lstm.h5\n",
            "96/96 [==============================] - 8s 87ms/step - loss: 0.0183 - accuracy: 0.9957 - val_loss: 1.5575 - val_accuracy: 0.7345\n",
            "Epoch 6: early stopping\n"
          ]
        }
      ],
      "source": [
        "es = EarlyStopping(monitor='val_loss', mode='min', verbose=1, patience=5)\n",
        "mc = ModelCheckpoint('./best_model/best_model_lstm.h5', \n",
        "                     monitor='val_accuracy', mode='max', verbose=1, \n",
        "                     save_best_only=True)\n",
        "\n",
        "history = model.fit(train_sequences,\n",
        "                    y_train,\n",
        "                    batch_size=32,\n",
        "                    epochs=100, \n",
        "                    validation_split=0.1,\n",
        "                    callbacks=[es, mc])"
      ]
    },
    {
      "cell_type": "code",
      "execution_count": 21,
      "metadata": {
        "id": "syZ4FiJY2Yjn"
      },
      "outputs": [
        {
          "name": "stderr",
          "output_type": "stream",
          "text": [
            "2023-04-23 19:25:17.397850: I tensorflow/core/common_runtime/executor.cc:1197] [/device:CPU:0] (DEBUG INFO) Executor start aborting (this does not indicate an error and you can ignore this message): INVALID_ARGUMENT: You must feed a value for placeholder tensor 'gradients/split_2_grad/concat/split_2/split_dim' with dtype int32\n",
            "\t [[{{node gradients/split_2_grad/concat/split_2/split_dim}}]]\n",
            "2023-04-23 19:25:17.399053: I tensorflow/core/common_runtime/executor.cc:1197] [/device:CPU:0] (DEBUG INFO) Executor start aborting (this does not indicate an error and you can ignore this message): INVALID_ARGUMENT: You must feed a value for placeholder tensor 'gradients/split_grad/concat/split/split_dim' with dtype int32\n",
            "\t [[{{node gradients/split_grad/concat/split/split_dim}}]]\n",
            "2023-04-23 19:25:17.400329: I tensorflow/core/common_runtime/executor.cc:1197] [/device:CPU:0] (DEBUG INFO) Executor start aborting (this does not indicate an error and you can ignore this message): INVALID_ARGUMENT: You must feed a value for placeholder tensor 'gradients/split_1_grad/concat/split_1/split_dim' with dtype int32\n",
            "\t [[{{node gradients/split_1_grad/concat/split_1/split_dim}}]]\n",
            "2023-04-23 19:25:17.686914: I tensorflow/core/common_runtime/executor.cc:1197] [/device:CPU:0] (DEBUG INFO) Executor start aborting (this does not indicate an error and you can ignore this message): INVALID_ARGUMENT: You must feed a value for placeholder tensor 'gradients/split_2_grad/concat/split_2/split_dim' with dtype int32\n",
            "\t [[{{node gradients/split_2_grad/concat/split_2/split_dim}}]]\n",
            "2023-04-23 19:25:17.688074: I tensorflow/core/common_runtime/executor.cc:1197] [/device:CPU:0] (DEBUG INFO) Executor start aborting (this does not indicate an error and you can ignore this message): INVALID_ARGUMENT: You must feed a value for placeholder tensor 'gradients/split_grad/concat/split/split_dim' with dtype int32\n",
            "\t [[{{node gradients/split_grad/concat/split/split_dim}}]]\n",
            "2023-04-23 19:25:17.688784: I tensorflow/core/common_runtime/executor.cc:1197] [/device:CPU:0] (DEBUG INFO) Executor start aborting (this does not indicate an error and you can ignore this message): INVALID_ARGUMENT: You must feed a value for placeholder tensor 'gradients/split_1_grad/concat/split_1/split_dim' with dtype int32\n",
            "\t [[{{node gradients/split_1_grad/concat/split_1/split_dim}}]]\n"
          ]
        },
        {
          "name": "stdout",
          "output_type": "stream",
          "text": [
            "Test Losss: 1.43991\n",
            "Test accuracy: 74.31129%\n"
          ]
        }
      ],
      "source": [
        "saved_model = load_model('./best_model/best_model_lstm.h5')\n",
        "\n",
        "results = saved_model.evaluate(test_sequences, y_test, verbose =  0)\n",
        "\n",
        "print(\"Test Losss: {:.5f}\".format(results[0]))\n",
        "print(\"Test accuracy: {:.5f}%\".format(results[1]  * 100))"
      ]
    },
    {
      "cell_type": "markdown",
      "metadata": {},
      "source": [
        "# BERT Finetune (finBERT)"
      ]
    },
    {
      "cell_type": "code",
      "execution_count": 22,
      "metadata": {},
      "outputs": [
        {
          "name": "stderr",
          "output_type": "stream",
          "text": [
            "All model checkpoint layers were used when initializing TFBertModel.\n",
            "\n",
            "All the layers of TFBertModel were initialized from the model checkpoint at ProsusAI/finbert.\n",
            "If your task is similar to the task the model of the checkpoint was trained on, you can already use TFBertModel for predictions without further training.\n"
          ]
        }
      ],
      "source": [
        "tokenizer = BertTokenir = BertTokenizer.from_pretrained('ProsusAI/finbert')\n",
        "bert = TFBertModel.from_pretrained('ProsusAI/finbert')"
      ]
    },
    {
      "cell_type": "code",
      "execution_count": 23,
      "metadata": {},
      "outputs": [],
      "source": [
        "def calculate_max_sentence_len(sentences):\n",
        "    max_len = 0\n",
        "\n",
        "    # For every sentence...\n",
        "    for sent in sentences:\n",
        "\n",
        "        # Tokenize the text and add `[CLS]` and `[SEP]` tokens.\n",
        "        input_ids = tokenizer.encode(sent, add_special_tokens=True)\n",
        "\n",
        "        # Update the maximum sentence length.\n",
        "        max_len = max(max_len, len(input_ids))\n",
        "\n",
        "    return max_len"
      ]
    },
    {
      "cell_type": "code",
      "execution_count": 24,
      "metadata": {},
      "outputs": [
        {
          "name": "stdout",
          "output_type": "stream",
          "text": [
            "Max sentence length:  120\n",
            "\n",
            "Train split shape:  (3388, 120)\n",
            "\n",
            "Test split shape:  (1452, 120)\n"
          ]
        }
      ],
      "source": [
        "train_sentences, test_sentences, labels_train, labels_test = train_test_split(\n",
        "    sentences, df['sentiment'], train_size=0.7, shuffle=True, random_state=1)\n",
        "\n",
        "max_len = min(calculate_max_sentence_len(train_sentences),\n",
        "              calculate_max_sentence_len(test_sentences))\n",
        "\n",
        "print('Max sentence length: ', max_len)\n",
        "\n",
        "X_train = tokenizer(\n",
        "    text=train_sentences,\n",
        "    add_special_tokens=True,\n",
        "    max_length=max_len,\n",
        "    truncation=True,\n",
        "    padding=True,\n",
        "    return_tensors='tf',\n",
        "    return_token_type_ids=False,\n",
        "    return_attention_mask=True,\n",
        "    verbose=True\n",
        ")\n",
        "\n",
        "X_test = tokenizer(\n",
        "    text=test_sentences,\n",
        "    add_special_tokens=True,\n",
        "    max_length=max_len,\n",
        "    truncation=True,\n",
        "    padding=True,\n",
        "    return_tensors='tf',\n",
        "    return_token_type_ids=False,\n",
        "    return_attention_mask=True,\n",
        "    verbose=True\n",
        ")\n",
        "\n",
        "print(\"\\nTrain split shape: \", X_train['input_ids'].shape) # the same for attention mask\n",
        "print(\"\\nTest split shape: \", X_test['input_ids'].shape)"
      ]
    },
    {
      "cell_type": "code",
      "execution_count": 25,
      "metadata": {},
      "outputs": [
        {
          "name": "stdout",
          "output_type": "stream",
          "text": [
            "Model: \"model_2\"\n",
            "__________________________________________________________________________________________________\n",
            " Layer (type)                   Output Shape         Param #     Connected to                     \n",
            "==================================================================================================\n",
            " input_ids (InputLayer)         [(None, 120)]        0           []                               \n",
            "                                                                                                  \n",
            " attention_mask (InputLayer)    [(None, 120)]        0           []                               \n",
            "                                                                                                  \n",
            " tf_bert_model (TFBertModel)    TFBaseModelOutputWi  109482240   ['input_ids[0][0]',              \n",
            "                                thPoolingAndCrossAt               'attention_mask[0][0]']         \n",
            "                                tentions(last_hidde                                               \n",
            "                                n_state=(None, 120,                                               \n",
            "                                 768),                                                            \n",
            "                                 pooler_output=(Non                                               \n",
            "                                e, 768),                                                          \n",
            "                                 past_key_values=No                                               \n",
            "                                ne, hidden_states=N                                               \n",
            "                                one, attentions=Non                                               \n",
            "                                e, cross_attentions                                               \n",
            "                                =None)                                                            \n",
            "                                                                                                  \n",
            " global_max_pooling1d_5 (Global  (None, 768)         0           ['tf_bert_model[0][0]']          \n",
            " MaxPooling1D)                                                                                    \n",
            "                                                                                                  \n",
            " dense_3 (Dense)                (None, 128)          98432       ['global_max_pooling1d_5[0][0]'] \n",
            "                                                                                                  \n",
            " dropout_39 (Dropout)           (None, 128)          0           ['dense_3[0][0]']                \n",
            "                                                                                                  \n",
            " dense_4 (Dense)                (None, 32)           4128        ['dropout_39[0][0]']             \n",
            "                                                                                                  \n",
            " dense_5 (Dense)                (None, 3)            99          ['dense_4[0][0]']                \n",
            "                                                                                                  \n",
            "==================================================================================================\n",
            "Total params: 109,584,899\n",
            "Trainable params: 102,659\n",
            "Non-trainable params: 109,482,240\n",
            "__________________________________________________________________________________________________\n"
          ]
        }
      ],
      "source": [
        "input_ids = tf.keras.layers.Input(shape=(max_len,), dtype=tf.int32, name=\"input_ids\")\n",
        "input_mask = tf.keras.layers.Input(shape=(max_len,), dtype=tf.int32, name=\"attention_mask\")\n",
        "\n",
        "embeddings = bert(input_ids, attention_mask=input_mask)[0]  # 0 = last hidden state, 1 = poller_output\n",
        "\n",
        "out = tf.keras.layers.GlobalMaxPool1D()(embeddings)\n",
        "out = tf.keras.layers.Dense(128, activation='relu')(out)\n",
        "out = tf.keras.layers.Dropout(0.1)(out)\n",
        "out = tf.keras.layers.Dense(32, activation='relu')(out)\n",
        "\n",
        "y = tf.keras.layers.Dense(3, activation='softmax')(out)\n",
        "\n",
        "model = tf.keras.Model(inputs=[input_ids, input_mask], outputs=y)\n",
        "\n",
        "\n",
        "model.layers[2].trainable = False \n",
        "# check https://stackoverflow.com/questions/60463829/training-tfbertforsequenceclassification-with-custom-x-and-y-data\n",
        "\n",
        "\n",
        "optimizer = tf.keras.optimizers.Adam(\n",
        "    learning_rate=5e-05,  # HF recommendation\n",
        "    epsilon=1e-08,\n",
        "    #decay=0.01,\n",
        "    clipnorm=1.0\n",
        ")\n",
        "\n",
        "loss = tf.keras.losses.CategoricalCrossentropy(from_logits=True)\n",
        "metric = tf.keras.metrics.CategoricalAccuracy('balanced_accuracy')\n",
        "\n",
        "model.compile(\n",
        "    optimizer=optimizer,\n",
        "    loss=loss,\n",
        "    metrics=metric\n",
        ")\n",
        "\n",
        "model.summary()"
      ]
    },
    {
      "cell_type": "code",
      "execution_count": 26,
      "metadata": {},
      "outputs": [
        {
          "name": "stdout",
          "output_type": "stream",
          "text": [
            "Epoch 1/10\n"
          ]
        },
        {
          "name": "stderr",
          "output_type": "stream",
          "text": [
            "/home/francesco/.local/lib/python3.10/site-packages/keras/backend.py:5561: UserWarning: \"`categorical_crossentropy` received `from_logits=True`, but the `output` argument was produced by a Softmax activation and thus does not represent logits. Was this intended?\n",
            "  output, from_logits = _get_logits(\n"
          ]
        },
        {
          "name": "stdout",
          "output_type": "stream",
          "text": [
            "96/96 [==============================] - ETA: 0s - loss: 0.8072 - balanced_accuracy: 0.6428\n",
            "Epoch 1: val_balanced_accuracy improved from -inf to 0.78466, saving model to ./best_model/finetuned_finBERT.h5\n",
            "96/96 [==============================] - 364s 4s/step - loss: 0.8072 - balanced_accuracy: 0.6428 - val_loss: 0.5791 - val_balanced_accuracy: 0.7847\n",
            "Epoch 2/10\n",
            "96/96 [==============================] - ETA: 0s - loss: 0.5312 - balanced_accuracy: 0.7927\n",
            "Epoch 2: val_balanced_accuracy improved from 0.78466 to 0.83776, saving model to ./best_model/finetuned_finBERT.h5\n",
            "96/96 [==============================] - 349s 4s/step - loss: 0.5312 - balanced_accuracy: 0.7927 - val_loss: 0.4272 - val_balanced_accuracy: 0.8378\n",
            "Epoch 3/10\n",
            "96/96 [==============================] - ETA: 0s - loss: 0.4433 - balanced_accuracy: 0.8268\n",
            "Epoch 3: val_balanced_accuracy improved from 0.83776 to 0.86431, saving model to ./best_model/finetuned_finBERT.h5\n",
            "96/96 [==============================] - 352s 4s/step - loss: 0.4433 - balanced_accuracy: 0.8268 - val_loss: 0.3702 - val_balanced_accuracy: 0.8643\n",
            "Epoch 4/10\n",
            "96/96 [==============================] - ETA: 0s - loss: 0.4031 - balanced_accuracy: 0.8350\n",
            "Epoch 4: val_balanced_accuracy did not improve from 0.86431\n",
            "96/96 [==============================] - 352s 4s/step - loss: 0.4031 - balanced_accuracy: 0.8350 - val_loss: 0.3518 - val_balanced_accuracy: 0.8614\n",
            "Epoch 5/10\n",
            "96/96 [==============================] - ETA: 0s - loss: 0.3760 - balanced_accuracy: 0.8541\n",
            "Epoch 5: val_balanced_accuracy did not improve from 0.86431\n",
            "96/96 [==============================] - 352s 4s/step - loss: 0.3760 - balanced_accuracy: 0.8541 - val_loss: 0.3313 - val_balanced_accuracy: 0.8496\n",
            "Epoch 6/10\n",
            "96/96 [==============================] - ETA: 0s - loss: 0.3613 - balanced_accuracy: 0.8547\n",
            "Epoch 6: val_balanced_accuracy improved from 0.86431 to 0.86726, saving model to ./best_model/finetuned_finBERT.h5\n",
            "96/96 [==============================] - 353s 4s/step - loss: 0.3613 - balanced_accuracy: 0.8547 - val_loss: 0.3156 - val_balanced_accuracy: 0.8673\n",
            "Epoch 7/10\n",
            "96/96 [==============================] - ETA: 0s - loss: 0.3461 - balanced_accuracy: 0.8649\n",
            "Epoch 7: val_balanced_accuracy did not improve from 0.86726\n",
            "96/96 [==============================] - 351s 4s/step - loss: 0.3461 - balanced_accuracy: 0.8649 - val_loss: 0.3195 - val_balanced_accuracy: 0.8643\n",
            "Epoch 8/10\n",
            "96/96 [==============================] - ETA: 0s - loss: 0.3375 - balanced_accuracy: 0.8547\n",
            "Epoch 8: val_balanced_accuracy did not improve from 0.86726\n",
            "96/96 [==============================] - 350s 4s/step - loss: 0.3375 - balanced_accuracy: 0.8547 - val_loss: 0.3226 - val_balanced_accuracy: 0.8525\n",
            "Epoch 8: early stopping\n"
          ]
        }
      ],
      "source": [
        "es = EarlyStopping(monitor='val_loss', mode='min', verbose=1, patience=2)\n",
        "mc = ModelCheckpoint('./best_model/finetuned_finBERT.h5',\n",
        "                     monitor='val_balanced_accuracy', mode='max', verbose=1,\n",
        "                     save_best_only=True)\n",
        "\n",
        "history = model.fit(x= {'input_ids': X_train['input_ids'], 'attention_mask': X_train['attention_mask']},\n",
        "                    y= tf.keras.utils.to_categorical(labels_train),\n",
        "                    batch_size=32,\n",
        "                    epochs=10,\n",
        "                    validation_split=0.1,\n",
        "                    callbacks=[es, mc])"
      ]
    },
    {
      "cell_type": "code",
      "execution_count": 27,
      "metadata": {},
      "outputs": [
        {
          "name": "stdout",
          "output_type": "stream",
          "text": [
            "WARNING:tensorflow:Error in loading the saved optimizer state. As a result, your model is starting with a freshly initialized optimizer.\n",
            "46/46 [==============================] - 137s 3s/step\n",
            "              precision    recall  f1-score   support\n",
            "\n",
            "           0       0.85      0.87      0.86       171\n",
            "           1       0.88      0.94      0.91       862\n",
            "           2       0.90      0.78      0.83       419\n",
            "\n",
            "    accuracy                           0.88      1452\n",
            "   macro avg       0.88      0.86      0.87      1452\n",
            "weighted avg       0.88      0.88      0.88      1452\n",
            "\n"
          ]
        }
      ],
      "source": [
        "saved_model = load_model('./best_model/finetuned_finBERT.h5', custom_objects={\"TFBertModel\": TFBertModel})\n",
        "\n",
        "# Classification report:\n",
        "predicted = saved_model.predict(\n",
        "    {'input_ids': X_test['input_ids'], 'attention_mask': X_test['attention_mask']})\n",
        "y_predicted = np.argmax(predicted, axis=1)\n",
        "print(classification_report(labels_test, y_predicted))"
      ]
    }
  ],
  "metadata": {
    "accelerator": "TPU",
    "colab": {
      "provenance": []
    },
    "gpuClass": "standard",
    "kernelspec": {
      "display_name": "Python 3",
      "language": "python",
      "name": "python3"
    },
    "language_info": {
      "codemirror_mode": {
        "name": "ipython",
        "version": 3
      },
      "file_extension": ".py",
      "mimetype": "text/x-python",
      "name": "python",
      "nbconvert_exporter": "python",
      "pygments_lexer": "ipython3",
      "version": "3.10.6"
    },
    "orig_nbformat": 4
  },
  "nbformat": 4,
  "nbformat_minor": 0
}
