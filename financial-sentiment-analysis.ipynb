{
  "cells": [
    {
      "attachments": {},
      "cell_type": "markdown",
      "metadata": {},
      "source": [
        "# Google colab commands"
      ]
    },
    {
      "cell_type": "code",
      "execution_count": null,
      "metadata": {
        "colab": {
          "base_uri": "https://localhost:8080/"
        },
        "id": "u74sT_sz2-Lm",
        "outputId": "e990ba55-0532-47df-da2e-e72ab1d662aa"
      },
      "outputs": [],
      "source": [
        "!git clone https://github.com/Francesco9932/financial-sentiment-analysis"
      ]
    },
    {
      "cell_type": "code",
      "execution_count": null,
      "metadata": {
        "colab": {
          "base_uri": "https://localhost:8080/"
        },
        "id": "tAah7XGk3fcD",
        "outputId": "3d2df4ac-017c-4f41-966b-5d799b803a2b"
      },
      "outputs": [],
      "source": [
        "%cd financial-sentiment-analysis/"
      ]
    },
    {
      "cell_type": "code",
      "execution_count": null,
      "metadata": {},
      "outputs": [],
      "source": [
        "!unzip glove.6B.200d.txt.zip"
      ]
    },
    {
      "attachments": {},
      "cell_type": "markdown",
      "metadata": {},
      "source": [
        "# Data preprocessing and test-train split"
      ]
    },
    {
      "cell_type": "code",
      "execution_count": 1,
      "metadata": {
        "id": "9UHwVbQ72Yjh"
      },
      "outputs": [],
      "source": [
        "import pandas as pd\n",
        "import numpy as np\n",
        "from tensorflow.keras.preprocessing.sequence import pad_sequences\n",
        "from sklearn.model_selection import train_test_split\n",
        "\n",
        "from tensorflow.keras.preprocessing.text import Tokenizer\n",
        "import tensorflow as tf\n",
        "\n",
        "from keras.callbacks import EarlyStopping\n",
        "from keras.callbacks import ModelCheckpoint\n",
        "\n",
        "from keras.models import load_model"
      ]
    },
    {
      "cell_type": "code",
      "execution_count": 2,
      "metadata": {
        "colab": {
          "base_uri": "https://localhost:8080/",
          "height": 206
        },
        "id": "9fcdftTO2Yjk",
        "outputId": "6611b847-77f1-4f8b-c165-a8e9eb9a4c7a"
      },
      "outputs": [
        {
          "data": {
            "text/html": [
              "<div>\n",
              "<style scoped>\n",
              "    .dataframe tbody tr th:only-of-type {\n",
              "        vertical-align: middle;\n",
              "    }\n",
              "\n",
              "    .dataframe tbody tr th {\n",
              "        vertical-align: top;\n",
              "    }\n",
              "\n",
              "    .dataframe thead th {\n",
              "        text-align: right;\n",
              "    }\n",
              "</style>\n",
              "<table border=\"1\" class=\"dataframe\">\n",
              "  <thead>\n",
              "    <tr style=\"text-align: right;\">\n",
              "      <th></th>\n",
              "      <th>sentiment</th>\n",
              "      <th>news headline</th>\n",
              "    </tr>\n",
              "  </thead>\n",
              "  <tbody>\n",
              "    <tr>\n",
              "      <th>0</th>\n",
              "      <td>neutral</td>\n",
              "      <td>According to Gran , the company has no plans t...</td>\n",
              "    </tr>\n",
              "    <tr>\n",
              "      <th>1</th>\n",
              "      <td>neutral</td>\n",
              "      <td>Technopolis plans to develop in stages an area...</td>\n",
              "    </tr>\n",
              "    <tr>\n",
              "      <th>2</th>\n",
              "      <td>negative</td>\n",
              "      <td>The international electronic industry company ...</td>\n",
              "    </tr>\n",
              "    <tr>\n",
              "      <th>3</th>\n",
              "      <td>positive</td>\n",
              "      <td>With the new production plant the company woul...</td>\n",
              "    </tr>\n",
              "    <tr>\n",
              "      <th>4</th>\n",
              "      <td>positive</td>\n",
              "      <td>According to the company 's updated strategy f...</td>\n",
              "    </tr>\n",
              "  </tbody>\n",
              "</table>\n",
              "</div>"
            ],
            "text/plain": [
              "  sentiment                                      news headline\n",
              "0   neutral  According to Gran , the company has no plans t...\n",
              "1   neutral  Technopolis plans to develop in stages an area...\n",
              "2  negative  The international electronic industry company ...\n",
              "3  positive  With the new production plant the company woul...\n",
              "4  positive  According to the company 's updated strategy f..."
            ]
          },
          "execution_count": 2,
          "metadata": {},
          "output_type": "execute_result"
        }
      ],
      "source": [
        "df = pd.read_csv('all-data.csv', encoding=\"latin-1\",\n",
        "                 names=['sentiment', 'news headline'])\n",
        "df.head()"
      ]
    },
    {
      "cell_type": "code",
      "execution_count": 3,
      "metadata": {
        "colab": {
          "base_uri": "https://localhost:8080/",
          "height": 497
        },
        "id": "pfrwFBDm2Yjk",
        "outputId": "1e202535-e00d-4169-ea43-ef02e97edf0c"
      },
      "outputs": [
        {
          "data": {
            "text/plain": [
              "<AxesSubplot:>"
            ]
          },
          "execution_count": 3,
          "metadata": {},
          "output_type": "execute_result"
        },
        {
          "data": {
            "image/png": "[encoded data removed]",
            "text/plain": [
              "<Figure size 432x288 with 1 Axes>"
            ]
          },
          "metadata": {
            "needs_background": "light"
          },
          "output_type": "display_data"
        }
      ],
      "source": [
        "df['sentiment'].value_counts().plot(kind='bar')"
      ]
    },
    {
      "cell_type": "code",
      "execution_count": 4,
      "metadata": {
        "colab": {
          "base_uri": "https://localhost:8080/"
        },
        "id": "mBiWrbvb2Yjl",
        "outputId": "050ed99d-52db-4642-e8b0-5fdcb8599a91"
      },
      "outputs": [
        {
          "name": "stdout",
          "output_type": "stream",
          "text": [
            "original shape:  (4846, 2)\n",
            "after drop duplicates shape:  (4840, 2)\n",
            "after drop null shape:  (4840, 2)\n"
          ]
        }
      ],
      "source": [
        "print(\"original shape: \", df.shape)\n",
        "df = df.drop_duplicates()\n",
        "print(\"after drop duplicates shape: \", df.shape)\n",
        "dd_dn = df.dropna()\n",
        "print(\"after drop null shape: \", df.shape)"
      ]
    },
    {
      "cell_type": "code",
      "execution_count": 5,
      "metadata": {
        "colab": {
          "base_uri": "https://localhost:8080/",
          "height": 54
        },
        "id": "Ej9YDwzj2Yjl",
        "outputId": "ab2f006e-b388-4aa0-86e3-c71d47997abe"
      },
      "outputs": [
        {
          "data": {
            "text/plain": [
              "'Technopolis plans to develop in stages an area of no less than 100,000 square meters in order to host companies working in computer technologies and telecommunications , the statement said .'"
            ]
          },
          "execution_count": 5,
          "metadata": {},
          "output_type": "execute_result"
        }
      ],
      "source": [
        "df['news headline'][1]"
      ]
    },
    {
      "cell_type": "code",
      "execution_count": 6,
      "metadata": {},
      "outputs": [
        {
          "name": "stderr",
          "output_type": "stream",
          "text": [
            "[nltk_data] Downloading package stopwords to\n",
            "[nltk_data]     /home/francesco/nltk_data...\n",
            "[nltk_data]   Package stopwords is already up-to-date!\n"
          ]
        }
      ],
      "source": [
        "import re\n",
        "import nltk  #natural language processing\n",
        "nltk.download(\"stopwords\")\n",
        "from nltk.corpus import stopwords\n",
        "from nltk.stem.porter import *"
      ]
    },
    {
      "cell_type": "code",
      "execution_count": 9,
      "metadata": {},
      "outputs": [
        {
          "name": "stdout",
          "output_type": "stream",
          "text": [
            "\n",
            "Original headline -> According to Gran , the company has no plans to move all production to Russia , although that is where the company is growing .\n",
            "\n",
            "Processed headline -> ['accord', 'gran', 'compani', 'plan', 'move', 'product', 'russia', 'although', 'compani', 'grow']\n"
          ]
        }
      ],
      "source": [
        "def headline_to_words(headline):\n",
        "    ''' Convert headline text into a sequence of words '''\n",
        "    \n",
        "    # convert to lowercase\n",
        "    text = headline.lower()\n",
        "    # remove non letters\n",
        "    text = re.sub(r\"[^a-zA-Z0-9]\", \" \", text)\n",
        "    # tokenize\n",
        "    words = text.split()\n",
        "    # remove stopwords\n",
        "    words = [w for w in words if w not in stopwords.words(\"english\")]\n",
        "    # apply stemming\n",
        "    words = [PorterStemmer().stem(w) for w in words]\n",
        "    # return list\n",
        "    return words\n",
        "\n",
        "print(\"\\nOriginal headline ->\", df['news headline'][0])\n",
        "print(\"\\nProcessed headline ->\", headline_to_words(df['news headline'][0]))"
      ]
    },
    {
      "cell_type": "code",
      "execution_count": 10,
      "metadata": {},
      "outputs": [],
      "source": [
        "X = list(map(headline_to_words, df['news headline']))"
      ]
    },
    {
      "cell_type": "code",
      "execution_count": null,
      "metadata": {},
      "outputs": [],
      "source": [
        "X"
      ]
    },
    {
      "cell_type": "code",
      "execution_count": 11,
      "metadata": {},
      "outputs": [
        {
          "name": "stdout",
          "output_type": "stream",
          "text": [
            "['negative' 'neutral' 'positive']\n"
          ]
        }
      ],
      "source": [
        "from sklearn.preprocessing import LabelEncoder\n",
        "\n",
        "# Encode target labels\n",
        "le = LabelEncoder()\n",
        "le.fit(df['sentiment'])\n",
        "print(le.classes_)\n",
        "Y = le.transform(df['sentiment'])"
      ]
    },
    {
      "cell_type": "code",
      "execution_count": 12,
      "metadata": {},
      "outputs": [
        {
          "name": "stdout",
          "output_type": "stream",
          "text": [
            "['accord', 'gran', 'compani', 'plan', 'move', 'product', 'russia', 'although', 'compani', 'grow']\n",
            "1\n"
          ]
        }
      ],
      "source": [
        "print(X[0])\n",
        "print(Y[0])"
      ]
    },
    {
      "cell_type": "code",
      "execution_count": 13,
      "metadata": {
        "colab": {
          "base_uri": "https://localhost:8080/"
        },
        "id": "wpP0FaOE2Yjl",
        "outputId": "63ef8ae1-f4c7-4c6b-c874-5590d0a8a91a"
      },
      "outputs": [
        {
          "name": "stdout",
          "output_type": "stream",
          "text": [
            "Vocab length: 7714\n",
            "Maximum sequence length: 69\n"
          ]
        }
      ],
      "source": [
        "tokenizer = Tokenizer(lower=True)\n",
        "tokenizer.fit_on_texts(X)\n",
        "sequences = tokenizer.texts_to_sequences(X)\n",
        "word_index = tokenizer.word_index\n",
        "print(\"Vocab length:\", len(word_index) + 1)\n",
        "\n",
        "max_seq_length = np.max(list(map(lambda x: len(x), sequences)))\n",
        "print(\"Maximum sequence length:\", max_seq_length)\n",
        "sequences = pad_sequences(sequences, maxlen=max_seq_length, padding='post')"
      ]
    },
    {
      "cell_type": "code",
      "execution_count": 14,
      "metadata": {
        "id": "vFJ-Xwp52Yjn"
      },
      "outputs": [],
      "source": [
        "train_sequences, test_sequences, y_train, y_test = train_test_split(sequences, Y, train_size=0.7, shuffle=True, random_state=1)"
      ]
    },
    {
      "cell_type": "code",
      "execution_count": 15,
      "metadata": {
        "colab": {
          "base_uri": "https://localhost:8080/"
        },
        "id": "Hmt1g5NA2Yjn",
        "outputId": "c8375944-f65b-43d4-c51a-3354c24475e7"
      },
      "outputs": [
        {
          "name": "stdout",
          "output_type": "stream",
          "text": [
            "Train Set -> (3388, 69) (3388,)\n",
            "Test Set -> (1452, 69) (1452,)\n"
          ]
        }
      ],
      "source": [
        "print('Train Set ->', train_sequences.shape, y_train.shape)\n",
        "print('Test Set ->', test_sequences.shape, y_test.shape)"
      ]
    },
    {
      "attachments": {},
      "cell_type": "markdown",
      "metadata": {},
      "source": [
        "# Global Vectors for Word Representation (GloVe)"
      ]
    },
    {
      "cell_type": "code",
      "execution_count": 45,
      "metadata": {},
      "outputs": [],
      "source": [
        "vocab_size = 7714\n",
        "embedding_size = 200\n",
        "\n",
        "embeddings_index = {}\n",
        "\n",
        "with open('glove.6B.200d.txt') as f:\n",
        "    for line in f:\n",
        "        values = line.split()\n",
        "        word = values[0]\n",
        "        coefs = np.asarray(values[1:], dtype='float32')\n",
        "        embeddings_index[word] = coefs\n",
        "\n",
        "\n",
        "embeddings_matrix = np.zeros((vocab_size+1, embedding_size))\n",
        "for word, i in word_index.items():\n",
        "    embedding_vector = embeddings_index.get(word)\n",
        "    if embedding_vector is not None:\n",
        "        embeddings_matrix[i] = embedding_vector"
      ]
    },
    {
      "cell_type": "code",
      "execution_count": 46,
      "metadata": {},
      "outputs": [
        {
          "name": "stdout",
          "output_type": "stream",
          "text": [
            "(7715, 200)\n"
          ]
        }
      ],
      "source": [
        "print(embeddings_matrix.shape)"
      ]
    },
    {
      "attachments": {},
      "cell_type": "markdown",
      "metadata": {},
      "source": [
        "# CNN1d Model"
      ]
    },
    {
      "cell_type": "code",
      "execution_count": 49,
      "metadata": {},
      "outputs": [
        {
          "name": "stdout",
          "output_type": "stream",
          "text": [
            "Model: \"model_9\"\n",
            "__________________________________________________________________________________________________\n",
            " Layer (type)                   Output Shape         Param #     Connected to                     \n",
            "==================================================================================================\n",
            " input_10 (InputLayer)          [(None, 69)]         0           []                               \n",
            "                                                                                                  \n",
            " embedding_9 (Embedding)        (None, 69, 200)      1543000     ['input_10[0][0]']               \n",
            "                                                                                                  \n",
            " conv1d_35 (Conv1D)             (None, 68, 200)      80200       ['embedding_9[0][0]']            \n",
            "                                                                                                  \n",
            " conv1d_36 (Conv1D)             (None, 67, 200)      120200      ['embedding_9[0][0]']            \n",
            "                                                                                                  \n",
            " conv1d_37 (Conv1D)             (None, 66, 200)      160200      ['embedding_9[0][0]']            \n",
            "                                                                                                  \n",
            " conv1d_38 (Conv1D)             (None, 65, 200)      200200      ['embedding_9[0][0]']            \n",
            "                                                                                                  \n",
            " conv1d_39 (Conv1D)             (None, 64, 200)      240200      ['embedding_9[0][0]']            \n",
            "                                                                                                  \n",
            " global_max_pooling1d_35 (Globa  (None, 200)         0           ['conv1d_35[0][0]']              \n",
            " lMaxPooling1D)                                                                                   \n",
            "                                                                                                  \n",
            " global_max_pooling1d_36 (Globa  (None, 200)         0           ['conv1d_36[0][0]']              \n",
            " lMaxPooling1D)                                                                                   \n",
            "                                                                                                  \n",
            " global_max_pooling1d_37 (Globa  (None, 200)         0           ['conv1d_37[0][0]']              \n",
            " lMaxPooling1D)                                                                                   \n",
            "                                                                                                  \n",
            " global_max_pooling1d_38 (Globa  (None, 200)         0           ['conv1d_38[0][0]']              \n",
            " lMaxPooling1D)                                                                                   \n",
            "                                                                                                  \n",
            " global_max_pooling1d_39 (Globa  (None, 200)         0           ['conv1d_39[0][0]']              \n",
            " lMaxPooling1D)                                                                                   \n",
            "                                                                                                  \n",
            " concatenate_7 (Concatenate)    (None, 1000)         0           ['global_max_pooling1d_35[0][0]',\n",
            "                                                                  'global_max_pooling1d_36[0][0]',\n",
            "                                                                  'global_max_pooling1d_37[0][0]',\n",
            "                                                                  'global_max_pooling1d_38[0][0]',\n",
            "                                                                  'global_max_pooling1d_39[0][0]']\n",
            "                                                                                                  \n",
            " dropout_14 (Dropout)           (None, 1000)         0           ['concatenate_7[0][0]']          \n",
            "                                                                                                  \n",
            " dense_16 (Dense)               (None, 128)          128128      ['dropout_14[0][0]']             \n",
            "                                                                                                  \n",
            " dropout_15 (Dropout)           (None, 128)          0           ['dense_16[0][0]']               \n",
            "                                                                                                  \n",
            " dense_17 (Dense)               (None, 3)            387         ['dropout_15[0][0]']             \n",
            "                                                                                                  \n",
            "==================================================================================================\n",
            "Total params: 2,472,515\n",
            "Trainable params: 2,472,515\n",
            "Non-trainable params: 0\n",
            "__________________________________________________________________________________________________\n"
          ]
        }
      ],
      "source": [
        "inputs = tf.keras.Input(shape=(train_sequences.shape[1],))\n",
        "x = tf.keras.layers.Embedding(input_dim=vocab_size+1,\n",
        "                              output_dim=embedding_size,\n",
        "                              input_length=train_sequences.shape[1],\n",
        "                              weights=[embeddings_matrix])(inputs)\n",
        "\n",
        "convs = []\n",
        "filter_sizes = [2,3,4,5,6]\n",
        "\n",
        "for filter_size in filter_sizes:\n",
        "    l_conv = tf.keras.layers.Conv1D(filters=200, \n",
        "                        kernel_size=filter_size, \n",
        "                        activation='relu')(x)\n",
        "    l_pool = tf.keras.layers.GlobalMaxPooling1D()(l_conv)\n",
        "    convs.append(l_pool)\n",
        "\n",
        "l_merge = tf.keras.layers.concatenate(convs, axis=1)\n",
        "x = tf.keras.layers.Dropout(0.1)(l_merge)  \n",
        "x = tf.keras.layers.Dense(128, activation='relu')(x)\n",
        "x = tf.keras.layers.Dropout(0.2)(x)\n",
        "outputs = tf.keras.layers.Dense(3, activation='softmax')(x)\n",
        "\n",
        "\n",
        "model = tf.keras.Model(inputs=inputs, outputs=outputs)\n",
        "\n",
        "model.compile(optimizer='adam',\n",
        "              loss='sparse_categorical_crossentropy',\n",
        "              metrics=['accuracy'])\n",
        "model.summary()"
      ]
    },
    {
      "cell_type": "code",
      "execution_count": 52,
      "metadata": {},
      "outputs": [
        {
          "name": "stdout",
          "output_type": "stream",
          "text": [
            "Epoch 1/100\n",
            "95/96 [============================>.] - ETA: 0s - loss: 0.0201 - accuracy: 0.9941\n",
            "Epoch 00001: val_accuracy improved from -inf to 0.72566, saving model to ./best_model/best_model_cnn1d.h5\n",
            "96/96 [==============================] - 5s 55ms/step - loss: 0.0210 - accuracy: 0.9938 - val_loss: 1.6720 - val_accuracy: 0.7257\n",
            "Epoch 2/100\n",
            "95/96 [============================>.] - ETA: 0s - loss: 0.0501 - accuracy: 0.9891\n",
            "Epoch 00002: val_accuracy did not improve from 0.72566\n",
            "96/96 [==============================] - 5s 55ms/step - loss: 0.0500 - accuracy: 0.9892 - val_loss: 1.1717 - val_accuracy: 0.7227\n",
            "Epoch 3/100\n",
            "95/96 [============================>.] - ETA: 0s - loss: 0.0212 - accuracy: 0.9954\n",
            "Epoch 00003: val_accuracy improved from 0.72566 to 0.72861, saving model to ./best_model/best_model_cnn1d.h5\n",
            "96/96 [==============================] - 6s 59ms/step - loss: 0.0215 - accuracy: 0.9951 - val_loss: 1.3490 - val_accuracy: 0.7286\n",
            "Epoch 4/100\n",
            "95/96 [============================>.] - ETA: 0s - loss: 0.0161 - accuracy: 0.9961\n",
            "Epoch 00004: val_accuracy did not improve from 0.72861\n",
            "96/96 [==============================] - 6s 58ms/step - loss: 0.0160 - accuracy: 0.9961 - val_loss: 1.7199 - val_accuracy: 0.7168\n",
            "Epoch 5/100\n",
            "95/96 [============================>.] - ETA: 0s - loss: 0.0055 - accuracy: 0.9980\n",
            "Epoch 00005: val_accuracy did not improve from 0.72861\n",
            "96/96 [==============================] - 5s 56ms/step - loss: 0.0055 - accuracy: 0.9980 - val_loss: 1.5978 - val_accuracy: 0.7168\n",
            "Epoch 6/100\n",
            "95/96 [============================>.] - ETA: 0s - loss: 0.0207 - accuracy: 0.9944\n",
            "Epoch 00006: val_accuracy did not improve from 0.72861\n",
            "96/96 [==============================] - 6s 58ms/step - loss: 0.0207 - accuracy: 0.9944 - val_loss: 1.4890 - val_accuracy: 0.7198\n",
            "Epoch 7/100\n",
            "95/96 [============================>.] - ETA: 0s - loss: 0.0356 - accuracy: 0.9885\n",
            "Epoch 00007: val_accuracy did not improve from 0.72861\n",
            "96/96 [==============================] - 6s 57ms/step - loss: 0.0357 - accuracy: 0.9885 - val_loss: 1.6541 - val_accuracy: 0.7257\n",
            "Epoch 00007: early stopping\n"
          ]
        }
      ],
      "source": [
        "epochs = 100\n",
        "batch_size=32\n",
        "\n",
        "es = EarlyStopping(monitor='val_loss', mode='min', verbose=1, patience=5)\n",
        "mc = ModelCheckpoint('./best_model/best_model_cnn1d.h5', \n",
        "                     monitor='val_accuracy', mode='max', verbose=1, \n",
        "                     save_best_only=True)\n",
        "\n",
        "history = model.fit(train_sequences,\n",
        "                    y_train,\n",
        "                    batch_size=batch_size,\n",
        "                    epochs=epochs, \n",
        "                    validation_split=0.1,\n",
        "                    callbacks=[es, mc])"
      ]
    },
    {
      "cell_type": "code",
      "execution_count": 53,
      "metadata": {},
      "outputs": [
        {
          "name": "stdout",
          "output_type": "stream",
          "text": [
            "Test Losss: 1.29452\n",
            "Test accuracy: 73.76033%\n"
          ]
        }
      ],
      "source": [
        "saved_model = load_model('./best_model/best_model_cnn1d.h5')\n",
        "\n",
        "results = saved_model.evaluate(test_sequences, y_test, verbose =  0)\n",
        "\n",
        "print(\"Test Losss: {:.5f}\".format(results[0]))\n",
        "print(\"Test accuracy: {:.5f}%\".format(results[1]  * 100))"
      ]
    },
    {
      "attachments": {},
      "cell_type": "markdown",
      "metadata": {},
      "source": [
        "# LSTM Model"
      ]
    },
    {
      "cell_type": "code",
      "execution_count": 54,
      "metadata": {
        "colab": {
          "base_uri": "https://localhost:8080/",
          "height": 429
        },
        "id": "mHXxH7wo2Yjn",
        "outputId": "df828a91-b0bc-4f0b-e40d-79dde7835e7e"
      },
      "outputs": [],
      "source": [
        "inputs = tf.keras.Input(shape=(train_sequences.shape[1],))\n",
        "x = tf.keras.layers.Embedding(input_dim=vocab_size,\n",
        "                              output_dim=embedding_size,\n",
        "                              input_length=train_sequences.shape[1])(inputs)\n",
        "x = tf.keras.layers.LSTM(256, return_sequences=True, activation='tanh')(x)\n",
        "x = tf.keras.layers.Flatten()(x)\n",
        "outputs = tf.keras.layers.Dense(3, activation='softmax')(x)\n",
        "\n",
        "model = tf.keras.Model(inputs=inputs, outputs=outputs)\n",
        "\n",
        "model.compile(optimizer='adam',\n",
        "              loss='sparse_categorical_crossentropy',\n",
        "              metrics=['accuracy'])\n"
      ]
    },
    {
      "cell_type": "code",
      "execution_count": 55,
      "metadata": {},
      "outputs": [
        {
          "name": "stdout",
          "output_type": "stream",
          "text": [
            "Epoch 1/100\n",
            "96/96 [==============================] - ETA: 0s - loss: 0.8275 - accuracy: 0.6494\n",
            "Epoch 00001: val_accuracy improved from -inf to 0.69027, saving model to ./best_model/best_model_lstm.h5\n",
            "96/96 [==============================] - 10s 94ms/step - loss: 0.8275 - accuracy: 0.6494 - val_loss: 0.7129 - val_accuracy: 0.6903\n",
            "Epoch 2/100\n",
            "96/96 [==============================] - ETA: 0s - loss: 0.4397 - accuracy: 0.8222\n",
            "Epoch 00002: val_accuracy improved from 0.69027 to 0.72271, saving model to ./best_model/best_model_lstm.h5\n",
            "96/96 [==============================] - 9s 89ms/step - loss: 0.4397 - accuracy: 0.8222 - val_loss: 0.6900 - val_accuracy: 0.7227\n",
            "Epoch 3/100\n",
            "96/96 [==============================] - ETA: 0s - loss: 0.1736 - accuracy: 0.9364\n",
            "Epoch 00003: val_accuracy did not improve from 0.72271\n",
            "96/96 [==============================] - 8s 86ms/step - loss: 0.1736 - accuracy: 0.9364 - val_loss: 0.9803 - val_accuracy: 0.6991\n",
            "Epoch 4/100\n",
            "96/96 [==============================] - ETA: 0s - loss: 0.0855 - accuracy: 0.9702\n",
            "Epoch 00004: val_accuracy did not improve from 0.72271\n",
            "96/96 [==============================] - 9s 90ms/step - loss: 0.0855 - accuracy: 0.9702 - val_loss: 1.2557 - val_accuracy: 0.7227\n",
            "Epoch 5/100\n",
            "96/96 [==============================] - ETA: 0s - loss: 0.0537 - accuracy: 0.9829\n",
            "Epoch 00005: val_accuracy improved from 0.72271 to 0.73156, saving model to ./best_model/best_model_lstm.h5\n",
            "96/96 [==============================] - 9s 92ms/step - loss: 0.0537 - accuracy: 0.9829 - val_loss: 1.3899 - val_accuracy: 0.7316\n",
            "Epoch 6/100\n",
            "96/96 [==============================] - ETA: 0s - loss: 0.0291 - accuracy: 0.9908\n",
            "Epoch 00006: val_accuracy did not improve from 0.73156\n",
            "96/96 [==============================] - 9s 92ms/step - loss: 0.0291 - accuracy: 0.9908 - val_loss: 1.7193 - val_accuracy: 0.7021\n",
            "Epoch 7/100\n",
            "96/96 [==============================] - ETA: 0s - loss: 0.0274 - accuracy: 0.9931\n",
            "Epoch 00007: val_accuracy did not improve from 0.73156\n",
            "96/96 [==============================] - 9s 92ms/step - loss: 0.0274 - accuracy: 0.9931 - val_loss: 1.4541 - val_accuracy: 0.7139\n",
            "Epoch 00007: early stopping\n"
          ]
        }
      ],
      "source": [
        "epochs = 100\n",
        "batch_size=32\n",
        "\n",
        "es = EarlyStopping(monitor='val_loss', mode='min', verbose=1, patience=5)\n",
        "mc = ModelCheckpoint('./best_model/best_model_lstm.h5', \n",
        "                     monitor='val_accuracy', mode='max', verbose=1, \n",
        "                     save_best_only=True)\n",
        "\n",
        "history = model.fit(train_sequences,\n",
        "                    y_train,\n",
        "                    batch_size=batch_size,\n",
        "                    epochs=epochs, \n",
        "                    validation_split=0.1,\n",
        "                    callbacks=[es, mc])"
      ]
    },
    {
      "cell_type": "code",
      "execution_count": 57,
      "metadata": {
        "id": "syZ4FiJY2Yjn"
      },
      "outputs": [
        {
          "name": "stdout",
          "output_type": "stream",
          "text": [
            "Test Losss: 1.37549\n",
            "Test accuracy: 72.52066%\n"
          ]
        }
      ],
      "source": [
        "saved_model = load_model('./best_model/best_model_lstm.h5')\n",
        "\n",
        "results = saved_model.evaluate(test_sequences, y_test, verbose =  0)\n",
        "\n",
        "print(\"Test Losss: {:.5f}\".format(results[0]))\n",
        "print(\"Test accuracy: {:.5f}%\".format(results[1]  * 100))"
      ]
    }
  ],
  "metadata": {
    "accelerator": "TPU",
    "colab": {
      "provenance": []
    },
    "gpuClass": "standard",
    "kernelspec": {
      "display_name": "Python 3",
      "language": "python",
      "name": "python3"
    },
    "language_info": {
      "codemirror_mode": {
        "name": "ipython",
        "version": 3
      },
      "file_extension": ".py",
      "mimetype": "text/x-python",
      "name": "python",
      "nbconvert_exporter": "python",
      "pygments_lexer": "ipython3",
      "version": "3.8.10"
    },
    "orig_nbformat": 4
  },
  "nbformat": 4,
  "nbformat_minor": 0
}
