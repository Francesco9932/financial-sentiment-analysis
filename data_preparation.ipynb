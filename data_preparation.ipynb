{
 "cells": [
  {
   "cell_type": "code",
   "execution_count": 1,
   "metadata": {},
   "outputs": [],
   "source": [
    "import pandas as pd\n",
    "import numpy as np\n",
    "from tensorflow.keras.preprocessing.sequence import pad_sequences\n",
    "from sklearn.model_selection import train_test_split"
   ]
  },
  {
   "cell_type": "code",
   "execution_count": 2,
   "metadata": {},
   "outputs": [
    {
     "data": {
      "text/html": [
       "<div>\n",
       "<style scoped>\n",
       "    .dataframe tbody tr th:only-of-type {\n",
       "        vertical-align: middle;\n",
       "    }\n",
       "\n",
       "    .dataframe tbody tr th {\n",
       "        vertical-align: top;\n",
       "    }\n",
       "\n",
       "    .dataframe thead th {\n",
       "        text-align: right;\n",
       "    }\n",
       "</style>\n",
       "<table border=\"1\" class=\"dataframe\">\n",
       "  <thead>\n",
       "    <tr style=\"text-align: right;\">\n",
       "      <th></th>\n",
       "      <th>sentiment</th>\n",
       "      <th>news headline</th>\n",
       "    </tr>\n",
       "  </thead>\n",
       "  <tbody>\n",
       "    <tr>\n",
       "      <th>0</th>\n",
       "      <td>neutral</td>\n",
       "      <td>According to Gran , the company has no plans t...</td>\n",
       "    </tr>\n",
       "    <tr>\n",
       "      <th>1</th>\n",
       "      <td>neutral</td>\n",
       "      <td>Technopolis plans to develop in stages an area...</td>\n",
       "    </tr>\n",
       "    <tr>\n",
       "      <th>2</th>\n",
       "      <td>negative</td>\n",
       "      <td>The international electronic industry company ...</td>\n",
       "    </tr>\n",
       "    <tr>\n",
       "      <th>3</th>\n",
       "      <td>positive</td>\n",
       "      <td>With the new production plant the company woul...</td>\n",
       "    </tr>\n",
       "    <tr>\n",
       "      <th>4</th>\n",
       "      <td>positive</td>\n",
       "      <td>According to the company 's updated strategy f...</td>\n",
       "    </tr>\n",
       "  </tbody>\n",
       "</table>\n",
       "</div>"
      ],
      "text/plain": [
       "  sentiment                                      news headline\n",
       "0   neutral  According to Gran , the company has no plans t...\n",
       "1   neutral  Technopolis plans to develop in stages an area...\n",
       "2  negative  The international electronic industry company ...\n",
       "3  positive  With the new production plant the company woul...\n",
       "4  positive  According to the company 's updated strategy f..."
      ]
     },
     "execution_count": 2,
     "metadata": {},
     "output_type": "execute_result"
    }
   ],
   "source": [
    "df = pd.read_csv('all-data.csv', encoding=\"latin-1\",\n",
    "                 names=['sentiment', 'news headline'])\n",
    "df.head()"
   ]
  },
  {
   "cell_type": "code",
   "execution_count": 3,
   "metadata": {},
   "outputs": [
    {
     "data": {
      "text/plain": [
       "<AxesSubplot:>"
      ]
     },
     "execution_count": 3,
     "metadata": {},
     "output_type": "execute_result"
    },
    {
     "data": {
      "image/png": "[encoded data removed]",
      "text/plain": [
       "<Figure size 432x288 with 1 Axes>"
      ]
     },
     "metadata": {
      "needs_background": "light"
     },
     "output_type": "display_data"
    }
   ],
   "source": [
    "df['sentiment'].value_counts().plot(kind='bar')"
   ]
  },
  {
   "cell_type": "code",
   "execution_count": 4,
   "metadata": {},
   "outputs": [
    {
     "name": "stdout",
     "output_type": "stream",
     "text": [
      "original shape:  (4846, 2)\n",
      "after drop duplicates shape:  (4840, 2)\n",
      "after drop null shape:  (4840, 2)\n"
     ]
    }
   ],
   "source": [
    "print(\"original shape: \", df.shape)\n",
    "df = df.drop_duplicates()\n",
    "print(\"after drop duplicates shape: \", df.shape)\n",
    "dd_dn = df.dropna()\n",
    "print(\"after drop null shape: \", df.shape)"
   ]
  },
  {
   "cell_type": "code",
   "execution_count": 5,
   "metadata": {},
   "outputs": [
    {
     "data": {
      "text/plain": [
       "'Technopolis plans to develop in stages an area of no less than 100,000 square meters in order to host companies working in computer technologies and telecommunications , the statement said .'"
      ]
     },
     "execution_count": 5,
     "metadata": {},
     "output_type": "execute_result"
    }
   ],
   "source": [
    "df['news headline'][1]"
   ]
  },
  {
   "cell_type": "code",
   "execution_count": 6,
   "metadata": {},
   "outputs": [],
   "source": [
    "from tensorflow.keras.preprocessing.text import Tokenizer"
   ]
  },
  {
   "cell_type": "code",
   "execution_count": 7,
   "metadata": {},
   "outputs": [
    {
     "name": "stdout",
     "output_type": "stream",
     "text": [
      "Vocab length: 10123\n",
      "Maximum sequence length: 71\n"
     ]
    }
   ],
   "source": [
    "tokenizer = Tokenizer()\n",
    "tokenizer.fit_on_texts(df['news headline'])\n",
    "sequences = tokenizer.texts_to_sequences(df['news headline'])\n",
    "print(\"Vocab length:\", len(tokenizer.word_index) + 1)\n",
    "\n",
    "max_seq_length = np.max(list(map(lambda x: len(x), sequences)))\n",
    "print(\"Maximum sequence length:\", max_seq_length)\n",
    "sequences = pad_sequences(sequences, maxlen=max_seq_length, padding='post')"
   ]
  },
  {
   "cell_type": "code",
   "execution_count": 8,
   "metadata": {},
   "outputs": [],
   "source": [
    "label_mapping = {\n",
    "        'negative': 0,\n",
    "        'neutral': 1,\n",
    "        'positive': 2\n",
    "    }\n",
    "    \n",
    "y = df['sentiment'].replace(label_mapping)"
   ]
  },
  {
   "cell_type": "code",
   "execution_count": 9,
   "metadata": {},
   "outputs": [
    {
     "name": "stdout",
     "output_type": "stream",
     "text": [
      "0       1\n",
      "1       1\n",
      "2       0\n",
      "3       2\n",
      "4       2\n",
      "       ..\n",
      "4841    0\n",
      "4842    1\n",
      "4843    0\n",
      "4844    0\n",
      "4845    0\n",
      "Name: sentiment, Length: 4840, dtype: int64\n"
     ]
    }
   ],
   "source": [
    "print(y)"
   ]
  },
  {
   "cell_type": "code",
   "execution_count": 10,
   "metadata": {},
   "outputs": [],
   "source": [
    "train_sequences, test_sequences, y_train, y_test = train_test_split(sequences, y, train_size=0.7, shuffle=True, random_state=1)"
   ]
  },
  {
   "cell_type": "code",
   "execution_count": 11,
   "metadata": {},
   "outputs": [
    {
     "name": "stdout",
     "output_type": "stream",
     "text": [
      "Train Set -> (3388, 71) (3388,)\n",
      "Test Set -> (1452, 71) (1452,)\n"
     ]
    }
   ],
   "source": [
    "print('Train Set ->', train_sequences.shape, y_train.shape)\n",
    "print('Test Set ->', test_sequences.shape, y_test.shape)"
   ]
  },
  {
   "cell_type": "code",
   "execution_count": 13,
   "metadata": {},
   "outputs": [
    {
     "name": "stdout",
     "output_type": "stream",
     "text": [
      "Epoch 1/10\n",
      "106/106 [==============================] - 9s 73ms/step - loss: 0.8235 - accuracy: 0.6346\n",
      "Epoch 2/10\n",
      "106/106 [==============================] - 8s 71ms/step - loss: 0.4392 - accuracy: 0.8303\n",
      "Epoch 3/10\n",
      "106/106 [==============================] - 8s 74ms/step - loss: 0.1326 - accuracy: 0.9551\n",
      "Epoch 4/10\n",
      "106/106 [==============================] - 7s 71ms/step - loss: 0.0501 - accuracy: 0.9847\n",
      "Epoch 5/10\n",
      "106/106 [==============================] - 7s 70ms/step - loss: 0.0287 - accuracy: 0.9906\n",
      "Epoch 6/10\n",
      "106/106 [==============================] - 7s 70ms/step - loss: 0.0097 - accuracy: 0.9982\n",
      "Epoch 7/10\n",
      "106/106 [==============================] - 7s 69ms/step - loss: 0.0125 - accuracy: 0.9968\n",
      "Epoch 8/10\n",
      "106/106 [==============================] - 7s 68ms/step - loss: 0.0042 - accuracy: 0.9991\n",
      "Epoch 9/10\n",
      "106/106 [==============================] - 7s 69ms/step - loss: 0.0187 - accuracy: 0.9976\n",
      "Epoch 10/10\n",
      "106/106 [==============================] - 7s 69ms/step - loss: 0.0011 - accuracy: 1.0000\n"
     ]
    }
   ],
   "source": [
    "import tensorflow as tf\n",
    "\n",
    "\n",
    "vocab_size = 10123\n",
    "embedding_size = 128\n",
    "epochs = 10\n",
    "\n",
    "\n",
    "inputs = tf.keras.Input(shape=(train_sequences.shape[1],))\n",
    "x = tf.keras.layers.Embedding(input_dim=vocab_size,\n",
    "                              output_dim=embedding_size,\n",
    "                              input_length=train_sequences.shape[1])(inputs)\n",
    "x = tf.keras.layers.GRU(256, return_sequences=True, activation='tanh')(x)\n",
    "x = tf.keras.layers.Flatten()(x)\n",
    "outputs = tf.keras.layers.Dense(3, activation='softmax')(x)\n",
    "\n",
    "model = tf.keras.Model(inputs=inputs, outputs=outputs)\n",
    "\n",
    "model.compile(optimizer='adam',\n",
    "              loss='sparse_categorical_crossentropy',\n",
    "              metrics=['accuracy'])\n",
    "\n",
    "\n",
    "history = model.fit(train_sequences,\n",
    "                    y_train,\n",
    "                    batch_size=32,\n",
    "                    epochs=epochs)\n"
   ]
  },
  {
   "cell_type": "code",
   "execution_count": 14,
   "metadata": {},
   "outputs": [
    {
     "name": "stdout",
     "output_type": "stream",
     "text": [
      "Test Losss: 1.69004\n",
      "Test accuracy: 74.03581%\n"
     ]
    }
   ],
   "source": [
    "results = model.evaluate(test_sequences, y_test, verbose =  0)\n",
    "\n",
    "print(\"Test Losss: {:.5f}\".format(results[0]))\n",
    "print(\"Test accuracy: {:.5f}%\".format(results[1]  * 100))"
   ]
  }
 ],
 "metadata": {
  "kernelspec": {
   "display_name": "Python 3",
   "language": "python",
   "name": "python3"
  },
  "language_info": {
   "codemirror_mode": {
    "name": "ipython",
    "version": 3
   },
   "file_extension": ".py",
   "mimetype": "text/x-python",
   "name": "python",
   "nbconvert_exporter": "python",
   "pygments_lexer": "ipython3",
   "version": "3.8.10"
  },
  "orig_nbformat": 4
 },
 "nbformat": 4,
 "nbformat_minor": 2
}
